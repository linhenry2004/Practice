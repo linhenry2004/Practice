{
 "cells": [
  {
   "cell_type": "code",
   "execution_count": 1,
   "id": "1ca23e6a",
   "metadata": {},
   "outputs": [],
   "source": [
    "import numpy as np\n",
    "import pandas as pd"
   ]
  },
  {
   "cell_type": "code",
   "execution_count": 2,
   "id": "bb810e16",
   "metadata": {},
   "outputs": [
    {
     "data": {
      "text/plain": [
       "0    0\n",
       "1    2\n",
       "2    4\n",
       "3    6\n",
       "dtype: int64"
      ]
     },
     "execution_count": 2,
     "metadata": {},
     "output_type": "execute_result"
    }
   ],
   "source": [
    "s1 = pd.Series(np.arange(0, 7, 2))\n",
    "s1"
   ]
  },
  {
   "cell_type": "code",
   "execution_count": 3,
   "id": "2bd91ede",
   "metadata": {},
   "outputs": [
    {
     "data": {
      "text/plain": [
       "3    100\n",
       "5    200\n",
       "7    300\n",
       "dtype: int64"
      ]
     },
     "execution_count": 3,
     "metadata": {},
     "output_type": "execute_result"
    }
   ],
   "source": [
    "myindex = [3, 5, 7]\n",
    "price = [100, 200, 300]\n",
    "s2 = pd.Series(price, index=myindex)\n",
    "s2"
   ]
  },
  {
   "cell_type": "code",
   "execution_count": 4,
   "id": "357e69ed",
   "metadata": {},
   "outputs": [
    {
     "name": "stdout",
     "output_type": "stream",
     "text": [
      "Int64Index([3, 5, 7], dtype='int64')\n",
      "[100 200 300]\n"
     ]
    }
   ],
   "source": [
    "print(s2.index)\n",
    "print(s2.values)"
   ]
  },
  {
   "cell_type": "code",
   "execution_count": 5,
   "id": "918deae6",
   "metadata": {},
   "outputs": [
    {
     "data": {
      "text/plain": [
       "2    2\n",
       "3    3\n",
       "dtype: int64"
      ]
     },
     "execution_count": 5,
     "metadata": {},
     "output_type": "execute_result"
    }
   ],
   "source": [
    "s = pd.Series([0, 1, 2, 3, 4, 5])\n",
    "s[2:4]"
   ]
  },
  {
   "cell_type": "code",
   "execution_count": 6,
   "id": "780cc9b5",
   "metadata": {},
   "outputs": [
    {
     "data": {
      "text/plain": [
       "0    2\n",
       "1    8\n",
       "dtype: int64"
      ]
     },
     "execution_count": 6,
     "metadata": {},
     "output_type": "execute_result"
    }
   ],
   "source": [
    "x = pd.Series([1, 2])\n",
    "y = pd.Series([2, 4])\n",
    "x * y"
   ]
  },
  {
   "cell_type": "code",
   "execution_count": 7,
   "id": "6aa783d1",
   "metadata": {},
   "outputs": [
    {
     "name": "stdout",
     "output_type": "stream",
     "text": [
      "Apple     30\n",
      "Orange    20\n",
      "dtype: int64\n"
     ]
    }
   ],
   "source": [
    "fruits = ['Orange', 'Apple', 'Grape']\n",
    "x = pd.Series([20, 30, 40], index=fruits)\n",
    "print(x[['Apple', 'Orange']])"
   ]
  },
  {
   "cell_type": "markdown",
   "id": "da82ef83",
   "metadata": {},
   "source": [
    "# DataFrame"
   ]
  },
  {
   "cell_type": "code",
   "execution_count": 8,
   "id": "1295a320",
   "metadata": {},
   "outputs": [
    {
     "name": "stdout",
     "output_type": "stream",
     "text": [
      "<class 'pandas.core.series.Series'>\n",
      "2020    20\n",
      "2021    21\n",
      "2022    19\n",
      "2020    25\n",
      "2021    26\n",
      "2022    27\n",
      "2020    30\n",
      "2021    29\n",
      "2022    31\n",
      "dtype: int64\n"
     ]
    }
   ],
   "source": [
    "years = range(2020, 2023)\n",
    "beijing = pd.Series([20, 21, 19], index=years)\n",
    "hongkong = pd.Series([25, 26, 27], index=years)\n",
    "singapore = pd.Series([30, 29, 31], index=years)\n",
    "citydf = pd.concat([beijing, hongkong, singapore])\n",
    "print(type(citydf))\n",
    "print(citydf)"
   ]
  },
  {
   "cell_type": "code",
   "execution_count": 9,
   "id": "e11f241d",
   "metadata": {},
   "outputs": [
    {
     "name": "stdout",
     "output_type": "stream",
     "text": [
      "<class 'pandas.core.frame.DataFrame'>\n",
      "       0   1   2\n",
      "2020  20  25  30\n",
      "2021  21  26  29\n",
      "2022  19  27  31\n"
     ]
    }
   ],
   "source": [
    "citydf2 = pd.concat([beijing, hongkong, singapore], axis=1)\n",
    "print(type(citydf2))\n",
    "print(citydf2)"
   ]
  },
  {
   "cell_type": "code",
   "execution_count": 10,
   "id": "6cddb623",
   "metadata": {},
   "outputs": [
    {
     "name": "stdout",
     "output_type": "stream",
     "text": [
      "      Beijing  Hongkong  Singapore\n",
      "2020       20        25         30\n",
      "2021       21        26         29\n",
      "2022       19        27         31\n"
     ]
    }
   ],
   "source": [
    "citydf2.columns = ['Beijing', 'Hongkong', 'Singapore']\n",
    "print(citydf2)"
   ]
  },
  {
   "cell_type": "code",
   "execution_count": 11,
   "id": "05f3fef8",
   "metadata": {},
   "outputs": [
    {
     "name": "stdout",
     "output_type": "stream",
     "text": [
      "   apple  orange  grape\n",
      "0     50    30.0     80\n",
      "1     50     NaN     80\n"
     ]
    }
   ],
   "source": [
    "# Use dictionary to create DataFrame\n",
    "data = [{'apple': 50, 'orange': 30, 'grape': 80}, {'apple': 50, 'grape': 80}]\n",
    "fruits = pd.DataFrame(data)\n",
    "print(fruits)"
   ]
  },
  {
   "cell_type": "code",
   "execution_count": 12,
   "id": "6e842bca",
   "metadata": {},
   "outputs": [
    {
     "name": "stdout",
     "output_type": "stream",
     "text": [
      "     country       town  population\n",
      "0      China    Beijing        2000\n",
      "1      Japan      Tokyo        1600\n",
      "2  Singapore  Singapore         600\n"
     ]
    }
   ],
   "source": [
    "cities = {'country': ['China', 'Japan', 'Singapore'], \n",
    "          'town': ['Beijing', 'Tokyo', 'Singapore'],\n",
    "          'population': [2000, 1600, 600]}\n",
    "citydf3 = pd.DataFrame(cities)\n",
    "print(citydf3)"
   ]
  },
  {
   "cell_type": "code",
   "execution_count": 13,
   "id": "91c295d8",
   "metadata": {},
   "outputs": [
    {
     "name": "stdout",
     "output_type": "stream",
     "text": [
      "          country       town  population\n",
      "first       China    Beijing        2000\n",
      "second      Japan      Tokyo        1600\n",
      "third   Singapore  Singapore         600\n"
     ]
    }
   ],
   "source": [
    "citydf3 = pd.DataFrame(cities, index=['first', 'second', 'third'])\n",
    "print(citydf3)"
   ]
  },
  {
   "cell_type": "code",
   "execution_count": 14,
   "id": "1b8c89ce",
   "metadata": {},
   "outputs": [
    {
     "name": "stdout",
     "output_type": "stream",
     "text": [
      "                town  population\n",
      "China        Beijing        2000\n",
      "Japan          Tokyo        1600\n",
      "Singapore  Singapore         600\n"
     ]
    }
   ],
   "source": [
    "citydf4 = pd.DataFrame(cities, columns=['town', 'population'], index=cities['country'])\n",
    "print(citydf4)"
   ]
  },
  {
   "cell_type": "markdown",
   "id": "f6b6dc48",
   "metadata": {},
   "source": [
    "# Data Processing"
   ]
  },
  {
   "cell_type": "code",
   "execution_count": 15,
   "id": "fbb77444",
   "metadata": {},
   "outputs": [
    {
     "name": "stdout",
     "output_type": "stream",
     "text": [
      "                Town  Population\n",
      "China        Beijing        2000\n",
      "China       Shanghai        2300\n",
      "Thailand     Bangkok         900\n",
      "Japan          Tokyo        1600\n",
      "Singapore  Singapore         600\n"
     ]
    }
   ],
   "source": [
    "cities = {'Country':['China', 'China', 'Thailand', 'Japan', 'Singapore'], \n",
    "          'Town':['Beijing', 'Shanghai', 'Bangkok', 'Tokyo', 'Singapore'], \n",
    "          'Population':[2000, 2300, 900, 1600, 600]}\n",
    "df = pd.DataFrame(cities, columns=['Town', 'Population'], index=cities['Country'])\n",
    "print(df)"
   ]
  },
  {
   "cell_type": "code",
   "execution_count": 16,
   "id": "792ef164",
   "metadata": {},
   "outputs": [
    {
     "data": {
      "text/plain": [
       "China     Beijing\n",
       "China    Shanghai\n",
       "Name: Town, dtype: object"
      ]
     },
     "execution_count": 16,
     "metadata": {},
     "output_type": "execute_result"
    }
   ],
   "source": [
    "df.at['China', 'Town']"
   ]
  },
  {
   "cell_type": "code",
   "execution_count": 17,
   "id": "20d40736",
   "metadata": {},
   "outputs": [
    {
     "data": {
      "text/plain": [
       "'Bangkok'"
      ]
     },
     "execution_count": 17,
     "metadata": {},
     "output_type": "execute_result"
    }
   ],
   "source": [
    "df.iat[2,0]"
   ]
  },
  {
   "cell_type": "code",
   "execution_count": 18,
   "id": "0fe6eadd",
   "metadata": {},
   "outputs": [
    {
     "data": {
      "text/plain": [
       "Town          Singapore\n",
       "Population          600\n",
       "Name: Singapore, dtype: object"
      ]
     },
     "execution_count": 18,
     "metadata": {},
     "output_type": "execute_result"
    }
   ],
   "source": [
    "df.loc['Singapore']"
   ]
  },
  {
   "cell_type": "code",
   "execution_count": 19,
   "id": "b23f5ee2",
   "metadata": {},
   "outputs": [
    {
     "data": {
      "text/html": [
       "<div>\n",
       "<style scoped>\n",
       "    .dataframe tbody tr th:only-of-type {\n",
       "        vertical-align: middle;\n",
       "    }\n",
       "\n",
       "    .dataframe tbody tr th {\n",
       "        vertical-align: top;\n",
       "    }\n",
       "\n",
       "    .dataframe thead th {\n",
       "        text-align: right;\n",
       "    }\n",
       "</style>\n",
       "<table border=\"1\" class=\"dataframe\">\n",
       "  <thead>\n",
       "    <tr style=\"text-align: right;\">\n",
       "      <th></th>\n",
       "      <th>Town</th>\n",
       "      <th>Population</th>\n",
       "    </tr>\n",
       "  </thead>\n",
       "  <tbody>\n",
       "    <tr>\n",
       "      <th>Japan</th>\n",
       "      <td>Tokyo</td>\n",
       "      <td>1600</td>\n",
       "    </tr>\n",
       "    <tr>\n",
       "      <th>Thailand</th>\n",
       "      <td>Bangkok</td>\n",
       "      <td>900</td>\n",
       "    </tr>\n",
       "  </tbody>\n",
       "</table>\n",
       "</div>"
      ],
      "text/plain": [
       "             Town  Population\n",
       "Japan       Tokyo        1600\n",
       "Thailand  Bangkok         900"
      ]
     },
     "execution_count": 19,
     "metadata": {},
     "output_type": "execute_result"
    }
   ],
   "source": [
    "df.loc[['Japan', 'Thailand']]"
   ]
  },
  {
   "cell_type": "code",
   "execution_count": 20,
   "id": "400f4309",
   "metadata": {},
   "outputs": [
    {
     "data": {
      "text/html": [
       "<div>\n",
       "<style scoped>\n",
       "    .dataframe tbody tr th:only-of-type {\n",
       "        vertical-align: middle;\n",
       "    }\n",
       "\n",
       "    .dataframe tbody tr th {\n",
       "        vertical-align: top;\n",
       "    }\n",
       "\n",
       "    .dataframe thead th {\n",
       "        text-align: right;\n",
       "    }\n",
       "</style>\n",
       "<table border=\"1\" class=\"dataframe\">\n",
       "  <thead>\n",
       "    <tr style=\"text-align: right;\">\n",
       "      <th></th>\n",
       "      <th>Town</th>\n",
       "      <th>Population</th>\n",
       "    </tr>\n",
       "  </thead>\n",
       "  <tbody>\n",
       "    <tr>\n",
       "      <th>China</th>\n",
       "      <td>Beijing</td>\n",
       "      <td>2000</td>\n",
       "    </tr>\n",
       "    <tr>\n",
       "      <th>China</th>\n",
       "      <td>Shanghai</td>\n",
       "      <td>2300</td>\n",
       "    </tr>\n",
       "    <tr>\n",
       "      <th>Thailand</th>\n",
       "      <td>Bangkok</td>\n",
       "      <td>900</td>\n",
       "    </tr>\n",
       "  </tbody>\n",
       "</table>\n",
       "</div>"
      ],
      "text/plain": [
       "              Town  Population\n",
       "China      Beijing        2000\n",
       "China     Shanghai        2300\n",
       "Thailand   Bangkok         900"
      ]
     },
     "execution_count": 20,
     "metadata": {},
     "output_type": "execute_result"
    }
   ],
   "source": [
    "df.loc['China':'Thailand','Town':'Population']"
   ]
  },
  {
   "cell_type": "code",
   "execution_count": 21,
   "id": "2a292854",
   "metadata": {},
   "outputs": [
    {
     "data": {
      "text/plain": [
       "Town          Beijing\n",
       "Population       2000\n",
       "Name: China, dtype: object"
      ]
     },
     "execution_count": 21,
     "metadata": {},
     "output_type": "execute_result"
    }
   ],
   "source": [
    "df.iloc[0]"
   ]
  },
  {
   "cell_type": "code",
   "execution_count": 22,
   "id": "495b4255",
   "metadata": {},
   "outputs": [
    {
     "data": {
      "text/html": [
       "<div>\n",
       "<style scoped>\n",
       "    .dataframe tbody tr th:only-of-type {\n",
       "        vertical-align: middle;\n",
       "    }\n",
       "\n",
       "    .dataframe tbody tr th {\n",
       "        vertical-align: top;\n",
       "    }\n",
       "\n",
       "    .dataframe thead th {\n",
       "        text-align: right;\n",
       "    }\n",
       "</style>\n",
       "<table border=\"1\" class=\"dataframe\">\n",
       "  <thead>\n",
       "    <tr style=\"text-align: right;\">\n",
       "      <th></th>\n",
       "      <th>Town</th>\n",
       "      <th>Population</th>\n",
       "    </tr>\n",
       "  </thead>\n",
       "  <tbody>\n",
       "    <tr>\n",
       "      <th>China</th>\n",
       "      <td>Beijing</td>\n",
       "      <td>2000</td>\n",
       "    </tr>\n",
       "    <tr>\n",
       "      <th>China</th>\n",
       "      <td>Shanghai</td>\n",
       "      <td>2300</td>\n",
       "    </tr>\n",
       "    <tr>\n",
       "      <th>Japan</th>\n",
       "      <td>Tokyo</td>\n",
       "      <td>1600</td>\n",
       "    </tr>\n",
       "  </tbody>\n",
       "</table>\n",
       "</div>"
      ],
      "text/plain": [
       "           Town  Population\n",
       "China   Beijing        2000\n",
       "China  Shanghai        2300\n",
       "Japan     Tokyo        1600"
      ]
     },
     "execution_count": 22,
     "metadata": {},
     "output_type": "execute_result"
    }
   ],
   "source": [
    "df[df['Population'] > 1000]"
   ]
  },
  {
   "cell_type": "markdown",
   "id": "9267993d",
   "metadata": {},
   "source": [
    "# Numpy with Pandas"
   ]
  },
  {
   "cell_type": "code",
   "execution_count": 23,
   "id": "23c75255",
   "metadata": {},
   "outputs": [
    {
     "name": "stdout",
     "output_type": "stream",
     "text": [
      "        Frank  Peter  John\n",
      "first      93     86    89\n",
      "second     92     82    84\n",
      "final      91     64    69\n"
     ]
    }
   ],
   "source": [
    "name = ['Frank', 'Peter', 'John']\n",
    "score = ['first', 'second', 'final']\n",
    "df = pd.DataFrame(np.random.randint(60, 100, size=(3,3)), \n",
    "                  columns=name, index=score)\n",
    "print(df)"
   ]
  },
  {
   "cell_type": "code",
   "execution_count": 24,
   "id": "2fbd3789",
   "metadata": {},
   "outputs": [
    {
     "name": "stdout",
     "output_type": "stream",
     "text": [
      "0     NaN\n",
      "1     NaN\n",
      "2    13.0\n",
      "dtype: float64\n"
     ]
    }
   ],
   "source": [
    "s1 = pd.Series([1, np.nan, 5])\n",
    "s2 = pd.Series([np.nan, 6, 8])\n",
    "x = s1.add(s2)\n",
    "print(x)"
   ]
  },
  {
   "cell_type": "code",
   "execution_count": 25,
   "id": "81562366",
   "metadata": {},
   "outputs": [
    {
     "name": "stdout",
     "output_type": "stream",
     "text": [
      "0    False\n",
      "1     True\n",
      "2    False\n",
      "dtype: bool\n",
      "0     True\n",
      "1    False\n",
      "2     True\n",
      "dtype: bool\n"
     ]
    }
   ],
   "source": [
    "print(s1.isna())\n",
    "print(s1.notna())"
   ]
  },
  {
   "cell_type": "code",
   "execution_count": 26,
   "id": "2f581201",
   "metadata": {},
   "outputs": [
    {
     "name": "stdout",
     "output_type": "stream",
     "text": [
      "   0    1    2\n",
      "0  1  2.0  3.0\n",
      "1  4  0.0  6.0\n",
      "2  7  8.0  0.0\n"
     ]
    }
   ],
   "source": [
    "df2 = pd.DataFrame([[1,2,3],[4,np.nan,6],[7,8,np.nan]])\n",
    "print(df2.fillna(0))"
   ]
  },
  {
   "cell_type": "code",
   "execution_count": 27,
   "id": "a8d43e59",
   "metadata": {},
   "outputs": [
    {
     "name": "stdout",
     "output_type": "stream",
     "text": [
      "   0    1    2\n",
      "0  1  2.0  3.0\n"
     ]
    }
   ],
   "source": [
    "print(df2.dropna())"
   ]
  },
  {
   "cell_type": "code",
   "execution_count": 28,
   "id": "2633c3b8",
   "metadata": {},
   "outputs": [
    {
     "name": "stdout",
     "output_type": "stream",
     "text": [
      "   0\n",
      "0  1\n",
      "1  4\n",
      "2  7\n"
     ]
    }
   ],
   "source": [
    "print(df2.dropna(axis='columns'))"
   ]
  },
  {
   "cell_type": "markdown",
   "id": "5a7900b9",
   "metadata": {},
   "source": [
    "# Simple Statistics\n",
    "## Example 1"
   ]
  },
  {
   "cell_type": "code",
   "execution_count": 29,
   "id": "6c894980",
   "metadata": {},
   "outputs": [
    {
     "name": "stdout",
     "output_type": "stream",
     "text": [
      "                Town  Population\n",
      "China        Beijing        2000\n",
      "China       Shanghai        2300\n",
      "Thailand     Bangkok         900\n",
      "Japan          Tokyo        1600\n",
      "Singapore  Singapore         600\n"
     ]
    }
   ],
   "source": [
    "cities = {'Country': ['China', 'China', 'Thailand', 'Japan', 'Singapore'], \n",
    "          'Town': ['Beijing', 'Shanghai', 'Bangkok', 'Tokyo', 'Singapore'], \n",
    "          'Population': [2000, 2300, 900, 1600, 600]}\n",
    "df = pd.DataFrame(cities, columns=['Town', 'Population'], index=cities['Country'])\n",
    "print(df)"
   ]
  },
  {
   "cell_type": "code",
   "execution_count": 30,
   "id": "68b298b0",
   "metadata": {},
   "outputs": [
    {
     "name": "stdout",
     "output_type": "stream",
     "text": [
      "7400\n"
     ]
    }
   ],
   "source": [
    "print(df['Population'].sum())"
   ]
  },
  {
   "cell_type": "code",
   "execution_count": 31,
   "id": "94b02579",
   "metadata": {},
   "outputs": [
    {
     "name": "stdout",
     "output_type": "stream",
     "text": [
      "China        2000\n",
      "China        4300\n",
      "Thailand     5200\n",
      "Japan        6800\n",
      "Singapore    7400\n",
      "Name: Population, dtype: int64\n"
     ]
    }
   ],
   "source": [
    "y = df['Population'].cumsum()\n",
    "print(y)"
   ]
  },
  {
   "cell_type": "code",
   "execution_count": 32,
   "id": "d020d1d9",
   "metadata": {},
   "outputs": [
    {
     "name": "stdout",
     "output_type": "stream",
     "text": [
      "                Town  Population  Cum Population\n",
      "China        Beijing        2000            2000\n",
      "China       Shanghai        2300            4300\n",
      "Thailand     Bangkok         900            5200\n",
      "Japan          Tokyo        1600            6800\n",
      "Singapore  Singapore         600            7400\n"
     ]
    }
   ],
   "source": [
    "df['Cum Population'] = y\n",
    "print(df)"
   ]
  },
  {
   "cell_type": "code",
   "execution_count": 33,
   "id": "957ad446",
   "metadata": {},
   "outputs": [
    {
     "data": {
      "text/plain": [
       "600"
      ]
     },
     "execution_count": 33,
     "metadata": {},
     "output_type": "execute_result"
    }
   ],
   "source": [
    "df['Population'].max()\n",
    "df['Population'].min()"
   ]
  },
  {
   "cell_type": "markdown",
   "id": "8f28be2b",
   "metadata": {},
   "source": [
    "## Example 2"
   ]
  },
  {
   "cell_type": "code",
   "execution_count": 34,
   "id": "2ef7cd20",
   "metadata": {},
   "outputs": [
    {
     "name": "stdout",
     "output_type": "stream",
     "text": [
      "   Chinese  English  Math  Science  Social Studies\n",
      "1       14       12    13       10              13\n",
      "2       13       14    11       10              15\n",
      "3       15        9    12        8              15\n",
      "4       15       10    13       10              15\n",
      "5       12       11    14        9              14\n"
     ]
    }
   ],
   "source": [
    "course = ['Chinese', 'English', 'Math', 'Science', 'Social Studies']\n",
    "chinese = [14, 12, 13, 10, 13]\n",
    "english = [13, 14, 11, 10, 15]\n",
    "math = [15, 9, 12, 8, 15]\n",
    "science = [15, 10, 13, 10, 15]\n",
    "social = [12, 11, 14, 9, 14]\n",
    "\n",
    "df = pd.DataFrame([chinese, english, math, science, social], \n",
    "                  columns=course, index=range(1, 6))\n",
    "print(df)"
   ]
  },
  {
   "cell_type": "code",
   "execution_count": 35,
   "id": "b43467ec",
   "metadata": {},
   "outputs": [
    {
     "name": "stdout",
     "output_type": "stream",
     "text": [
      "   Chinese  English  Math  Science  Social Studies  Total\n",
      "1       14       12    13       10              13     62\n",
      "2       13       14    11       10              15     63\n",
      "3       15        9    12        8              15     59\n",
      "4       15       10    13       10              15     63\n",
      "5       12       11    14        9              14     60\n"
     ]
    }
   ],
   "source": [
    "total = [df.iloc[i].sum() for i in range(0, 5)]\n",
    "df['Total'] = total\n",
    "print(df)"
   ]
  },
  {
   "cell_type": "code",
   "execution_count": 36,
   "id": "e7499c82",
   "metadata": {},
   "outputs": [
    {
     "name": "stdout",
     "output_type": "stream",
     "text": [
      "         Chinese  English  Math  Science  Social Studies  Total\n",
      "1           14.0     12.0  13.0     10.0            13.0   62.0\n",
      "2           13.0     14.0  11.0     10.0            15.0   63.0\n",
      "3           15.0      9.0  12.0      8.0            15.0   59.0\n",
      "4           15.0     10.0  13.0     10.0            15.0   63.0\n",
      "5           12.0     11.0  14.0      9.0            14.0   60.0\n",
      "Average     13.8     11.2  12.6      9.4            14.4   61.4\n"
     ]
    }
   ],
   "source": [
    "df.loc['Average'] = df.mean()\n",
    "print(df)"
   ]
  },
  {
   "cell_type": "code",
   "execution_count": 37,
   "id": "d4ff53b2",
   "metadata": {
    "scrolled": true
   },
   "outputs": [
    {
     "name": "stdout",
     "output_type": "stream",
     "text": [
      "   Chinese  English  Math  Science  Social Studies  Total\n",
      "1     14.0     12.0  13.0     10.0            13.0   62.0\n",
      "2     13.0     14.0  11.0     10.0            15.0   63.0\n",
      "3     15.0      9.0  12.0      8.0            15.0   59.0\n",
      "4     15.0     10.0  13.0     10.0            15.0   63.0\n",
      "5     12.0     11.0  14.0      9.0            14.0   60.0\n"
     ]
    }
   ],
   "source": [
    "df = df.drop(index=['Average']) # Use axis=1 for columns\n",
    "print(df)"
   ]
  },
  {
   "cell_type": "code",
   "execution_count": 38,
   "id": "9c9cb457",
   "metadata": {},
   "outputs": [
    {
     "name": "stdout",
     "output_type": "stream",
     "text": [
      "   Chinese  English  Math  Science  Social Studies  Total\n",
      "2     13.0     14.0  11.0     10.0            15.0   63.0\n",
      "4     15.0     10.0  13.0     10.0            15.0   63.0\n",
      "1     14.0     12.0  13.0     10.0            13.0   62.0\n",
      "5     12.0     11.0  14.0      9.0            14.0   60.0\n",
      "3     15.0      9.0  12.0      8.0            15.0   59.0\n"
     ]
    }
   ],
   "source": [
    "df = df.sort_values(by='Total', ascending=False)\n",
    "print(df)"
   ]
  },
  {
   "cell_type": "code",
   "execution_count": 41,
   "id": "1dcd96e4",
   "metadata": {},
   "outputs": [
    {
     "name": "stdout",
     "output_type": "stream",
     "text": [
      "   Chinese  English  Math  Science  Social Studies  Total  Ranking\n",
      "2     13.0     14.0  11.0     10.0            15.0   63.0        1\n",
      "4     15.0     10.0  13.0     10.0            15.0   63.0        2\n",
      "1     14.0     12.0  13.0     10.0            13.0   62.0        3\n",
      "5     12.0     11.0  14.0      9.0            14.0   60.0        4\n",
      "3     15.0      9.0  12.0      8.0            15.0   59.0        5\n"
     ]
    }
   ],
   "source": [
    "rank = range(1, 6)\n",
    "df['Ranking'] = rank\n",
    "print(df)"
   ]
  },
  {
   "cell_type": "code",
   "execution_count": 42,
   "id": "b878224e",
   "metadata": {},
   "outputs": [
    {
     "name": "stdout",
     "output_type": "stream",
     "text": [
      "   Chinese  English  Math  Science  Social Studies  Total  Ranking\n",
      "2     13.0     14.0  11.0     10.0            15.0   63.0        1\n",
      "4     15.0     10.0  13.0     10.0            15.0   63.0        1\n",
      "1     14.0     12.0  13.0     10.0            13.0   62.0        3\n",
      "5     12.0     11.0  14.0      9.0            14.0   60.0        4\n",
      "3     15.0      9.0  12.0      8.0            15.0   59.0        5\n"
     ]
    }
   ],
   "source": [
    "for i in range(1, 5): \n",
    "    if df.iat[i, 5] == df.iat[i-1, 5]: \n",
    "        df.iat[i, 6] = df.iat[i-1, 6]\n",
    "print(df)"
   ]
  },
  {
   "cell_type": "code",
   "execution_count": 43,
   "id": "3f503b85",
   "metadata": {},
   "outputs": [
    {
     "name": "stdout",
     "output_type": "stream",
     "text": [
      "   Chinese  English  Math  Science  Social Studies  Total  Ranking\n",
      "1     14.0     12.0  13.0     10.0            13.0   62.0        3\n",
      "2     13.0     14.0  11.0     10.0            15.0   63.0        1\n",
      "3     15.0      9.0  12.0      8.0            15.0   59.0        5\n",
      "4     15.0     10.0  13.0     10.0            15.0   63.0        1\n",
      "5     12.0     11.0  14.0      9.0            14.0   60.0        4\n"
     ]
    }
   ],
   "source": [
    "df = df.sort_index()\n",
    "print(df)"
   ]
  },
  {
   "cell_type": "markdown",
   "id": "40141fae",
   "metadata": {},
   "source": [
    "# Read & Write CSV Files"
   ]
  },
  {
   "cell_type": "code",
   "execution_count": 45,
   "id": "b54cc300",
   "metadata": {},
   "outputs": [],
   "source": [
    "df.to_csv('grades.csv')"
   ]
  },
  {
   "cell_type": "code",
   "execution_count": 46,
   "id": "20fedb28",
   "metadata": {},
   "outputs": [],
   "source": [
    "df.to_csv('gradesWithoutHeader.csv', header=False, index=False)"
   ]
  },
  {
   "cell_type": "code",
   "execution_count": 51,
   "id": "12a2f3c5",
   "metadata": {},
   "outputs": [
    {
     "name": "stdout",
     "output_type": "stream",
     "text": [
      "   Chinese  English  Math  Science  Social Studies  Total  Ranking\n",
      "1     14.0     12.0  13.0     10.0            13.0   62.0        3\n",
      "2     13.0     14.0  11.0     10.0            15.0   63.0        1\n",
      "3     15.0      9.0  12.0      8.0            15.0   59.0        5\n",
      "4     15.0     10.0  13.0     10.0            15.0   63.0        1\n",
      "5     12.0     11.0  14.0      9.0            14.0   60.0        4\n",
      "   Chinese  English  Math  Science  Social Studies  Total  Ranking\n",
      "0     14.0     12.0  13.0     10.0            13.0   62.0        3\n",
      "1     13.0     14.0  11.0     10.0            15.0   63.0        1\n",
      "2     15.0      9.0  12.0      8.0            15.0   59.0        5\n",
      "3     15.0     10.0  13.0     10.0            15.0   63.0        1\n",
      "4     12.0     11.0  14.0      9.0            14.0   60.0        4\n"
     ]
    }
   ],
   "source": [
    "courses = ['Chinese', 'English', 'Math', 'Science', 'Social Studies', 'Total', 'Ranking']\n",
    "x = pd.read_csv('grades.csv', index_col=0)\n",
    "y = pd.read_csv('gradesWithoutHeader.csv', names=courses)\n",
    "print(x)\n",
    "print(y)"
   ]
  },
  {
   "cell_type": "code",
   "execution_count": 52,
   "id": "19d4e634",
   "metadata": {},
   "outputs": [],
   "source": [
    "df.to_excel('grades.xlsx', index=False)"
   ]
  },
  {
   "cell_type": "code",
   "execution_count": 53,
   "id": "d0a135d4",
   "metadata": {},
   "outputs": [
    {
     "name": "stdout",
     "output_type": "stream",
     "text": [
      "   Chinese  English  Math  Science  Social Studies  Total  Ranking\n",
      "0       14       12    13       10              13     62        3\n",
      "1       13       14    11       10              15     63        1\n",
      "2       15        9    12        8              15     59        5\n",
      "3       15       10    13       10              15     63        1\n",
      "4       12       11    14        9              14     60        4\n"
     ]
    }
   ],
   "source": [
    "df = pd.read_excel('grades.xlsx')\n",
    "print(df)"
   ]
  },
  {
   "cell_type": "code",
   "execution_count": 55,
   "id": "9cfb6ec8",
   "metadata": {},
   "outputs": [],
   "source": [
    "df_test1 = pd.DataFrame({'Name': ['Tom', 'John'], \n",
    "                         'Math': [88, 92], \n",
    "                         'English': [76, 96], \n",
    "                         'Total': [164, 188]})\n",
    "df_test2 = pd.DataFrame({'Name': ['Tom', 'John'], \n",
    "                         'Math': [100, 92], \n",
    "                         'English': [99, 96], \n",
    "                         'Total': [199, 188]})\n",
    "\n",
    "with pd.ExcelWriter('grade2.xlsx') as writer: \n",
    "    df_test1.to_excel(writer, index=False, sheet_name='test1')\n",
    "    df_test2.to_excel(writer, index=False, sheet_name='test2')"
   ]
  },
  {
   "cell_type": "markdown",
   "id": "e186eef5",
   "metadata": {},
   "source": [
    "\n",
    "# Practice"
   ]
  },
  {
   "cell_type": "code",
   "execution_count": 58,
   "id": "a668f0d2",
   "metadata": {},
   "outputs": [
    {
     "name": "stdout",
     "output_type": "stream",
     "text": [
      "2021    400\n",
      "2022    420\n",
      "2023    250\n",
      "2024    280\n",
      "2025    500\n",
      "dtype: int64\n"
     ]
    }
   ],
   "source": [
    "# Question 1\n",
    "tourist = [400, 420, 250, 280, 500]\n",
    "year = range(2021, 2026)\n",
    "df = pd.Series(tourist, index=year)\n",
    "print(df)"
   ]
  },
  {
   "cell_type": "code",
   "execution_count": 65,
   "id": "b55e271f",
   "metadata": {},
   "outputs": [
    {
     "name": "stdout",
     "output_type": "stream",
     "text": [
      "               Population\n",
      "North America        3.80\n",
      "South America        6.20\n",
      "Europe               7.40\n",
      "Africa              12.28\n",
      "Asia                45.45\n"
     ]
    }
   ],
   "source": [
    "# Question 2\n",
    "continents = {'Population': [3.8, 6.2, 7.4, 12.28, 45.45], \n",
    "              'Place': ['North America', 'South America', 'Europe', 'Africa', 'Asia']}\n",
    "df = pd.DataFrame(continents, columns=['Population'], index=continents['Place'])\n",
    "print(df)"
   ]
  },
  {
   "cell_type": "code",
   "execution_count": 66,
   "id": "2530f71e",
   "metadata": {},
   "outputs": [
    {
     "name": "stdout",
     "output_type": "stream",
     "text": [
      "               Population  Cumulative\n",
      "North America        3.80        3.80\n",
      "South America        6.20       10.00\n",
      "Europe               7.40       17.40\n",
      "Africa              12.28       29.68\n",
      "Asia                45.45       75.13\n"
     ]
    }
   ],
   "source": [
    "# Question 3\n",
    "df['Cumulative'] = df['Population'].cumsum()\n",
    "print(df)"
   ]
  },
  {
   "cell_type": "code",
   "execution_count": 68,
   "id": "fe8f7a48",
   "metadata": {},
   "outputs": [
    {
     "name": "stdout",
     "output_type": "stream",
     "text": [
      "   BVolumn    Buy   Sell  SVolumn\n",
      "1      800  238.5  239.0     1753\n",
      "2      166  238.0  239.5     1439\n",
      "3      882  237.5  240.0     7229\n",
      "4     1425  237.0  240.5      540\n",
      "5     1639  236.5  241.0      642\n"
     ]
    }
   ],
   "source": [
    "# Question 4\n",
    "elec = {'BVolumn': [800, 166, 882, 1425, 1639], \n",
    "        'Buy': [238.5, 238, 237.5, 237, 236.5], \n",
    "        'Sell': [239, 239.5, 240, 240.5, 241], \n",
    "        'SVolumn': [1753, 1439, 7229, 540, 642]}\n",
    "df = pd.DataFrame(elec, index=range(1, 6))\n",
    "print(df)"
   ]
  },
  {
   "cell_type": "code",
   "execution_count": 84,
   "id": "b3f7d6b9",
   "metadata": {},
   "outputs": [
    {
     "name": "stdout",
     "output_type": "stream",
     "text": [
      "         Chinese  English  Math  Science  Social  Total  Ranking\n",
      "1           14.0     12.0  13.0     10.0    13.0   62.0      3.0\n",
      "2           13.0     14.0  11.0     10.0    15.0   63.0      1.0\n",
      "3           15.0      9.0  12.0      8.0    15.0   59.0      5.0\n",
      "4           15.0     10.0  13.0     10.0    15.0   63.0      1.0\n",
      "5           12.0     11.0  14.0      9.0    14.0   60.0      4.0\n",
      "Average     13.8     11.2  12.6      9.4    14.4   61.4      NaN\n"
     ]
    }
   ],
   "source": [
    "# Question 5\n",
    "grades = {'Chinese': [14, 13, 15, 15, 12], \n",
    "          'English': [12, 14, 9, 10, 11], \n",
    "          'Math': [13, 11, 12, 13, 14], \n",
    "          'Science': [10, 10, 8, 10, 9], \n",
    "          'Social': [13, 15, 15, 15, 14]}\n",
    "\n",
    "df = pd.DataFrame(grades, index=range(1, 6))\n",
    "\n",
    "df['Total'] = df.sum(axis=1)\n",
    "\n",
    "df = df.sort_values(by='Total', ascending=False)\n",
    "df['Ranking'] = range(1, 6)\n",
    "for i in range(1, 5): \n",
    "    if df.iat[i, 5] == df.iat[i-1, 5]: \n",
    "        df.iat[i, 6] = df.iat[i-1, 6]\n",
    "df = df.sort_index()\n",
    "\n",
    "df.loc['Average'] = df.mean()\n",
    "df['Ranking']['Average'] = np.nan\n",
    "print(df)\n",
    "\n",
    "df.to_csv('Q5.csv')"
   ]
  },
  {
   "cell_type": "code",
   "execution_count": 87,
   "id": "2857ee67",
   "metadata": {},
   "outputs": [
    {
     "ename": "SyntaxError",
     "evalue": "invalid syntax (<ipython-input-87-2f44369e6c44>, line 4)",
     "output_type": "error",
     "traceback": [
      "\u001b[0;36m  File \u001b[0;32m\"<ipython-input-87-2f44369e6c44>\"\u001b[0;36m, line \u001b[0;32m4\u001b[0m\n\u001b[0;31m    'Cities': ['New York', 'Chicago', 'Bangkok', 'Tokyo', 'Singapore', 'Hong Kong']}\u001b[0m\n\u001b[0m    ^\u001b[0m\n\u001b[0;31mSyntaxError\u001b[0m\u001b[0;31m:\u001b[0m invalid syntax\n"
     ]
    }
   ],
   "source": [
    "# Question 6\n",
    "density = {'Population': [1000, 850, 800, 1500, 600, 800], \n",
    "           'Area': [400, 500, 850, 300, 200, 320]\n",
    "           'Cities': ['New York', 'Chicago', 'Bangkok', 'Tokyo', 'Singapore', 'Hong Kong']}\n",
    "df = pd.DataFrame(density)\n",
    "print(df)"
   ]
  },
  {
   "cell_type": "code",
   "execution_count": null,
   "id": "6356f7eb",
   "metadata": {},
   "outputs": [],
   "source": []
  }
 ],
 "metadata": {
  "kernelspec": {
   "display_name": "Python 3",
   "language": "python",
   "name": "python3"
  },
  "language_info": {
   "codemirror_mode": {
    "name": "ipython",
    "version": 3
   },
   "file_extension": ".py",
   "mimetype": "text/x-python",
   "name": "python",
   "nbconvert_exporter": "python",
   "pygments_lexer": "ipython3",
   "version": "3.8.8"
  }
 },
 "nbformat": 4,
 "nbformat_minor": 5
}

{
 "cells": [
  {
   "cell_type": "code",
   "execution_count": 31,
   "id": "1ca23e6a",
   "metadata": {},
   "outputs": [],
   "source": [
    "import numpy as np\n",
    "import pandas as pd"
   ]
  },
  {
   "cell_type": "code",
   "execution_count": 32,
   "id": "bb810e16",
   "metadata": {},
   "outputs": [
    {
     "data": {
      "text/plain": [
       "0    0\n",
       "1    2\n",
       "2    4\n",
       "3    6\n",
       "dtype: int64"
      ]
     },
     "execution_count": 32,
     "metadata": {},
     "output_type": "execute_result"
    }
   ],
   "source": [
    "s1 = pd.Series(np.arange(0, 7, 2))\n",
    "s1"
   ]
  },
  {
   "cell_type": "code",
   "execution_count": 33,
   "id": "2bd91ede",
   "metadata": {},
   "outputs": [
    {
     "data": {
      "text/plain": [
       "3    100\n",
       "5    200\n",
       "7    300\n",
       "dtype: int64"
      ]
     },
     "execution_count": 33,
     "metadata": {},
     "output_type": "execute_result"
    }
   ],
   "source": [
    "myindex = [3, 5, 7]\n",
    "price = [100, 200, 300]\n",
    "s2 = pd.Series(price, index=myindex)\n",
    "s2"
   ]
  },
  {
   "cell_type": "code",
   "execution_count": 34,
   "id": "357e69ed",
   "metadata": {},
   "outputs": [
    {
     "name": "stdout",
     "output_type": "stream",
     "text": [
      "Int64Index([3, 5, 7], dtype='int64')\n",
      "[100 200 300]\n"
     ]
    }
   ],
   "source": [
    "print(s2.index)\n",
    "print(s2.values)"
   ]
  },
  {
   "cell_type": "code",
   "execution_count": 35,
   "id": "918deae6",
   "metadata": {},
   "outputs": [
    {
     "data": {
      "text/plain": [
       "2    2\n",
       "3    3\n",
       "dtype: int64"
      ]
     },
     "execution_count": 35,
     "metadata": {},
     "output_type": "execute_result"
    }
   ],
   "source": [
    "s = pd.Series([0, 1, 2, 3, 4, 5])\n",
    "s[2:4]"
   ]
  },
  {
   "cell_type": "code",
   "execution_count": 36,
   "id": "780cc9b5",
   "metadata": {},
   "outputs": [
    {
     "data": {
      "text/plain": [
       "0    2\n",
       "1    8\n",
       "dtype: int64"
      ]
     },
     "execution_count": 36,
     "metadata": {},
     "output_type": "execute_result"
    }
   ],
   "source": [
    "x = pd.Series([1, 2])\n",
    "y = pd.Series([2, 4])\n",
    "x * y"
   ]
  },
  {
   "cell_type": "code",
   "execution_count": 37,
   "id": "6aa783d1",
   "metadata": {},
   "outputs": [
    {
     "name": "stdout",
     "output_type": "stream",
     "text": [
      "Apple     30\n",
      "Orange    20\n",
      "dtype: int64\n"
     ]
    }
   ],
   "source": [
    "fruits = ['Orange', 'Apple', 'Grape']\n",
    "x = pd.Series([20, 30, 40], index=fruits)\n",
    "print(x[['Apple', 'Orange']])"
   ]
  },
  {
   "cell_type": "markdown",
   "id": "da82ef83",
   "metadata": {},
   "source": [
    "# DataFrame"
   ]
  },
  {
   "cell_type": "code",
   "execution_count": 38,
   "id": "1295a320",
   "metadata": {},
   "outputs": [
    {
     "name": "stdout",
     "output_type": "stream",
     "text": [
      "<class 'pandas.core.series.Series'>\n",
      "2020    20\n",
      "2021    21\n",
      "2022    19\n",
      "2020    25\n",
      "2021    26\n",
      "2022    27\n",
      "2020    30\n",
      "2021    29\n",
      "2022    31\n",
      "dtype: int64\n"
     ]
    }
   ],
   "source": [
    "years = range(2020, 2023)\n",
    "beijing = pd.Series([20, 21, 19], index=years)\n",
    "hongkong = pd.Series([25, 26, 27], index=years)\n",
    "singapore = pd.Series([30, 29, 31], index=years)\n",
    "citydf = pd.concat([beijing, hongkong, singapore])\n",
    "print(type(citydf))\n",
    "print(citydf)"
   ]
  },
  {
   "cell_type": "code",
   "execution_count": 39,
   "id": "e11f241d",
   "metadata": {},
   "outputs": [
    {
     "name": "stdout",
     "output_type": "stream",
     "text": [
      "<class 'pandas.core.frame.DataFrame'>\n",
      "       0   1   2\n",
      "2020  20  25  30\n",
      "2021  21  26  29\n",
      "2022  19  27  31\n"
     ]
    }
   ],
   "source": [
    "citydf2 = pd.concat([beijing, hongkong, singapore], axis=1)\n",
    "print(type(citydf2))\n",
    "print(citydf2)"
   ]
  },
  {
   "cell_type": "code",
   "execution_count": 40,
   "id": "6cddb623",
   "metadata": {},
   "outputs": [
    {
     "name": "stdout",
     "output_type": "stream",
     "text": [
      "      Beijing  Hongkong  Singapore\n",
      "2020       20        25         30\n",
      "2021       21        26         29\n",
      "2022       19        27         31\n"
     ]
    }
   ],
   "source": [
    "citydf2.columns = ['Beijing', 'Hongkong', 'Singapore']\n",
    "print(citydf2)"
   ]
  },
  {
   "cell_type": "code",
   "execution_count": 41,
   "id": "05f3fef8",
   "metadata": {},
   "outputs": [
    {
     "name": "stdout",
     "output_type": "stream",
     "text": [
      "   apple  orange  grape\n",
      "0     50    30.0     80\n",
      "1     50     NaN     80\n"
     ]
    }
   ],
   "source": [
    "# Use dictionary to create DataFrame\n",
    "data = [{'apple': 50, 'orange': 30, 'grape': 80}, {'apple': 50, 'grape': 80}]\n",
    "fruits = pd.DataFrame(data)\n",
    "print(fruits)"
   ]
  },
  {
   "cell_type": "code",
   "execution_count": 42,
   "id": "6e842bca",
   "metadata": {},
   "outputs": [
    {
     "name": "stdout",
     "output_type": "stream",
     "text": [
      "     country       town  population\n",
      "0      China    Beijing        2000\n",
      "1      Japan      Tokyo        1600\n",
      "2  Singapore  Singapore         600\n"
     ]
    }
   ],
   "source": [
    "cities = {'country': ['China', 'Japan', 'Singapore'], \n",
    "          'town': ['Beijing', 'Tokyo', 'Singapore'],\n",
    "          'population': [2000, 1600, 600]}\n",
    "citydf3 = pd.DataFrame(cities)\n",
    "print(citydf3)"
   ]
  },
  {
   "cell_type": "code",
   "execution_count": 43,
   "id": "91c295d8",
   "metadata": {},
   "outputs": [
    {
     "name": "stdout",
     "output_type": "stream",
     "text": [
      "          country       town  population\n",
      "first       China    Beijing        2000\n",
      "second      Japan      Tokyo        1600\n",
      "third   Singapore  Singapore         600\n"
     ]
    }
   ],
   "source": [
    "citydf3 = pd.DataFrame(cities, index=['first', 'second', 'third'])\n",
    "print(citydf3)"
   ]
  },
  {
   "cell_type": "code",
   "execution_count": 44,
   "id": "1b8c89ce",
   "metadata": {},
   "outputs": [
    {
     "name": "stdout",
     "output_type": "stream",
     "text": [
      "                town  population\n",
      "China        Beijing        2000\n",
      "Japan          Tokyo        1600\n",
      "Singapore  Singapore         600\n"
     ]
    }
   ],
   "source": [
    "citydf4 = pd.DataFrame(cities, columns=['town', 'population'], index=cities['country'])\n",
    "print(citydf4)"
   ]
  },
  {
   "cell_type": "markdown",
   "id": "f6b6dc48",
   "metadata": {},
   "source": [
    "# Data Processing"
   ]
  },
  {
   "cell_type": "code",
   "execution_count": 45,
   "id": "fbb77444",
   "metadata": {},
   "outputs": [
    {
     "name": "stdout",
     "output_type": "stream",
     "text": [
      "                Town  Population\n",
      "China        Beijing        2000\n",
      "China       Shanghai        2300\n",
      "Thailand     Bangkok         900\n",
      "Japan          Tokyo        1600\n",
      "Singapore  Singapore         600\n"
     ]
    }
   ],
   "source": [
    "cities = {'Country':['China', 'China', 'Thailand', 'Japan', 'Singapore'], \n",
    "          'Town':['Beijing', 'Shanghai', 'Bangkok', 'Tokyo', 'Singapore'], \n",
    "          'Population':[2000, 2300, 900, 1600, 600]}\n",
    "df = pd.DataFrame(cities, columns=['Town', 'Population'], index=cities['Country'])\n",
    "print(df)"
   ]
  },
  {
   "cell_type": "code",
   "execution_count": 46,
   "id": "792ef164",
   "metadata": {},
   "outputs": [
    {
     "data": {
      "text/plain": [
       "China     Beijing\n",
       "China    Shanghai\n",
       "Name: Town, dtype: object"
      ]
     },
     "execution_count": 46,
     "metadata": {},
     "output_type": "execute_result"
    }
   ],
   "source": [
    "df.at['China', 'Town']"
   ]
  },
  {
   "cell_type": "code",
   "execution_count": 47,
   "id": "20d40736",
   "metadata": {},
   "outputs": [
    {
     "data": {
      "text/plain": [
       "'Bangkok'"
      ]
     },
     "execution_count": 47,
     "metadata": {},
     "output_type": "execute_result"
    }
   ],
   "source": [
    "df.iat[2,0]"
   ]
  },
  {
   "cell_type": "code",
   "execution_count": 54,
   "id": "0fe6eadd",
   "metadata": {},
   "outputs": [
    {
     "data": {
      "text/plain": [
       "Town          Singapore\n",
       "Population          600\n",
       "Name: Singapore, dtype: object"
      ]
     },
     "execution_count": 54,
     "metadata": {},
     "output_type": "execute_result"
    }
   ],
   "source": [
    "df.loc['Singapore']"
   ]
  },
  {
   "cell_type": "code",
   "execution_count": 55,
   "id": "b23f5ee2",
   "metadata": {},
   "outputs": [
    {
     "data": {
      "text/html": [
       "<div>\n",
       "<style scoped>\n",
       "    .dataframe tbody tr th:only-of-type {\n",
       "        vertical-align: middle;\n",
       "    }\n",
       "\n",
       "    .dataframe tbody tr th {\n",
       "        vertical-align: top;\n",
       "    }\n",
       "\n",
       "    .dataframe thead th {\n",
       "        text-align: right;\n",
       "    }\n",
       "</style>\n",
       "<table border=\"1\" class=\"dataframe\">\n",
       "  <thead>\n",
       "    <tr style=\"text-align: right;\">\n",
       "      <th></th>\n",
       "      <th>Town</th>\n",
       "      <th>Population</th>\n",
       "    </tr>\n",
       "  </thead>\n",
       "  <tbody>\n",
       "    <tr>\n",
       "      <th>Japan</th>\n",
       "      <td>Tokyo</td>\n",
       "      <td>1600</td>\n",
       "    </tr>\n",
       "    <tr>\n",
       "      <th>Thailand</th>\n",
       "      <td>Bangkok</td>\n",
       "      <td>900</td>\n",
       "    </tr>\n",
       "  </tbody>\n",
       "</table>\n",
       "</div>"
      ],
      "text/plain": [
       "             Town  Population\n",
       "Japan       Tokyo        1600\n",
       "Thailand  Bangkok         900"
      ]
     },
     "execution_count": 55,
     "metadata": {},
     "output_type": "execute_result"
    }
   ],
   "source": [
    "df.loc[['Japan', 'Thailand']]"
   ]
  },
  {
   "cell_type": "code",
   "execution_count": 56,
   "id": "83e9bb81",
   "metadata": {},
   "outputs": [
    {
     "data": {
      "text/html": [
       "<div>\n",
       "<style scoped>\n",
       "    .dataframe tbody tr th:only-of-type {\n",
       "        vertical-align: middle;\n",
       "    }\n",
       "\n",
       "    .dataframe tbody tr th {\n",
       "        vertical-align: top;\n",
       "    }\n",
       "\n",
       "    .dataframe thead th {\n",
       "        text-align: right;\n",
       "    }\n",
       "</style>\n",
       "<table border=\"1\" class=\"dataframe\">\n",
       "  <thead>\n",
       "    <tr style=\"text-align: right;\">\n",
       "      <th></th>\n",
       "      <th>Town</th>\n",
       "      <th>Population</th>\n",
       "    </tr>\n",
       "  </thead>\n",
       "  <tbody>\n",
       "    <tr>\n",
       "      <th>China</th>\n",
       "      <td>Beijing</td>\n",
       "      <td>2000</td>\n",
       "    </tr>\n",
       "    <tr>\n",
       "      <th>China</th>\n",
       "      <td>Shanghai</td>\n",
       "      <td>2300</td>\n",
       "    </tr>\n",
       "    <tr>\n",
       "      <th>Thailand</th>\n",
       "      <td>Bangkok</td>\n",
       "      <td>900</td>\n",
       "    </tr>\n",
       "  </tbody>\n",
       "</table>\n",
       "</div>"
      ],
      "text/plain": [
       "              Town  Population\n",
       "China      Beijing        2000\n",
       "China     Shanghai        2300\n",
       "Thailand   Bangkok         900"
      ]
     },
     "execution_count": 56,
     "metadata": {},
     "output_type": "execute_result"
    }
   ],
   "source": [
    "df.loc['China':'Thailand','Town':'Population']"
   ]
  },
  {
   "cell_type": "code",
   "execution_count": 57,
   "id": "67b037e1",
   "metadata": {},
   "outputs": [
    {
     "data": {
      "text/plain": [
       "Town          Beijing\n",
       "Population       2000\n",
       "Name: China, dtype: object"
      ]
     },
     "execution_count": 57,
     "metadata": {},
     "output_type": "execute_result"
    }
   ],
   "source": [
    "df.iloc[0]"
   ]
  },
  {
   "cell_type": "code",
   "execution_count": 58,
   "id": "24f36111",
   "metadata": {},
   "outputs": [
    {
     "data": {
      "text/html": [
       "<div>\n",
       "<style scoped>\n",
       "    .dataframe tbody tr th:only-of-type {\n",
       "        vertical-align: middle;\n",
       "    }\n",
       "\n",
       "    .dataframe tbody tr th {\n",
       "        vertical-align: top;\n",
       "    }\n",
       "\n",
       "    .dataframe thead th {\n",
       "        text-align: right;\n",
       "    }\n",
       "</style>\n",
       "<table border=\"1\" class=\"dataframe\">\n",
       "  <thead>\n",
       "    <tr style=\"text-align: right;\">\n",
       "      <th></th>\n",
       "      <th>Town</th>\n",
       "      <th>Population</th>\n",
       "    </tr>\n",
       "  </thead>\n",
       "  <tbody>\n",
       "    <tr>\n",
       "      <th>China</th>\n",
       "      <td>Beijing</td>\n",
       "      <td>2000</td>\n",
       "    </tr>\n",
       "    <tr>\n",
       "      <th>China</th>\n",
       "      <td>Shanghai</td>\n",
       "      <td>2300</td>\n",
       "    </tr>\n",
       "    <tr>\n",
       "      <th>Japan</th>\n",
       "      <td>Tokyo</td>\n",
       "      <td>1600</td>\n",
       "    </tr>\n",
       "  </tbody>\n",
       "</table>\n",
       "</div>"
      ],
      "text/plain": [
       "           Town  Population\n",
       "China   Beijing        2000\n",
       "China  Shanghai        2300\n",
       "Japan     Tokyo        1600"
      ]
     },
     "execution_count": 58,
     "metadata": {},
     "output_type": "execute_result"
    }
   ],
   "source": [
    "df[df['Population'] > 1000]"
   ]
  },
  {
   "cell_type": "markdown",
   "id": "98abc5eb",
   "metadata": {},
   "source": [
    "# Numpy with Pandas"
   ]
  },
  {
   "cell_type": "code",
   "execution_count": 59,
   "id": "6887e376",
   "metadata": {},
   "outputs": [
    {
     "name": "stdout",
     "output_type": "stream",
     "text": [
      "        Frank  Peter  John\n",
      "first      89     61    77\n",
      "second     83     64    87\n",
      "final      74     61    63\n"
     ]
    }
   ],
   "source": [
    "name = ['Frank', 'Peter', 'John']\n",
    "score = ['first', 'second', 'final']\n",
    "df = pd.DataFrame(np.random.randint(60, 100, size=(3,3)), \n",
    "                  columns=name, index=score)\n",
    "print(df)"
   ]
  },
  {
   "cell_type": "code",
   "execution_count": 61,
   "id": "6ed2b08c",
   "metadata": {},
   "outputs": [
    {
     "name": "stdout",
     "output_type": "stream",
     "text": [
      "0     NaN\n",
      "1     NaN\n",
      "2    13.0\n",
      "dtype: float64\n"
     ]
    }
   ],
   "source": [
    "s1 = pd.Series([1, np.nan, 5])\n",
    "s2 = pd.Series([np.nan, 6, 8])\n",
    "x = s1.add(s2)\n",
    "print(x)"
   ]
  },
  {
   "cell_type": "code",
   "execution_count": 63,
   "id": "83b52510",
   "metadata": {},
   "outputs": [
    {
     "name": "stdout",
     "output_type": "stream",
     "text": [
      "0    False\n",
      "1     True\n",
      "2    False\n",
      "dtype: bool\n",
      "0     True\n",
      "1    False\n",
      "2     True\n",
      "dtype: bool\n"
     ]
    }
   ],
   "source": [
    "print(s1.isna())\n",
    "print(s1.notna())"
   ]
  },
  {
   "cell_type": "code",
   "execution_count": null,
   "id": "b182940a",
   "metadata": {},
   "outputs": [],
   "source": []
  }
 ],
 "metadata": {
  "kernelspec": {
   "display_name": "Python 3",
   "language": "python",
   "name": "python3"
  },
  "language_info": {
   "codemirror_mode": {
    "name": "ipython",
    "version": 3
   },
   "file_extension": ".py",
   "mimetype": "text/x-python",
   "name": "python",
   "nbconvert_exporter": "python",
   "pygments_lexer": "ipython3",
   "version": "3.8.8"
  }
 },
 "nbformat": 4,
 "nbformat_minor": 5
}

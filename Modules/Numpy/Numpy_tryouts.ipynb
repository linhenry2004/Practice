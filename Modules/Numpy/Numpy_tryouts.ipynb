{
 "cells": [
  {
   "cell_type": "markdown",
   "id": "aef424af",
   "metadata": {},
   "source": [
    "# Numpy Module in Python"
   ]
  },
  {
   "cell_type": "markdown",
   "id": "1afff7f5",
   "metadata": {},
   "source": [
    "## Numpy datatypes\n",
    "bool_: Stores a True or a False\n",
    "\n",
    "int_/intc/intp/int8/int16/int32/int64/uint8/uint16/uin32/uint64: Stores an integer but with different sizes\n",
    "\n",
    "float_/float16/float32/float64: Stores a floating point number\n",
    "\n",
    "complex_/complex64/complex127: Stores a complex number"
   ]
  },
  {
   "cell_type": "markdown",
   "id": "8e15c77b",
   "metadata": {},
   "source": [
    "# 1-D array"
   ]
  },
  {
   "cell_type": "markdown",
   "id": "34685b63",
   "metadata": {},
   "source": [
    "## ndarray\n",
    "ndarray.dtype: 陣列元素型態\n",
    "\n",
    "ndarray.itemsize: 陣列元素茲列型態大小（或稱所佔空間），單位是位元組\n",
    "\n",
    "ndarray.ndim: 陣列的維度\n",
    "\n",
    "ndarray.shape: 陣列維度元素個數的原組，也可以用於調整陣列大小\n",
    "\n",
    "ndarray.size: 陣列元素個數"
   ]
  },
  {
   "cell_type": "code",
   "execution_count": 1,
   "id": "5e873db6",
   "metadata": {},
   "outputs": [
    {
     "name": "stdout",
     "output_type": "stream",
     "text": [
      "<class 'numpy.ndarray'>\n"
     ]
    }
   ],
   "source": [
    "import numpy as np\n",
    "x = np.array([1, 2, 3])\n",
    "print(type(x))"
   ]
  },
  {
   "cell_type": "code",
   "execution_count": 2,
   "id": "ed807857",
   "metadata": {},
   "outputs": [
    {
     "name": "stdout",
     "output_type": "stream",
     "text": [
      "1\n"
     ]
    }
   ],
   "source": [
    "print(x[0])"
   ]
  },
  {
   "cell_type": "code",
   "execution_count": 8,
   "id": "136da14c",
   "metadata": {},
   "outputs": [
    {
     "name": "stdout",
     "output_type": "stream",
     "text": [
      "int64\n"
     ]
    }
   ],
   "source": [
    "print(x.dtype)"
   ]
  },
  {
   "cell_type": "code",
   "execution_count": 9,
   "id": "20591b45",
   "metadata": {},
   "outputs": [
    {
     "name": "stdout",
     "output_type": "stream",
     "text": [
      "8\n"
     ]
    }
   ],
   "source": [
    "print(x.itemsize)"
   ]
  },
  {
   "cell_type": "code",
   "execution_count": 10,
   "id": "fd05ac6a",
   "metadata": {},
   "outputs": [
    {
     "name": "stdout",
     "output_type": "stream",
     "text": [
      "1\n"
     ]
    }
   ],
   "source": [
    "print(x.ndim)"
   ]
  },
  {
   "cell_type": "code",
   "execution_count": 11,
   "id": "9efa47d2",
   "metadata": {},
   "outputs": [
    {
     "name": "stdout",
     "output_type": "stream",
     "text": [
      "(3,)\n"
     ]
    }
   ],
   "source": [
    "print(x.shape)"
   ]
  },
  {
   "cell_type": "code",
   "execution_count": 12,
   "id": "14367d67",
   "metadata": {},
   "outputs": [
    {
     "name": "stdout",
     "output_type": "stream",
     "text": [
      "3\n"
     ]
    }
   ],
   "source": [
    "print(x.size)"
   ]
  },
  {
   "cell_type": "markdown",
   "id": "f3991d80",
   "metadata": {},
   "source": [
    "### Methods for 1-D array\n",
    "arange(): 建立相同等距的陣列\n",
    "\n",
    "linspace(): 產生相同等距的陣列\n",
    "\n",
    "zeros(): 預設是建立0.0浮點數的陣列。不過可以使用dtype參數更改元素類型\n",
    "\n",
    "ones(): 預設是建立1.0浮點數的陣列。不過可以使用dtype參數更改元素類型\n",
    "\n",
    "empty(): 預設是建立隨機浮點數的陣列。不過可以使用dtype參數更改元素類型"
   ]
  },
  {
   "cell_type": "markdown",
   "id": "8bb6ca52",
   "metadata": {},
   "source": [
    "### 四則運算"
   ]
  },
  {
   "cell_type": "code",
   "execution_count": 14,
   "id": "58b39869",
   "metadata": {},
   "outputs": [
    {
     "name": "stdout",
     "output_type": "stream",
     "text": [
      "[11 22 33]\n"
     ]
    }
   ],
   "source": [
    "x = np.array([1, 2, 3])\n",
    "y = np.array([10, 20, 30])\n",
    "z = x + y\n",
    "print(z)"
   ]
  },
  {
   "cell_type": "code",
   "execution_count": 20,
   "id": "48acd94f",
   "metadata": {},
   "outputs": [
    {
     "name": "stdout",
     "output_type": "stream",
     "text": [
      "[ 9 18 27]\n"
     ]
    }
   ],
   "source": [
    "z = y - x\n",
    "print(z)"
   ]
  },
  {
   "cell_type": "code",
   "execution_count": 16,
   "id": "9342b9ba",
   "metadata": {},
   "outputs": [
    {
     "name": "stdout",
     "output_type": "stream",
     "text": [
      "[10 40 90]\n"
     ]
    }
   ],
   "source": [
    "z = x * y\n",
    "print(z)"
   ]
  },
  {
   "cell_type": "code",
   "execution_count": 17,
   "id": "20f1cdeb",
   "metadata": {},
   "outputs": [
    {
     "name": "stdout",
     "output_type": "stream",
     "text": [
      "[0.1 0.1 0.1]\n"
     ]
    }
   ],
   "source": [
    "z = x / y\n",
    "print(z)"
   ]
  },
  {
   "cell_type": "markdown",
   "id": "464b6fc0",
   "metadata": {},
   "source": [
    "### More Array methods"
   ]
  },
  {
   "cell_type": "code",
   "execution_count": 21,
   "id": "f921eb61",
   "metadata": {},
   "outputs": [
    {
     "name": "stdout",
     "output_type": "stream",
     "text": [
      "[ 1  2  3 10 20 30]\n"
     ]
    }
   ],
   "source": [
    "#concatenate() method\n",
    "z = np.concatenate((x, y))\n",
    "print(z)"
   ]
  },
  {
   "cell_type": "code",
   "execution_count": 25,
   "id": "2569adec",
   "metadata": {},
   "outputs": [
    {
     "name": "stdout",
     "output_type": "stream",
     "text": [
      "[1 2 9 3]\n"
     ]
    }
   ],
   "source": [
    "#insert() method\n",
    "z = np.insert(x, 2, 9)\n",
    "print(z)"
   ]
  },
  {
   "cell_type": "code",
   "execution_count": 29,
   "id": "5945412d",
   "metadata": {},
   "outputs": [
    {
     "name": "stdout",
     "output_type": "stream",
     "text": [
      "[1 2 3]\n"
     ]
    }
   ],
   "source": [
    "#delete() method\n",
    "x = np.array([1, 2, 9, 3])\n",
    "z = np.delete(x, 2)\n",
    "print(z)"
   ]
  },
  {
   "cell_type": "code",
   "execution_count": 30,
   "id": "115ea535",
   "metadata": {},
   "outputs": [
    {
     "name": "stdout",
     "output_type": "stream",
     "text": [
      "32\n"
     ]
    }
   ],
   "source": [
    "#Vector inner product: inner() method\n",
    "x = np.array([1, 2, 3])\n",
    "y = np.array([4, 5, 6])\n",
    "z = np.inner(x, y)\n",
    "print(z)"
   ]
  },
  {
   "cell_type": "code",
   "execution_count": 32,
   "id": "b269a382",
   "metadata": {},
   "outputs": [
    {
     "name": "stdout",
     "output_type": "stream",
     "text": [
      "[[ 4  5  6]\n",
      " [ 8 10 12]\n",
      " [12 15 18]]\n"
     ]
    }
   ],
   "source": [
    "#Vector outer product: outer() method\n",
    "z = np.outer(x, y)\n",
    "print(z)"
   ]
  },
  {
   "cell_type": "code",
   "execution_count": 34,
   "id": "7276d608",
   "metadata": {},
   "outputs": [
    {
     "name": "stdout",
     "output_type": "stream",
     "text": [
      "[-3  6 -3]\n"
     ]
    }
   ],
   "source": [
    "#Vector cross product: cross() method\n",
    "z = np.cross(x, y)\n",
    "print(z)"
   ]
  },
  {
   "cell_type": "code",
   "execution_count": 35,
   "id": "d9789da7",
   "metadata": {},
   "outputs": [
    {
     "name": "stdout",
     "output_type": "stream",
     "text": [
      "270\n"
     ]
    }
   ],
   "source": [
    "#Looping through the array\n",
    "x = np.array([88, 92, 90, 0, 0])\n",
    "sum = 0\n",
    "for i in x:\n",
    "    sum += i\n",
    "\n",
    "print(sum)"
   ]
  },
  {
   "cell_type": "markdown",
   "id": "422cbd8a",
   "metadata": {},
   "source": [
    "## 2-D array"
   ]
  },
  {
   "cell_type": "code",
   "execution_count": 38,
   "id": "69571e04",
   "metadata": {},
   "outputs": [
    {
     "name": "stdout",
     "output_type": "stream",
     "text": [
      "<class 'numpy.ndarray'>\n",
      "[[1 2 3]\n",
      " [4 5 6]]\n"
     ]
    }
   ],
   "source": [
    "x = np.array([[1, 2, 3], [4, 5, 6]])\n",
    "print(type(x))\n",
    "print(x)"
   ]
  },
  {
   "cell_type": "code",
   "execution_count": 39,
   "id": "9c59e12c",
   "metadata": {},
   "outputs": [
    {
     "name": "stdout",
     "output_type": "stream",
     "text": [
      "[[1 2 3]\n",
      " [4 5 6]]\n"
     ]
    }
   ],
   "source": [
    "#reshape() method\n",
    "x = np.array([1, 2, 3, 4, 5, 6])\n",
    "y = x.reshape(2, 3)\n",
    "print(y)"
   ]
  },
  {
   "cell_type": "code",
   "execution_count": 40,
   "id": "e78411af",
   "metadata": {},
   "outputs": [
    {
     "name": "stdout",
     "output_type": "stream",
     "text": [
      "[[1 2 3]\n",
      " [4 5 6]]\n"
     ]
    }
   ],
   "source": [
    "z = y.ravel()\n",
    "print(y)"
   ]
  },
  {
   "cell_type": "code",
   "execution_count": 41,
   "id": "0ae3faac",
   "metadata": {},
   "outputs": [
    {
     "name": "stdout",
     "output_type": "stream",
     "text": [
      "[[0 1]\n",
      " [2 3]\n",
      " [4 5]\n",
      " [6 7]]\n"
     ]
    }
   ],
   "source": [
    "x = np.arange(8).reshape(4, 2)\n",
    "print(x)"
   ]
  },
  {
   "cell_type": "code",
   "execution_count": 43,
   "id": "c3374092",
   "metadata": {},
   "outputs": [
    {
     "name": "stdout",
     "output_type": "stream",
     "text": [
      "[[0 2 4 6]\n",
      " [1 3 5 7]]\n"
     ]
    }
   ],
   "source": [
    "#transpose() method\n",
    "y = x.transpose()\n",
    "print(y)"
   ]
  },
  {
   "cell_type": "code",
   "execution_count": 45,
   "id": "485ef7c1",
   "metadata": {},
   "outputs": [
    {
     "name": "stdout",
     "output_type": "stream",
     "text": [
      "[[ 0  1]\n",
      " [ 4  5]\n",
      " [ 8  9]\n",
      " [12 13]]\n",
      "[[ 2  3]\n",
      " [ 6  7]\n",
      " [10 11]\n",
      " [14 15]]\n"
     ]
    }
   ],
   "source": [
    "#hsplit() method\n",
    "x = np.arange(16).reshape(4, 4)\n",
    "y1, y2 = np.hsplit(x, 2)\n",
    "print(y1)\n",
    "print(y2)"
   ]
  },
  {
   "cell_type": "code",
   "execution_count": 46,
   "id": "85728c0a",
   "metadata": {},
   "outputs": [
    {
     "name": "stdout",
     "output_type": "stream",
     "text": [
      "[[0 1 2 3]\n",
      " [4 5 6 7]]\n",
      "[[ 8  9 10 11]\n",
      " [12 13 14 15]]\n"
     ]
    }
   ],
   "source": [
    "z1, z2 = np.vsplit(x, 2)\n",
    "print(z1)\n",
    "print(z2)"
   ]
  },
  {
   "cell_type": "code",
   "execution_count": 48,
   "id": "2620b9ea",
   "metadata": {},
   "outputs": [
    {
     "name": "stdout",
     "output_type": "stream",
     "text": [
      "[[0 1 4 5]\n",
      " [2 3 6 7]]\n"
     ]
    }
   ],
   "source": [
    "#hstack() method\n",
    "x = np.arange(4).reshape(2, 2)\n",
    "y = np.arange(4, 8).reshape(2, 2)\n",
    "z = np.hstack((x, y))\n",
    "print(z)"
   ]
  },
  {
   "cell_type": "code",
   "execution_count": 49,
   "id": "6de3faf5",
   "metadata": {},
   "outputs": [
    {
     "name": "stdout",
     "output_type": "stream",
     "text": [
      "[[0 1]\n",
      " [2 3]\n",
      " [4 5]\n",
      " [6 7]]\n"
     ]
    }
   ],
   "source": [
    "#hstack() method\n",
    "x = np.arange(4).reshape(2, 2)\n",
    "y = np.arange(4, 8).reshape(2, 2)\n",
    "z = np.vstack((x, y))\n",
    "print(z)"
   ]
  },
  {
   "cell_type": "code",
   "execution_count": 50,
   "id": "bee58ac2",
   "metadata": {},
   "outputs": [
    {
     "name": "stdout",
     "output_type": "stream",
     "text": [
      "[[ 6  7]\n",
      " [26 31]]\n"
     ]
    }
   ],
   "source": [
    "#dot() and @\n",
    "x = np.arange(4).reshape(2, 2)\n",
    "y = np.arange(4, 8).reshape(2, 2)\n",
    "z = np.dot(x, y)\n",
    "print(z)"
   ]
  },
  {
   "cell_type": "code",
   "execution_count": 51,
   "id": "2d9f2468",
   "metadata": {},
   "outputs": [
    {
     "name": "stdout",
     "output_type": "stream",
     "text": [
      "[[ 6  7]\n",
      " [26 31]]\n"
     ]
    }
   ],
   "source": [
    "z = x @ y\n",
    "print(z)"
   ]
  },
  {
   "cell_type": "markdown",
   "id": "0906b441",
   "metadata": {},
   "source": [
    "## More Numpy Methods"
   ]
  },
  {
   "cell_type": "code",
   "execution_count": 52,
   "id": "63c974d5",
   "metadata": {},
   "outputs": [
    {
     "name": "stdout",
     "output_type": "stream",
     "text": [
      "[-1.43425855 -0.23240812]\n"
     ]
    }
   ],
   "source": [
    "#roots() Get the roots of a quadratic formula\n",
    "print(np.roots([3, 5, 1]))"
   ]
  },
  {
   "cell_type": "markdown",
   "id": "4b500148",
   "metadata": {},
   "source": [
    "### Trig methods\n",
    "sin(x) cos(x) tan(x) arcsin(x) arccos(x) arctan(x)\n",
    "degrees(x): Change from radians to degrees"
   ]
  },
  {
   "cell_type": "markdown",
   "id": "d24bb651",
   "metadata": {},
   "source": [
    "sum() prod() diff() around() gcd() exp() log()\n",
    "\n",
    "add(x1, x2) subtract(x1, x2) multiply(x1, x2) divide(x1, x2) mod(x1, x2) remainder(x1, x2) negative(x1, x2)\n",
    "\n",
    "absolute(x) square(x) sqrt(x) sign(x) max(x) max(x) maximum(x1, x2) min(x) minimum(x1, x2)"
   ]
  },
  {
   "cell_type": "markdown",
   "id": "8237f69d",
   "metadata": {},
   "source": [
    "### Random"
   ]
  },
  {
   "cell_type": "code",
   "execution_count": 53,
   "id": "890403d7",
   "metadata": {},
   "outputs": [
    {
     "data": {
      "text/plain": [
       "array([0.93311926, 0.90801186, 0.50012484])"
      ]
     },
     "execution_count": 53,
     "metadata": {},
     "output_type": "execute_result"
    }
   ],
   "source": [
    "np.random.rand(3)"
   ]
  },
  {
   "cell_type": "code",
   "execution_count": 55,
   "id": "9de96a6b",
   "metadata": {},
   "outputs": [
    {
     "data": {
      "text/plain": [
       "1.1487252060520594"
      ]
     },
     "execution_count": 55,
     "metadata": {},
     "output_type": "execute_result"
    }
   ],
   "source": [
    "np.random.randn()"
   ]
  },
  {
   "cell_type": "code",
   "execution_count": 57,
   "id": "f61ae81e",
   "metadata": {},
   "outputs": [
    {
     "data": {
      "text/plain": [
       "3"
      ]
     },
     "execution_count": 57,
     "metadata": {},
     "output_type": "execute_result"
    }
   ],
   "source": [
    "np.random.randint(5)"
   ]
  },
  {
   "cell_type": "code",
   "execution_count": 59,
   "id": "cb919fc2",
   "metadata": {},
   "outputs": [
    {
     "data": {
      "image/png": "[encoded data removed]",
      "text/plain": [
       "<Figure size 432x288 with 1 Axes>"
      ]
     },
     "metadata": {
      "needs_background": "light"
     },
     "output_type": "display_data"
    }
   ],
   "source": [
    "import numpy as np\n",
    "import matplotlib.pyplot as plt\n",
    "\n",
    "d1 = np.random.randint(1, 6+1, 1000)\n",
    "d2 = np.random.randint(1, 6+1, 1000)\n",
    "dsums = d1 + d2\n",
    "\n",
    "plt.hist(dsums, bins=11)\n",
    "plt.show()"
   ]
  },
  {
   "cell_type": "code",
   "execution_count": 60,
   "id": "733729d8",
   "metadata": {},
   "outputs": [
    {
     "name": "stdout",
     "output_type": "stream",
     "text": [
      "[3 7 5 6 8 4 2 0 9 1]\n"
     ]
    }
   ],
   "source": [
    "#shuffle()\n",
    "x = np.arange(10)\n",
    "np.random.shuffle(x)\n",
    "print(x)"
   ]
  },
  {
   "cell_type": "code",
   "execution_count": 62,
   "id": "416ab5af",
   "metadata": {},
   "outputs": [
    {
     "name": "stdout",
     "output_type": "stream",
     "text": [
      "[[3 4 5]\n",
      " [0 1 2]\n",
      " [6 7 8]]\n"
     ]
    }
   ],
   "source": [
    "y = np.arange(9).reshape(3, 3)\n",
    "np.random.shuffle(y)\n",
    "print(y)"
   ]
  },
  {
   "cell_type": "code",
   "execution_count": 63,
   "id": "722f1eab",
   "metadata": {},
   "outputs": [
    {
     "name": "stdout",
     "output_type": "stream",
     "text": [
      "[5 2 8 4 1 0 6 3 7]\n"
     ]
    }
   ],
   "source": [
    "#permutation(x)\n",
    "x = np.arange(9)\n",
    "y = np.random.permutation(x)\n",
    "print(y)"
   ]
  },
  {
   "cell_type": "code",
   "execution_count": 64,
   "id": "cbe290f0",
   "metadata": {},
   "outputs": [
    {
     "name": "stdout",
     "output_type": "stream",
     "text": [
      "[[ 0  1  2  3  4]\n",
      " [10 11 12 13 14]\n",
      " [ 5  6  7  8  9]]\n"
     ]
    }
   ],
   "source": [
    "a = np.arange(15).reshape(3, 5)\n",
    "b = np.random.permutation(a)\n",
    "print(b)"
   ]
  },
  {
   "cell_type": "markdown",
   "id": "0299be42",
   "metadata": {},
   "source": [
    "beta(a, b\\[,size\\]): Beta 分部取樣\n",
    "\n",
    "binomial(n, p\\[,size\\]): 二項分布取樣\n",
    "\n",
    "chisquare(df\\[,size\\]): 卡方分布取樣\n",
    "\n",
    "normal(\\[loc, scale, size\\]): 從常態分布取樣"
   ]
  },
  {
   "cell_type": "code",
   "execution_count": 66,
   "id": "f761e057",
   "metadata": {},
   "outputs": [
    {
     "data": {
      "image/png": "[encoded data removed]",
      "text/plain": [
       "<Figure size 432x288 with 1 Axes>"
      ]
     },
     "metadata": {
      "needs_background": "light"
     },
     "output_type": "display_data"
    }
   ],
   "source": [
    "mean, sigma = 0, 0.2\n",
    "s = np.random.normal(mean, sigma, 1000)\n",
    "\n",
    "plt.hist(s, bins=30)\n",
    "plt.show()"
   ]
  },
  {
   "cell_type": "code",
   "execution_count": 67,
   "id": "23ab4074",
   "metadata": {},
   "outputs": [
    {
     "data": {
      "image/png": "[encoded data removed]",
      "text/plain": [
       "<Figure size 432x288 with 1 Axes>"
      ]
     },
     "metadata": {
      "needs_background": "light"
     },
     "output_type": "display_data"
    }
   ],
   "source": [
    "s = np.random.triangular(-2, 0, 10, 10000)\n",
    "plt.hist(s, bins=200, density = True)\n",
    "plt.show()"
   ]
  },
  {
   "cell_type": "markdown",
   "id": "7383ce00",
   "metadata": {},
   "source": [
    "### Statistics"
   ]
  },
  {
   "cell_type": "markdown",
   "id": "94309d5a",
   "metadata": {},
   "source": [
    "amin(a\\[,axis\\]): 傳回陣列最小元素或是指定軸的最小元素\n",
    "\n",
    "nanmin(a\\[,axis\\]): 傳回陣列最小元素或是指定軸的最小元素，忽略NaN"
   ]
  },
  {
   "cell_type": "code",
   "execution_count": 68,
   "id": "e1c1dc41",
   "metadata": {},
   "outputs": [
    {
     "data": {
      "text/plain": [
       "0"
      ]
     },
     "execution_count": 68,
     "metadata": {},
     "output_type": "execute_result"
    }
   ],
   "source": [
    "x = np.arange(4).reshape((2, 2))\n",
    "np.amin(x)"
   ]
  },
  {
   "cell_type": "code",
   "execution_count": 69,
   "id": "f56bcb82",
   "metadata": {},
   "outputs": [
    {
     "data": {
      "text/plain": [
       "array([0, 1])"
      ]
     },
     "execution_count": 69,
     "metadata": {},
     "output_type": "execute_result"
    }
   ],
   "source": [
    "np.amin(x, axis=0)"
   ]
  },
  {
   "cell_type": "code",
   "execution_count": 70,
   "id": "1ff3b1f4",
   "metadata": {},
   "outputs": [
    {
     "data": {
      "text/plain": [
       "array([0, 2])"
      ]
     },
     "execution_count": 70,
     "metadata": {},
     "output_type": "execute_result"
    }
   ],
   "source": [
    "np.amin(x, axis=1)"
   ]
  },
  {
   "cell_type": "markdown",
   "id": "bca560d0",
   "metadata": {},
   "source": [
    "amax(a\\[,axis\\]): 傳回陣列最小元素或是指定軸的最大元素\n",
    "\n",
    "nanmax(a\\[,axis\\]): 傳回陣列最小元素或是指定軸的最大元素，忽略NaN"
   ]
  },
  {
   "cell_type": "code",
   "execution_count": 71,
   "id": "84ad0c3b",
   "metadata": {},
   "outputs": [
    {
     "data": {
      "text/plain": [
       "3"
      ]
     },
     "execution_count": 71,
     "metadata": {},
     "output_type": "execute_result"
    }
   ],
   "source": [
    "x = np.arange(4).reshape((2, 2))\n",
    "np.amax(x)"
   ]
  },
  {
   "cell_type": "code",
   "execution_count": 72,
   "id": "8b21ddfd",
   "metadata": {},
   "outputs": [
    {
     "data": {
      "text/plain": [
       "array([2, 3])"
      ]
     },
     "execution_count": 72,
     "metadata": {},
     "output_type": "execute_result"
    }
   ],
   "source": [
    "np.amax(x, axis=0)"
   ]
  },
  {
   "cell_type": "code",
   "execution_count": 73,
   "id": "bf2d2df7",
   "metadata": {},
   "outputs": [
    {
     "data": {
      "text/plain": [
       "array([1, 3])"
      ]
     },
     "execution_count": 73,
     "metadata": {},
     "output_type": "execute_result"
    }
   ],
   "source": [
    "np.amax(x, axis=1)"
   ]
  },
  {
   "cell_type": "markdown",
   "id": "6a3d58d3",
   "metadata": {},
   "source": [
    "average(a\\[,axis,weights\\]): 如果省略weights傳回陣列的平均，如果有weights則傳回陣列的加權平均\n",
    "\n",
    "mean(a\\[,axis\\]): 傳回陣列元素平均值或指定軸的陣列元素平均值\n",
    "\n",
    "median(a\\[,axis\\]): 計算陣列的中位數或指定軸的中位數\n",
    "\n",
    "std(a\\[,axis\\]): 計算陣列的標準差或指定軸的標準差\n",
    "\n",
    "var(a\\[,axis\\]): 計算陣列的變異數或指定軸的變異數"
   ]
  },
  {
   "cell_type": "code",
   "execution_count": 75,
   "id": "6836aef7",
   "metadata": {},
   "outputs": [
    {
     "name": "stdout",
     "output_type": "stream",
     "text": [
      "2.5\n",
      "2.0\n"
     ]
    }
   ],
   "source": [
    "x = np.arange(1, 5)\n",
    "print(np.average(x))\n",
    "print(np.average(x, weights=range(4, 0, -1)))"
   ]
  },
  {
   "cell_type": "code",
   "execution_count": 77,
   "id": "bb72a9dd",
   "metadata": {},
   "outputs": [
    {
     "name": "stdout",
     "output_type": "stream",
     "text": [
      "2.5\n",
      "[2. 3.]\n",
      "[1.5 3.5]\n"
     ]
    }
   ],
   "source": [
    "x = np.array([[1, 2], [3, 4]])\n",
    "print(np.mean(x))\n",
    "print(np.mean(x, axis=0))\n",
    "print(np.mean(x, axis=1))"
   ]
  },
  {
   "cell_type": "code",
   "execution_count": 79,
   "id": "ed75004f",
   "metadata": {},
   "outputs": [
    {
     "name": "stdout",
     "output_type": "stream",
     "text": [
      "5.0\n",
      "[7.5 4.5 5. ]\n",
      "[7. 3.]\n"
     ]
    }
   ],
   "source": [
    "x = np.array([[12, 7, 4], [3, 2, 6]])\n",
    "print(np.median(x))\n",
    "print(np.median(x, axis=0))\n",
    "print(np.median(x, axis=1))"
   ]
  },
  {
   "cell_type": "code",
   "execution_count": 80,
   "id": "f7ad9dc6",
   "metadata": {},
   "outputs": [
    {
     "name": "stdout",
     "output_type": "stream",
     "text": [
      "1.118033988749895\n",
      "[1. 1.]\n",
      "[0.5 0.5]\n"
     ]
    }
   ],
   "source": [
    "x = np.arange(1, 5).reshape(2, 2)\n",
    "print(np.std(x))\n",
    "print(np.std(x, axis=0))\n",
    "print(np.std(x, axis=1))"
   ]
  },
  {
   "cell_type": "code",
   "execution_count": 81,
   "id": "5260e656",
   "metadata": {},
   "outputs": [
    {
     "name": "stdout",
     "output_type": "stream",
     "text": [
      "1.25\n",
      "[1. 1.]\n",
      "[0.25 0.25]\n"
     ]
    }
   ],
   "source": [
    "x = np.arange(1, 5).reshape(2, 2)\n",
    "print(np.var(x))\n",
    "print(np.var(x, axis=0))\n",
    "print(np.var(x, axis=1))"
   ]
  },
  {
   "cell_type": "markdown",
   "id": "b2eae141",
   "metadata": {},
   "source": [
    "### Read and write files"
   ]
  },
  {
   "cell_type": "code",
   "execution_count": 83,
   "id": "69f50dc9",
   "metadata": {},
   "outputs": [
    {
     "name": "stdout",
     "output_type": "stream",
     "text": [
      "[[ 1.  2.  3.  4.  5.  6.  7.  8.  9.]\n",
      " [11. 12. 13. 14. 15. 16. 17. 18. 19.]\n",
      " [21. 22. 23. 24. 25. 26. 27. 28. 29.]\n",
      " [31. 32. 33. 34. 35. 36. 37. 38. 39.]\n",
      " [41. 42. 43. 44. 45. 46. 47. 48. 49.]]\n"
     ]
    }
   ],
   "source": [
    "x = np.loadtxt('numpy_tryout.txt', delimiter=',')\n",
    "print(x)"
   ]
  },
  {
   "cell_type": "code",
   "execution_count": 87,
   "id": "421bd1c6",
   "metadata": {},
   "outputs": [
    {
     "name": "stdout",
     "output_type": "stream",
     "text": [
      "[[22. 24. 26.]\n",
      " [32. 34. 36.]\n",
      " [42. 44. 46.]]\n"
     ]
    }
   ],
   "source": [
    "x = np.loadtxt('numpy_tryout.txt', delimiter=',', skiprows=2, usecols=(1, 3, 5))\n",
    "print(x)"
   ]
  },
  {
   "cell_type": "code",
   "execution_count": null,
   "id": "ded6ebae",
   "metadata": {},
   "outputs": [],
   "source": [
    "x = np.arange(16.reshape(4, 4))\n",
    "np.savetxt('out.txt', x, delimeter=',', header'out.txt', footer = 'bye')"
   ]
  }
 ],
 "metadata": {
  "kernelspec": {
   "display_name": "Python 3",
   "language": "python",
   "name": "python3"
  },
  "language_info": {
   "codemirror_mode": {
    "name": "ipython",
    "version": 3
   },
   "file_extension": ".py",
   "mimetype": "text/x-python",
   "name": "python",
   "nbconvert_exporter": "python",
   "pygments_lexer": "ipython3",
   "version": "3.8.8"
  }
 },
 "nbformat": 4,
 "nbformat_minor": 5
}

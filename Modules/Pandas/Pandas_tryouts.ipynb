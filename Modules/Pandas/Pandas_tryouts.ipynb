{
 "cells": [
  {
   "cell_type": "markdown",
   "id": "8766ec71",
   "metadata": {},
   "source": [
    "# Pandas Module Python"
   ]
  },
  {
   "cell_type": "markdown",
   "id": "87c470e8",
   "metadata": {},
   "source": [
    "## Series"
   ]
  },
  {
   "cell_type": "code",
   "execution_count": 6,
   "id": "aae47e3d",
   "metadata": {},
   "outputs": [],
   "source": [
    "import pandas as pd\n",
    "import numpy as np"
   ]
  },
  {
   "cell_type": "code",
   "execution_count": 2,
   "id": "c7d82948",
   "metadata": {},
   "outputs": [
    {
     "data": {
      "text/plain": [
       "0    11\n",
       "1    22\n",
       "2    33\n",
       "3    44\n",
       "4    55\n",
       "dtype: int64"
      ]
     },
     "execution_count": 2,
     "metadata": {},
     "output_type": "execute_result"
    }
   ],
   "source": [
    "s1 = pd.Series([11, 22, 33, 44, 55])\n",
    "s1"
   ]
  },
  {
   "cell_type": "code",
   "execution_count": 4,
   "id": "32d73288",
   "metadata": {},
   "outputs": [
    {
     "data": {
      "text/plain": [
       "2    4\n",
       "1    3\n",
       "dtype: int64"
      ]
     },
     "execution_count": 4,
     "metadata": {},
     "output_type": "execute_result"
    }
   ],
   "source": [
    "mydict = {2:4, 1:3}\n",
    "s2 = pd.Series(mydict)\n",
    "s2"
   ]
  },
  {
   "cell_type": "code",
   "execution_count": 7,
   "id": "1aa20702",
   "metadata": {},
   "outputs": [
    {
     "data": {
      "text/plain": [
       "0    0\n",
       "1    2\n",
       "2    4\n",
       "3    6\n",
       "dtype: int64"
      ]
     },
     "execution_count": 7,
     "metadata": {},
     "output_type": "execute_result"
    }
   ],
   "source": [
    "s3 = pd.Series(np.arange(0, 7, 2))\n",
    "s3"
   ]
  },
  {
   "cell_type": "code",
   "execution_count": 8,
   "id": "957f9167",
   "metadata": {},
   "outputs": [
    {
     "data": {
      "text/plain": [
       "3    100\n",
       "5    200\n",
       "7    300\n",
       "dtype: int64"
      ]
     },
     "execution_count": 8,
     "metadata": {},
     "output_type": "execute_result"
    }
   ],
   "source": [
    "s4 = pd.Series([100, 200, 300], index = [3, 5, 7])\n",
    "s4"
   ]
  },
  {
   "cell_type": "code",
   "execution_count": 11,
   "id": "1571d05b",
   "metadata": {},
   "outputs": [
    {
     "data": {
      "text/plain": [
       "orange    30\n",
       "apple     40\n",
       "grape     50\n",
       "dtype: int64"
      ]
     },
     "execution_count": 11,
     "metadata": {},
     "output_type": "execute_result"
    }
   ],
   "source": [
    "s5 = pd.Series([30, 40, 50], index = ['orange', 'apple', 'grape'])\n",
    "s5"
   ]
  },
  {
   "cell_type": "code",
   "execution_count": 13,
   "id": "3e861d81",
   "metadata": {},
   "outputs": [
    {
     "data": {
      "text/plain": [
       "Index(['orange', 'apple', 'grape'], dtype='object')"
      ]
     },
     "execution_count": 13,
     "metadata": {},
     "output_type": "execute_result"
    }
   ],
   "source": [
    "s5.index"
   ]
  },
  {
   "cell_type": "code",
   "execution_count": 14,
   "id": "ecee193b",
   "metadata": {},
   "outputs": [
    {
     "data": {
      "text/plain": [
       "array([30, 40, 50])"
      ]
     },
     "execution_count": 14,
     "metadata": {},
     "output_type": "execute_result"
    }
   ],
   "source": [
    "s5.values"
   ]
  },
  {
   "cell_type": "code",
   "execution_count": 12,
   "id": "d1ede900",
   "metadata": {},
   "outputs": [
    {
     "data": {
      "text/plain": [
       "1    9\n",
       "2    9\n",
       "3    9\n",
       "dtype: int64"
      ]
     },
     "execution_count": 12,
     "metadata": {},
     "output_type": "execute_result"
    }
   ],
   "source": [
    "s6 = pd.Series(9, index = [1, 2, 3])\n",
    "s6"
   ]
  },
  {
   "cell_type": "markdown",
   "id": "da56ce2b",
   "metadata": {},
   "source": [
    "## DataFrame\n",
    "pandas.DataFrame(data = None, index = None, dtype = None, name = None)"
   ]
  },
  {
   "cell_type": "code",
   "execution_count": 16,
   "id": "2f2ae466",
   "metadata": {},
   "outputs": [
    {
     "name": "stdout",
     "output_type": "stream",
     "text": [
      "2020    20\n",
      "2021    21\n",
      "2022    19\n",
      "2020    25\n",
      "2021    26\n",
      "2022    27\n",
      "2020    30\n",
      "2021    29\n",
      "2022    31\n",
      "dtype: int64\n"
     ]
    }
   ],
   "source": [
    "import pandas as pd\n",
    "\n",
    "years = range(2020, 2023)\n",
    "beijing = pd.Series([20, 21, 19], index = years)\n",
    "hongkong = pd.Series([25, 26, 27], index = years)\n",
    "singapore = pd.Series([30, 29, 31], index = years)\n",
    "citydf = pd.concat([beijing, hongkong, singapore])\n",
    "print(citydf)"
   ]
  },
  {
   "cell_type": "code",
   "execution_count": 17,
   "id": "892961e7",
   "metadata": {},
   "outputs": [
    {
     "name": "stdout",
     "output_type": "stream",
     "text": [
      "       0   1   2\n",
      "2020  20  25  30\n",
      "2021  21  26  29\n",
      "2022  19  27  31\n"
     ]
    }
   ],
   "source": [
    "citydf = pd.concat([beijing, hongkong, singapore], axis = 1)\n",
    "print(citydf)"
   ]
  },
  {
   "cell_type": "code",
   "execution_count": 18,
   "id": "6d6f0f5d",
   "metadata": {},
   "outputs": [
    {
     "name": "stdout",
     "output_type": "stream",
     "text": [
      "      Beijing  Hongkong  Singapore\n",
      "2020       20        25         30\n",
      "2021       21        26         29\n",
      "2022       19        27         31\n"
     ]
    }
   ],
   "source": [
    "cities = ['Beijing', 'Hongkong', 'Singapore']\n",
    "citydf.columns = cities\n",
    "print(citydf)"
   ]
  },
  {
   "cell_type": "code",
   "execution_count": 19,
   "id": "274723f6",
   "metadata": {},
   "outputs": [
    {
     "name": "stdout",
     "output_type": "stream",
     "text": [
      "   apple  orange  grape\n",
      "0     50    30.0     80\n",
      "1     50     NaN     80\n"
     ]
    }
   ],
   "source": [
    "data = [{'apple':50, 'orange':30, 'grape':80}, {'apple':50, 'grape':80}]\n",
    "fruits = pd.DataFrame(data)\n",
    "print(fruits)"
   ]
  },
  {
   "cell_type": "code",
   "execution_count": 20,
   "id": "b961cc96",
   "metadata": {},
   "outputs": [
    {
     "name": "stdout",
     "output_type": "stream",
     "text": [
      "     country       town  population\n",
      "0      China    Beijing        2000\n",
      "1      Japan      Tokyo        1600\n",
      "2  Singapore  Singapore         600\n"
     ]
    }
   ],
   "source": [
    "cities = {'country':['China', 'Japan', 'Singapore'], \n",
    "          'town':['Beijing', 'Tokyo', 'Singapore'], \n",
    "          'population':[2000, 1600, 600]}\n",
    "citydf = pd.DataFrame(cities)\n",
    "print(citydf)"
   ]
  },
  {
   "cell_type": "code",
   "execution_count": 21,
   "id": "3372033f",
   "metadata": {},
   "outputs": [
    {
     "name": "stdout",
     "output_type": "stream",
     "text": [
      "                town  population\n",
      "China        Beijing        2000\n",
      "Japan          Tokyo        1600\n",
      "Singapore  Singapore         600\n"
     ]
    }
   ],
   "source": [
    "citydf = pd.DataFrame(cities, columns = ['town', 'population'], \n",
    "                      index = cities['country'])\n",
    "print(citydf)"
   ]
  },
  {
   "cell_type": "markdown",
   "id": "650da934",
   "metadata": {},
   "source": [
    "## Data Analyzing and Processing"
   ]
  },
  {
   "cell_type": "markdown",
   "id": "9bb93999",
   "metadata": {},
   "source": [
    "at: 使用index 和 columns 內容取得或設定單一元素內容或陣列內容\n",
    "\n",
    "iat: 使用index 和 columns 編號取得或設定單一元素內容\n",
    "\n",
    "loc: 使用index 和 columns 內容取得或設定整個row 或 columns 資料或陣列內容\n",
    "\n",
    "iloc: 使用index 和 columns 編號取得或設定整個row 或 columns 資料"
   ]
  },
  {
   "cell_type": "code",
   "execution_count": 24,
   "id": "9769817f",
   "metadata": {},
   "outputs": [
    {
     "name": "stdout",
     "output_type": "stream",
     "text": [
      "                town  population\n",
      "China        Beijing        2000\n",
      "Japan          Tokyo        1600\n",
      "Singapore  Singapore         600\n"
     ]
    }
   ],
   "source": [
    "df = pd.DataFrame(cities, columns = ['town', 'population'], \n",
    "                  index = cities['country'])\n",
    "print(df)"
   ]
  },
  {
   "cell_type": "code",
   "execution_count": 25,
   "id": "9763725b",
   "metadata": {},
   "outputs": [
    {
     "data": {
      "text/plain": [
       "'Tokyo'"
      ]
     },
     "execution_count": 25,
     "metadata": {},
     "output_type": "execute_result"
    }
   ],
   "source": [
    "df.at['Japan', 'town']"
   ]
  },
  {
   "cell_type": "code",
   "execution_count": 26,
   "id": "ab494c2a",
   "metadata": {},
   "outputs": [
    {
     "data": {
      "text/plain": [
       "'Singapore'"
      ]
     },
     "execution_count": 26,
     "metadata": {},
     "output_type": "execute_result"
    }
   ],
   "source": [
    "df.iat[2,0]"
   ]
  },
  {
   "cell_type": "code",
   "execution_count": 27,
   "id": "6bb63bc9",
   "metadata": {},
   "outputs": [
    {
     "data": {
      "text/plain": [
       "town          Singapore\n",
       "population          600\n",
       "Name: Singapore, dtype: object"
      ]
     },
     "execution_count": 27,
     "metadata": {},
     "output_type": "execute_result"
    }
   ],
   "source": [
    "df.loc['Singapore']"
   ]
  },
  {
   "cell_type": "code",
   "execution_count": 28,
   "id": "5ec6eecc",
   "metadata": {},
   "outputs": [
    {
     "data": {
      "text/html": [
       "<div>\n",
       "<style scoped>\n",
       "    .dataframe tbody tr th:only-of-type {\n",
       "        vertical-align: middle;\n",
       "    }\n",
       "\n",
       "    .dataframe tbody tr th {\n",
       "        vertical-align: top;\n",
       "    }\n",
       "\n",
       "    .dataframe thead th {\n",
       "        text-align: right;\n",
       "    }\n",
       "</style>\n",
       "<table border=\"1\" class=\"dataframe\">\n",
       "  <thead>\n",
       "    <tr style=\"text-align: right;\">\n",
       "      <th></th>\n",
       "      <th>town</th>\n",
       "      <th>population</th>\n",
       "    </tr>\n",
       "  </thead>\n",
       "  <tbody>\n",
       "    <tr>\n",
       "      <th>Japan</th>\n",
       "      <td>Tokyo</td>\n",
       "      <td>1600</td>\n",
       "    </tr>\n",
       "    <tr>\n",
       "      <th>China</th>\n",
       "      <td>Beijing</td>\n",
       "      <td>2000</td>\n",
       "    </tr>\n",
       "  </tbody>\n",
       "</table>\n",
       "</div>"
      ],
      "text/plain": [
       "          town  population\n",
       "Japan    Tokyo        1600\n",
       "China  Beijing        2000"
      ]
     },
     "execution_count": 28,
     "metadata": {},
     "output_type": "execute_result"
    }
   ],
   "source": [
    "df.loc[['Japan', 'China']]"
   ]
  },
  {
   "cell_type": "code",
   "execution_count": 29,
   "id": "31f9437e",
   "metadata": {},
   "outputs": [
    {
     "data": {
      "text/plain": [
       "town          Beijing\n",
       "population       2000\n",
       "Name: China, dtype: object"
      ]
     },
     "execution_count": 29,
     "metadata": {},
     "output_type": "execute_result"
    }
   ],
   "source": [
    "df.iloc[0]"
   ]
  },
  {
   "cell_type": "markdown",
   "id": "5c350cdf",
   "metadata": {},
   "source": [
    "## Arithmetics in Pandas"
   ]
  },
  {
   "cell_type": "markdown",
   "id": "0f43677a",
   "metadata": {},
   "source": [
    "add() sub() mul() div()"
   ]
  },
  {
   "cell_type": "markdown",
   "id": "8f2f718f",
   "metadata": {},
   "source": [
    "gt() lt() ge() le() eq() ne()"
   ]
  },
  {
   "cell_type": "markdown",
   "id": "bd1554fc",
   "metadata": {},
   "source": [
    "## Numpy and Pandas"
   ]
  },
  {
   "cell_type": "code",
   "execution_count": 32,
   "id": "a683b4ba",
   "metadata": {},
   "outputs": [
    {
     "name": "stdout",
     "output_type": "stream",
     "text": [
      "0    1\n",
      "1    4\n",
      "2    9\n",
      "dtype: int64\n"
     ]
    }
   ],
   "source": [
    "import numpy as np\n",
    "import pandas as pd\n",
    "\n",
    "s = pd.Series([1, 2, 3])\n",
    "x = np.square(s)\n",
    "print(x)"
   ]
  },
  {
   "cell_type": "markdown",
   "id": "e266dd72",
   "metadata": {},
   "source": [
    "## NaN"
   ]
  },
  {
   "cell_type": "code",
   "execution_count": 33,
   "id": "d1f8103b",
   "metadata": {},
   "outputs": [
    {
     "name": "stdout",
     "output_type": "stream",
     "text": [
      "0     NaN\n",
      "1     NaN\n",
      "2    13.0\n",
      "dtype: float64\n"
     ]
    }
   ],
   "source": [
    "s1 = pd.Series([1, np.nan, 5])\n",
    "s2 = pd.Series([np.nan, 6, 8])\n",
    "x = s1.add(s2)\n",
    "print(x)"
   ]
  },
  {
   "cell_type": "markdown",
   "id": "a2938b89",
   "metadata": {},
   "source": [
    "dropna() method: Delete NaN and then return the new object\n",
    "\n",
    "fillna(value) method: Replace NaN with the value\n",
    "\n",
    "isna() method: Determine whether it is NaN, a boolean value\n",
    "\n",
    "notna() method: Determine whether it is NaN, opposite of isna() method"
   ]
  },
  {
   "cell_type": "code",
   "execution_count": 34,
   "id": "a3a1c315",
   "metadata": {},
   "outputs": [
    {
     "name": "stdout",
     "output_type": "stream",
     "text": [
      "   0    1    2\n",
      "0  1  2.0  3.0\n",
      "1  4  NaN  6.0\n",
      "2  7  8.0  NaN\n"
     ]
    }
   ],
   "source": [
    "df = pd.DataFrame([[1, 2, 3], [4, np.nan, 6], [7, 8, np.nan]])\n",
    "print(df)"
   ]
  },
  {
   "cell_type": "code",
   "execution_count": 36,
   "id": "02dd16f3",
   "metadata": {},
   "outputs": [
    {
     "name": "stdout",
     "output_type": "stream",
     "text": [
      "       0      1      2\n",
      "0  False  False  False\n",
      "1  False   True  False\n",
      "2  False  False   True\n"
     ]
    }
   ],
   "source": [
    "x = df.isna()\n",
    "print(x)"
   ]
  },
  {
   "cell_type": "code",
   "execution_count": 37,
   "id": "d5d15a89",
   "metadata": {},
   "outputs": [
    {
     "name": "stdout",
     "output_type": "stream",
     "text": [
      "      0      1      2\n",
      "0  True   True   True\n",
      "1  True  False   True\n",
      "2  True   True  False\n"
     ]
    }
   ],
   "source": [
    "y = df.notna()\n",
    "print(y)"
   ]
  },
  {
   "cell_type": "code",
   "execution_count": 38,
   "id": "bf5f3f7c",
   "metadata": {},
   "outputs": [
    {
     "name": "stdout",
     "output_type": "stream",
     "text": [
      "   0    1    2\n",
      "0  1  2.0  3.0\n",
      "1  4  0.0  6.0\n",
      "2  7  8.0  0.0\n"
     ]
    }
   ],
   "source": [
    "z = df.fillna(0)\n",
    "print(z)"
   ]
  },
  {
   "cell_type": "code",
   "execution_count": 39,
   "id": "9cb21fc1",
   "metadata": {},
   "outputs": [
    {
     "name": "stdout",
     "output_type": "stream",
     "text": [
      "   0    1    2\n",
      "0  1  2.0  3.0\n"
     ]
    }
   ],
   "source": [
    "a = df.dropna()\n",
    "print(a)"
   ]
  },
  {
   "cell_type": "code",
   "execution_count": 40,
   "id": "c7ea4512",
   "metadata": {},
   "outputs": [
    {
     "name": "stdout",
     "output_type": "stream",
     "text": [
      "   0\n",
      "0  1\n",
      "1  4\n",
      "2  7\n"
     ]
    }
   ],
   "source": [
    "b = df.dropna(axis='columns')\n",
    "print(b)"
   ]
  },
  {
   "cell_type": "markdown",
   "id": "4d40c78b",
   "metadata": {},
   "source": [
    "## Simple Statistic Function"
   ]
  },
  {
   "cell_type": "markdown",
   "id": "7daf8af4",
   "metadata": {},
   "source": [
    "cummax(axis=None): 傳回指定軸累積的最大值\n",
    "\n",
    "cummin(axis=None): 傳回指定軸累積的最小值\n",
    "\n",
    "cumsum(axis=None): 傳回指定軸累積的總和\n",
    "\n",
    "max(axis=None): 傳回指定軸的最大值\n",
    "\n",
    "min(axis=None): 傳回指定軸的最小值\n",
    "\n",
    "sum(axis=None): 傳回指定軸的總和\n",
    "\n",
    "mean(axis=None): 傳回指定軸的平均數\n",
    "\n",
    "median(axis=None): 傳回指定軸的中位數\n",
    "\n",
    "std(axis=None): 傳回指定軸的標準差\n",
    "\n",
    "loc(): 增加index\n",
    "\n",
    "drop(): 刪除index\n",
    "\n",
    "sort_values(): 排序"
   ]
  },
  {
   "cell_type": "markdown",
   "id": "cdb2cef7",
   "metadata": {},
   "source": [
    "## Pandas Drawing"
   ]
  },
  {
   "cell_type": "code",
   "execution_count": 42,
   "id": "92aa672c",
   "metadata": {},
   "outputs": [
    {
     "data": {
      "image/png": "[encoded data removed]",
      "text/plain": [
       "<Figure size 432x288 with 1 Axes>"
      ]
     },
     "metadata": {
      "needs_background": "light"
     },
     "output_type": "display_data"
    }
   ],
   "source": [
    "import pandas as pd\n",
    "import matplotlib.pyplot as plt\n",
    "\n",
    "population = [860, 1100, 1450, 1800, 2020, 2200, 2260]\n",
    "tw = pd.Series(population, index=range(1950, 2011, 10))\n",
    "tw.plot(title='Population in Taiwan')\n",
    "plt.xlabel('Year')\n",
    "plt.ylabel('Population')\n",
    "plt.show()"
   ]
  },
  {
   "cell_type": "code",
   "execution_count": 43,
   "id": "fe3e97a1",
   "metadata": {},
   "outputs": [
    {
     "data": {
      "image/png": "[encoded data removed]",
      "text/plain": [
       "<Figure size 432x288 with 1 Axes>"
      ]
     },
     "metadata": {
      "needs_background": "light"
     },
     "output_type": "display_data"
    }
   ],
   "source": [
    "cities = {'population':[1000, 850, 800, 1500, 600, 800], \n",
    "          'town':['New York', 'Chicago', 'Bangkok', 'Tokyo', 'Singaport', 'Hongkong']}\n",
    "\n",
    "tw = pd.DataFrame(cities, columns=['population'], index=cities['town'])\n",
    "\n",
    "tw.plot(title='Population in the world')\n",
    "plt.xlabel('City')\n",
    "plt.ylabel('Population')\n",
    "plt.show()"
   ]
  },
  {
   "cell_type": "code",
   "execution_count": 44,
   "id": "cc8ce8aa",
   "metadata": {},
   "outputs": [
    {
     "data": {
      "image/png": "[encoded data removed]",
      "text/plain": [
       "<Figure size 432x288 with 1 Axes>"
      ]
     },
     "metadata": {
      "needs_background": "light"
     },
     "output_type": "display_data"
    }
   ],
   "source": [
    "tw.plot(title='Population in the world', kind='bar')\n",
    "plt.xlabel('City')\n",
    "plt.ylabel('Population')\n",
    "plt.show()"
   ]
  },
  {
   "cell_type": "code",
   "execution_count": 45,
   "id": "8b6c4d99",
   "metadata": {},
   "outputs": [
    {
     "data": {
      "image/png": "[encoded data removed]",
      "text/plain": [
       "<Figure size 432x288 with 1 Axes>"
      ]
     },
     "metadata": {
      "needs_background": "light"
     },
     "output_type": "display_data"
    }
   ],
   "source": [
    "cities = {'population':[1000, 850, 800, 1500, 600, 800], \n",
    "          'area':[400, 500, 850, 300, 200, 320], \n",
    "          'town':['New York', 'Chicago', 'Bangkok', 'Tokyo', 'Singaport', 'Hongkong']}\n",
    "\n",
    "tw = pd.DataFrame(cities, columns=['population','area'], index=cities['town'])\n",
    "\n",
    "tw.plot(title='Population in the world')\n",
    "plt.xlabel('City')\n",
    "plt.show()"
   ]
  },
  {
   "cell_type": "code",
   "execution_count": 47,
   "id": "94670778",
   "metadata": {},
   "outputs": [
    {
     "data": {
      "image/png": "[encoded data removed]",
      "text/plain": [
       "<Figure size 432x288 with 2 Axes>"
      ]
     },
     "metadata": {
      "needs_background": "light"
     },
     "output_type": "display_data"
    }
   ],
   "source": [
    "fig,ax = plt.subplots()\n",
    "fig.suptitle('City Statistics')\n",
    "ax.set_ylabel('Population')\n",
    "ax.set_xlabel('City')\n",
    "\n",
    "ax2 = ax.twinx()\n",
    "ax2.set_ylabel('Area')\n",
    "tw['population'].plot(ax=ax, rot=90)\n",
    "tw['area'].plot(ax=ax2, style='g-')\n",
    "ax.legend(loc=1)\n",
    "ax2.legend(loc=2)\n",
    "plt.show()"
   ]
  },
  {
   "cell_type": "code",
   "execution_count": 48,
   "id": "36bd50a7",
   "metadata": {},
   "outputs": [
    {
     "data": {
      "image/png": "[encoded data removed]",
      "text/plain": [
       "<Figure size 432x288 with 1 Axes>"
      ]
     },
     "metadata": {},
     "output_type": "display_data"
    }
   ],
   "source": [
    "fruits = ['Apples', 'Bananas', 'Grapes', 'Pears', 'Oranges']\n",
    "s = pd.Series([2300, 5000, 1200, 2500, 2900], index=fruits, \n",
    "              name='Fruits Shop')\n",
    "explode = [0.4, 0, 0, 0.2, 0]\n",
    "s.plot.pie(explode = explode, autopct='%1.2f%%')\n",
    "plt.show()"
   ]
  }
 ],
 "metadata": {
  "kernelspec": {
   "display_name": "Python 3",
   "language": "python",
   "name": "python3"
  },
  "language_info": {
   "codemirror_mode": {
    "name": "ipython",
    "version": 3
   },
   "file_extension": ".py",
   "mimetype": "text/x-python",
   "name": "python",
   "nbconvert_exporter": "python",
   "pygments_lexer": "ipython3",
   "version": "3.8.8"
  }
 },
 "nbformat": 4,
 "nbformat_minor": 5
}

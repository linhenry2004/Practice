{
 "cells": [
  {
   "cell_type": "markdown",
   "id": "311ff63a",
   "metadata": {},
   "source": [
    "# JSON Module Python "
   ]
  },
  {
   "cell_type": "code",
   "execution_count": 1,
   "id": "beaa48c2",
   "metadata": {},
   "outputs": [],
   "source": [
    "import json"
   ]
  },
  {
   "cell_type": "code",
   "execution_count": 2,
   "id": "f6bf59fa",
   "metadata": {},
   "outputs": [
    {
     "name": "stdout",
     "output_type": "stream",
     "text": [
      "[5, 10, 20, 1]\n",
      "[1, 5, 10, 9]\n",
      "<class 'str'>\n"
     ]
    }
   ],
   "source": [
    "#dumps() method: Turn Python data into JSON string data\n",
    "listNumbers = [5, 10, 20, 1]\n",
    "tupleNumbers = (1, 5, 10, 9)\n",
    "jsonData1 = json.dumps(listNumbers)\n",
    "jsonData2 = json.dumps(tupleNumbers)\n",
    "print(jsonData1)\n",
    "print(jsonData2)\n",
    "print(type(jsonData1))"
   ]
  },
  {
   "cell_type": "code",
   "execution_count": 3,
   "id": "f7a5cd84",
   "metadata": {},
   "outputs": [
    {
     "name": "stdout",
     "output_type": "stream",
     "text": [
      "[{\"Name\": \"Peter\", \"Age\": 25, \"Gender\": \"M\"}]\n",
      "<class 'str'>\n"
     ]
    }
   ],
   "source": [
    "listObj = [{'Name':'Peter', 'Age':25, 'Gender':'M'}]\n",
    "jsonData = json.dumps(listObj)\n",
    "print(jsonData)\n",
    "print(type(jsonData))"
   ]
  },
  {
   "cell_type": "code",
   "execution_count": 4,
   "id": "1477f9e0",
   "metadata": {},
   "outputs": [
    {
     "name": "stdout",
     "output_type": "stream",
     "text": [
      "{\"Name\": \"Peter\", \"Age\": 25, \"Gender\": \"M\"}\n",
      "{\"Age\": 25, \"Gender\": \"M\", \"Name\": \"Peter\"}\n",
      "<class 'str'>\n"
     ]
    }
   ],
   "source": [
    "#sort_keys parameter\n",
    "dictObj = {'Name':'Peter', 'Age':25, 'Gender':'M'}\n",
    "jsonObj1 = json.dumps(dictObj)\n",
    "jsonObj2 = json.dumps(dictObj, sort_keys=True)\n",
    "print(jsonObj1)\n",
    "print(jsonObj2)\n",
    "print(type(jsonObj1))"
   ]
  },
  {
   "cell_type": "code",
   "execution_count": 5,
   "id": "c56368e9",
   "metadata": {},
   "outputs": [
    {
     "name": "stdout",
     "output_type": "stream",
     "text": [
      "{\n",
      "    \"Age\": 25,\n",
      "    \"Gender\": \"M\",\n",
      "    \"Name\": \"Peter\"\n",
      "}\n"
     ]
    }
   ],
   "source": [
    "#indent parameter\n",
    "jsonObj = json.dumps(dictObj, sort_keys = True, indent=4)\n",
    "print(jsonObj)"
   ]
  },
  {
   "cell_type": "code",
   "execution_count": 6,
   "id": "af98ebb0",
   "metadata": {},
   "outputs": [
    {
     "name": "stdout",
     "output_type": "stream",
     "text": [
      "{'b': 80, 'a': 25, 'c': 60}\n",
      "<class 'dict'>\n"
     ]
    }
   ],
   "source": [
    "#loads() method: Opposite of dumps()\n",
    "jsonObj = '{\"b\":80, \"a\":25, \"c\":60}'\n",
    "dictObj = json.loads(jsonObj)\n",
    "print(dictObj)\n",
    "print(type(dictObj))"
   ]
  },
  {
   "cell_type": "code",
   "execution_count": 7,
   "id": "b3831627",
   "metadata": {},
   "outputs": [
    {
     "name": "stdout",
     "output_type": "stream",
     "text": [
      "{'Asia': [{'Japan': 'Tokyo'}, {'China': 'Beijing'}]}\n",
      "[{'Japan': 'Tokyo'}, {'China': 'Beijing'}]\n",
      "{'Japan': 'Tokyo'}\n",
      "{'China': 'Beijing'}\n",
      "Tokyo\n",
      "Beijing\n"
     ]
    }
   ],
   "source": [
    "#Put multiple json file in a json file\n",
    "obj = '{\"Asia\":[{\"Japan\":\"Tokyo\"},{\"China\":\"Beijing\"}]}'\n",
    "json_obj = json.loads(obj)\n",
    "print(json_obj)\n",
    "print(json_obj[\"Asia\"])\n",
    "print(json_obj[\"Asia\"][0])\n",
    "print(json_obj[\"Asia\"][1])\n",
    "print(json_obj[\"Asia\"][0][\"Japan\"])\n",
    "print(json_obj[\"Asia\"][1][\"China\"])"
   ]
  },
  {
   "cell_type": "code",
   "execution_count": 8,
   "id": "4a249325",
   "metadata": {},
   "outputs": [],
   "source": [
    "#Turn into real .json file\n",
    "dictObj = {'b':80, 'a':25, 'c':60}\n",
    "filename = 'dumpjson.json'\n",
    "with open(filename, 'w') as fileObj:\n",
    "    json.dump(dictObj, fileObj)"
   ]
  },
  {
   "cell_type": "code",
   "execution_count": 9,
   "id": "78384063",
   "metadata": {},
   "outputs": [
    {
     "name": "stdout",
     "output_type": "stream",
     "text": [
      "{'b': 80, 'a': 25, 'c': 60}\n",
      "<class 'dict'>\n"
     ]
    }
   ],
   "source": [
    "#load() method\n",
    "with open (filename, 'r') as fileObj: \n",
    "    data = json.load(fileObj)\n",
    "print(data)\n",
    "print(type(data))"
   ]
  },
  {
   "cell_type": "code",
   "execution_count": 12,
   "id": "fdc0385c",
   "metadata": {},
   "outputs": [
    {
     "name": "stdout",
     "output_type": "stream",
     "text": [
      "Sign in: Peter\n",
      "Welcome Peter!\n"
     ]
    }
   ],
   "source": [
    "filename = 'login.json'\n",
    "login = input(\"Sign in: \")\n",
    "with open(filename, 'w') as fileObj: \n",
    "    json.dump(login, fileObj)\n",
    "    print(\"Welcome %s!\" % login)"
   ]
  },
  {
   "cell_type": "code",
   "execution_count": 15,
   "id": "6c59b892",
   "metadata": {},
   "outputs": [
    {
     "name": "stdout",
     "output_type": "stream",
     "text": [
      "Welcome Peter!\n"
     ]
    }
   ],
   "source": [
    "with open(filename, 'r') as fileObj: \n",
    "    login = json.load(fileObj)\n",
    "    print(\"Welcome %s!\" % login)"
   ]
  },
  {
   "cell_type": "code",
   "execution_count": 18,
   "id": "c4ce1dc6",
   "metadata": {},
   "outputs": [
    {
     "name": "stdout",
     "output_type": "stream",
     "text": [
      "Welcome Peter\n"
     ]
    }
   ],
   "source": [
    "filename = 'login2.json'\n",
    "try: \n",
    "    with open(filename) as fileObj: \n",
    "        login = json.load(fileObj)\n",
    "except Exception:\n",
    "    login = input(\"Sign in:\")\n",
    "    with open(filename, 'w') as fileObj: \n",
    "        json.dump(login, fileObj)\n",
    "        print(\"Signed up\")\n",
    "else: \n",
    "    print(\"Welcome %s\" % login)"
   ]
  },
  {
   "cell_type": "markdown",
   "id": "4aa99322",
   "metadata": {},
   "source": [
    "## pygal.maps.world"
   ]
  },
  {
   "cell_type": "code",
   "execution_count": 19,
   "id": "9a61fc32",
   "metadata": {},
   "outputs": [
    {
     "name": "stdout",
     "output_type": "stream",
     "text": [
      "Country code: ad \t country name: Andorra\n",
      "Country code: ae \t country name: United Arab Emirates\n",
      "Country code: af \t country name: Afghanistan\n",
      "Country code: al \t country name: Albania\n",
      "Country code: am \t country name: Armenia\n",
      "Country code: ao \t country name: Angola\n",
      "Country code: aq \t country name: Antarctica\n",
      "Country code: ar \t country name: Argentina\n",
      "Country code: at \t country name: Austria\n",
      "Country code: au \t country name: Australia\n",
      "Country code: az \t country name: Azerbaijan\n",
      "Country code: ba \t country name: Bosnia and Herzegovina\n",
      "Country code: bd \t country name: Bangladesh\n",
      "Country code: be \t country name: Belgium\n",
      "Country code: bf \t country name: Burkina Faso\n",
      "Country code: bg \t country name: Bulgaria\n",
      "Country code: bh \t country name: Bahrain\n",
      "Country code: bi \t country name: Burundi\n",
      "Country code: bj \t country name: Benin\n",
      "Country code: bn \t country name: Brunei Darussalam\n",
      "Country code: bo \t country name: Bolivia, Plurinational State of\n",
      "Country code: br \t country name: Brazil\n",
      "Country code: bt \t country name: Bhutan\n",
      "Country code: bw \t country name: Botswana\n",
      "Country code: by \t country name: Belarus\n",
      "Country code: bz \t country name: Belize\n",
      "Country code: ca \t country name: Canada\n",
      "Country code: cd \t country name: Congo, the Democratic Republic of the\n",
      "Country code: cf \t country name: Central African Republic\n",
      "Country code: cg \t country name: Congo\n",
      "Country code: ch \t country name: Switzerland\n",
      "Country code: ci \t country name: Cote d'Ivoire\n",
      "Country code: cl \t country name: Chile\n",
      "Country code: cm \t country name: Cameroon\n",
      "Country code: cn \t country name: China\n",
      "Country code: co \t country name: Colombia\n",
      "Country code: cr \t country name: Costa Rica\n",
      "Country code: cu \t country name: Cuba\n",
      "Country code: cv \t country name: Cape Verde\n",
      "Country code: cy \t country name: Cyprus\n",
      "Country code: cz \t country name: Czech Republic\n",
      "Country code: de \t country name: Germany\n",
      "Country code: dj \t country name: Djibouti\n",
      "Country code: dk \t country name: Denmark\n",
      "Country code: do \t country name: Dominican Republic\n",
      "Country code: dz \t country name: Algeria\n",
      "Country code: ec \t country name: Ecuador\n",
      "Country code: ee \t country name: Estonia\n",
      "Country code: eg \t country name: Egypt\n",
      "Country code: eh \t country name: Western Sahara\n",
      "Country code: er \t country name: Eritrea\n",
      "Country code: es \t country name: Spain\n",
      "Country code: et \t country name: Ethiopia\n",
      "Country code: fi \t country name: Finland\n",
      "Country code: fr \t country name: France\n",
      "Country code: ga \t country name: Gabon\n",
      "Country code: gb \t country name: United Kingdom\n",
      "Country code: ge \t country name: Georgia\n",
      "Country code: gf \t country name: French Guiana\n",
      "Country code: gh \t country name: Ghana\n",
      "Country code: gl \t country name: Greenland\n",
      "Country code: gm \t country name: Gambia\n",
      "Country code: gn \t country name: Guinea\n",
      "Country code: gq \t country name: Equatorial Guinea\n",
      "Country code: gr \t country name: Greece\n",
      "Country code: gt \t country name: Guatemala\n",
      "Country code: gu \t country name: Guam\n",
      "Country code: gw \t country name: Guinea-Bissau\n",
      "Country code: gy \t country name: Guyana\n",
      "Country code: hk \t country name: Hong Kong\n",
      "Country code: hn \t country name: Honduras\n",
      "Country code: hr \t country name: Croatia\n",
      "Country code: ht \t country name: Haiti\n",
      "Country code: hu \t country name: Hungary\n",
      "Country code: id \t country name: Indonesia\n",
      "Country code: ie \t country name: Ireland\n",
      "Country code: il \t country name: Israel\n",
      "Country code: in \t country name: India\n",
      "Country code: iq \t country name: Iraq\n",
      "Country code: ir \t country name: Iran, Islamic Republic of\n",
      "Country code: is \t country name: Iceland\n",
      "Country code: it \t country name: Italy\n",
      "Country code: jm \t country name: Jamaica\n",
      "Country code: jo \t country name: Jordan\n",
      "Country code: jp \t country name: Japan\n",
      "Country code: ke \t country name: Kenya\n",
      "Country code: kg \t country name: Kyrgyzstan\n",
      "Country code: kh \t country name: Cambodia\n",
      "Country code: kp \t country name: Korea, Democratic People's Republic of\n",
      "Country code: kr \t country name: Korea, Republic of\n",
      "Country code: kw \t country name: Kuwait\n",
      "Country code: kz \t country name: Kazakhstan\n",
      "Country code: la \t country name: Lao People's Democratic Republic\n",
      "Country code: lb \t country name: Lebanon\n",
      "Country code: li \t country name: Liechtenstein\n",
      "Country code: lk \t country name: Sri Lanka\n",
      "Country code: lr \t country name: Liberia\n",
      "Country code: ls \t country name: Lesotho\n",
      "Country code: lt \t country name: Lithuania\n",
      "Country code: lu \t country name: Luxembourg\n",
      "Country code: lv \t country name: Latvia\n",
      "Country code: ly \t country name: Libyan Arab Jamahiriya\n",
      "Country code: ma \t country name: Morocco\n",
      "Country code: mc \t country name: Monaco\n",
      "Country code: md \t country name: Moldova, Republic of\n",
      "Country code: me \t country name: Montenegro\n",
      "Country code: mg \t country name: Madagascar\n",
      "Country code: mk \t country name: Macedonia, the former Yugoslav Republic of\n",
      "Country code: ml \t country name: Mali\n",
      "Country code: mm \t country name: Myanmar\n",
      "Country code: mn \t country name: Mongolia\n",
      "Country code: mo \t country name: Macao\n",
      "Country code: mr \t country name: Mauritania\n",
      "Country code: mt \t country name: Malta\n",
      "Country code: mu \t country name: Mauritius\n",
      "Country code: mv \t country name: Maldives\n",
      "Country code: mw \t country name: Malawi\n",
      "Country code: mx \t country name: Mexico\n",
      "Country code: my \t country name: Malaysia\n",
      "Country code: mz \t country name: Mozambique\n",
      "Country code: na \t country name: Namibia\n",
      "Country code: ne \t country name: Niger\n",
      "Country code: ng \t country name: Nigeria\n",
      "Country code: ni \t country name: Nicaragua\n",
      "Country code: nl \t country name: Netherlands\n",
      "Country code: no \t country name: Norway\n",
      "Country code: np \t country name: Nepal\n",
      "Country code: nz \t country name: New Zealand\n",
      "Country code: om \t country name: Oman\n",
      "Country code: pa \t country name: Panama\n",
      "Country code: pe \t country name: Peru\n",
      "Country code: pg \t country name: Papua New Guinea\n",
      "Country code: ph \t country name: Philippines\n",
      "Country code: pk \t country name: Pakistan\n",
      "Country code: pl \t country name: Poland\n",
      "Country code: pr \t country name: Puerto Rico\n",
      "Country code: ps \t country name: Palestine, State of\n",
      "Country code: pt \t country name: Portugal\n",
      "Country code: py \t country name: Paraguay\n",
      "Country code: re \t country name: Reunion\n",
      "Country code: ro \t country name: Romania\n",
      "Country code: rs \t country name: Serbia\n",
      "Country code: ru \t country name: Russian Federation\n",
      "Country code: rw \t country name: Rwanda\n",
      "Country code: sa \t country name: Saudi Arabia\n",
      "Country code: sc \t country name: Seychelles\n",
      "Country code: sd \t country name: Sudan\n",
      "Country code: se \t country name: Sweden\n",
      "Country code: sg \t country name: Singapore\n",
      "Country code: sh \t country name: Saint Helena, Ascension and Tristan da Cunha\n",
      "Country code: si \t country name: Slovenia\n",
      "Country code: sk \t country name: Slovakia\n",
      "Country code: sl \t country name: Sierra Leone\n",
      "Country code: sm \t country name: San Marino\n",
      "Country code: sn \t country name: Senegal\n",
      "Country code: so \t country name: Somalia\n",
      "Country code: sr \t country name: Suriname\n",
      "Country code: st \t country name: Sao Tome and Principe\n",
      "Country code: sv \t country name: El Salvador\n",
      "Country code: sy \t country name: Syrian Arab Republic\n",
      "Country code: sz \t country name: Swaziland\n",
      "Country code: td \t country name: Chad\n",
      "Country code: tg \t country name: Togo\n",
      "Country code: th \t country name: Thailand\n",
      "Country code: tj \t country name: Tajikistan\n",
      "Country code: tl \t country name: Timor-Leste\n",
      "Country code: tm \t country name: Turkmenistan\n",
      "Country code: tn \t country name: Tunisia\n",
      "Country code: tr \t country name: Turkey\n",
      "Country code: tw \t country name: Taiwan, Province of China\n",
      "Country code: tz \t country name: Tanzania, United Republic of\n",
      "Country code: ua \t country name: Ukraine\n",
      "Country code: ug \t country name: Uganda\n",
      "Country code: us \t country name: United States\n",
      "Country code: uy \t country name: Uruguay\n",
      "Country code: uz \t country name: Uzbekistan\n",
      "Country code: va \t country name: Holy See (Vatican City State)\n",
      "Country code: ve \t country name: Venezuela, Bolivarian Republic of\n",
      "Country code: vn \t country name: Viet Nam\n",
      "Country code: ye \t country name: Yemen\n",
      "Country code: yt \t country name: Mayotte\n",
      "Country code: za \t country name: South Africa\n",
      "Country code: zm \t country name: Zambia\n",
      "Country code: zw \t country name: Zimbabwe\n"
     ]
    }
   ],
   "source": [
    "from pygal.maps.world import COUNTRIES\n",
    "\n",
    "for countryCode in sorted(COUNTRIES.keys()):\n",
    "    print('Country code:', countryCode, '\\t country name:', COUNTRIES[countryCode])"
   ]
  }
 ],
 "metadata": {
  "kernelspec": {
   "display_name": "Python 3",
   "language": "python",
   "name": "python3"
  },
  "language_info": {
   "codemirror_mode": {
    "name": "ipython",
    "version": 3
   },
   "file_extension": ".py",
   "mimetype": "text/x-python",
   "name": "python",
   "nbconvert_exporter": "python",
   "pygments_lexer": "ipython3",
   "version": "3.8.8"
  }
 },
 "nbformat": 4,
 "nbformat_minor": 5
}

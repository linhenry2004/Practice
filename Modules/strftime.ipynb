{
 "cells": [
  {
   "cell_type": "code",
   "execution_count": 1,
   "id": "625fe1e6",
   "metadata": {
    "scrolled": true
   },
   "outputs": [
    {
     "name": "stdout",
     "output_type": "stream",
     "text": [
      "2021-07-14 15:01:09.766938\n"
     ]
    }
   ],
   "source": [
    "from datetime import datetime\n",
    "now = datetime.now()\n",
    "print(now)"
   ]
  },
  {
   "cell_type": "code",
   "execution_count": 2,
   "id": "17b73972",
   "metadata": {},
   "outputs": [
    {
     "name": "stdout",
     "output_type": "stream",
     "text": [
      "Weekday as locale's abbreviated name: Wed\n"
     ]
    }
   ],
   "source": [
    "day = now.strftime(\"%a\")\n",
    "print(\"Weekday as locale's abbreviated name:\", day)"
   ]
  },
  {
   "cell_type": "markdown",
   "id": "dfbe4585",
   "metadata": {},
   "source": [
    "### Code - %a : Weekday as locale’s abbreviated name.\n",
    "Example:\n",
    "Sun, Mon, …, Sat (en_US);\n",
    "So, Mo, …, Sa (de_DE)"
   ]
  },
  {
   "cell_type": "code",
   "execution_count": 3,
   "id": "e8612cd4",
   "metadata": {},
   "outputs": [
    {
     "name": "stdout",
     "output_type": "stream",
     "text": [
      "Weekday as locale's full name: Wednesday\n"
     ]
    }
   ],
   "source": [
    "day = now.strftime(\"%A\")\n",
    "print(\"Weekday as locale's full name:\", day)"
   ]
  },
  {
   "cell_type": "markdown",
   "id": "719123dc",
   "metadata": {},
   "source": [
    "### Code - %A : Weekday as locale’s full name\n",
    "Example:\n",
    "Sunday, Monday, …, Saturday (en_US);\n",
    "Sonntag, Montag, …, Samstag (de_DE)"
   ]
  },
  {
   "cell_type": "code",
   "execution_count": 4,
   "id": "e262d35b",
   "metadata": {},
   "outputs": [
    {
     "name": "stdout",
     "output_type": "stream",
     "text": [
      "Weekday as a decimal number: 3\n"
     ]
    }
   ],
   "source": [
    "day = now.strftime(\"%w\")\n",
    "print(\"Weekday as a decimal number:\", day)"
   ]
  },
  {
   "cell_type": "markdown",
   "id": "0f7dab28",
   "metadata": {},
   "source": [
    "### Code - %w: Weekday as a decimal number, where 0 is Sunday and 6 is Saturday.\n",
    "Example:\n",
    "0, 1, …, 6"
   ]
  },
  {
   "cell_type": "code",
   "execution_count": 6,
   "id": "49522b3b",
   "metadata": {},
   "outputs": [
    {
     "name": "stdout",
     "output_type": "stream",
     "text": [
      "Day of the month as a zero-padded decimal number: 14\n"
     ]
    }
   ],
   "source": [
    "day = now.strftime(\"%d\")\n",
    "print(\"Day of the month as a zero-padded decimal number:\", day)"
   ]
  },
  {
   "cell_type": "markdown",
   "id": "a5ca6ffd",
   "metadata": {},
   "source": [
    "### Code - %d: Day of the month as a zero-padded decimal number.\n",
    "Example:\n",
    "01, 02, …, 31"
   ]
  },
  {
   "cell_type": "code",
   "execution_count": 7,
   "id": "a5572b71",
   "metadata": {},
   "outputs": [
    {
     "name": "stdout",
     "output_type": "stream",
     "text": [
      "Month as locale's abbreviated name: Jul\n"
     ]
    }
   ],
   "source": [
    "day = now.strftime(\"%b\")\n",
    "print(\"Month as locale's abbreviated name:\", day)"
   ]
  },
  {
   "cell_type": "markdown",
   "id": "59d36c55",
   "metadata": {},
   "source": [
    "### Code - %b: Month as locale’s abbreviated name.\n",
    "Example:\n",
    "Jan, Feb, …, Dec (en_US);\n",
    "Jan, Feb, …, Dez (de_DE)"
   ]
  },
  {
   "cell_type": "code",
   "execution_count": 8,
   "id": "933911d7",
   "metadata": {},
   "outputs": [
    {
     "name": "stdout",
     "output_type": "stream",
     "text": [
      "Month as locale's full Name: July\n"
     ]
    }
   ],
   "source": [
    "day = now.strftime(\"%B\")\n",
    "print(\"Month as locale's full Name:\", day)"
   ]
  },
  {
   "cell_type": "markdown",
   "id": "fd0902ab",
   "metadata": {},
   "source": [
    "### Code - %B: Month as locale’s full name.\n",
    "Example:\n",
    "January, February, …, December (en_US);\n",
    "Januar, Februar, …, Dezember (de_DE)"
   ]
  },
  {
   "cell_type": "code",
   "execution_count": 9,
   "id": "dfad651d",
   "metadata": {},
   "outputs": [
    {
     "name": "stdout",
     "output_type": "stream",
     "text": [
      "Month as a zero-padded decimal number: 07\n"
     ]
    }
   ],
   "source": [
    "day = now.strftime(\"%m\")\n",
    "print(\"Month as a zero-padded decimal number:\", day)"
   ]
  },
  {
   "cell_type": "markdown",
   "id": "9090ca63",
   "metadata": {},
   "source": [
    "### Code - %m: Month as a zero-padded decimal number.\n",
    "Example:\n",
    "01, 02, …, 12"
   ]
  },
  {
   "cell_type": "code",
   "execution_count": 10,
   "id": "27840eaa",
   "metadata": {},
   "outputs": [
    {
     "name": "stdout",
     "output_type": "stream",
     "text": [
      "Year without century as a zero-padded decimal number: 21\n"
     ]
    }
   ],
   "source": [
    "day = now.strftime(\"%y\")\n",
    "print(\"Year without century as a zero-padded decimal number:\", day)"
   ]
  },
  {
   "cell_type": "markdown",
   "id": "6359aa4c",
   "metadata": {},
   "source": [
    "### Code - %y: Year without century as a zero-padded decimal number.\n",
    "Example:\n",
    "00, 01, …, 99"
   ]
  },
  {
   "cell_type": "code",
   "execution_count": 11,
   "id": "2c674f98",
   "metadata": {},
   "outputs": [
    {
     "name": "stdout",
     "output_type": "stream",
     "text": [
      "Year with century as a decimal number: 2021\n"
     ]
    }
   ],
   "source": [
    "day = now.strftime(\"%Y\") \n",
    "print(\"Year with century as a decimal number:\", day)"
   ]
  },
  {
   "cell_type": "markdown",
   "id": "6824165b",
   "metadata": {},
   "source": [
    "### Code - %Y: Year with century as a decimal number.\n",
    "Example:\n",
    "0001, 0002, …, 2013, 2014, …, 9998, 9999"
   ]
  },
  {
   "cell_type": "code",
   "execution_count": 12,
   "id": "766e0aed",
   "metadata": {},
   "outputs": [
    {
     "name": "stdout",
     "output_type": "stream",
     "text": [
      "Hour as a zero-padded decimal number: 15\n"
     ]
    }
   ],
   "source": [
    "day = now.strftime(\"%H\") \n",
    "print(\"Hour as a zero-padded decimal number:\", day)"
   ]
  },
  {
   "cell_type": "markdown",
   "id": "d4b8abb8",
   "metadata": {},
   "source": [
    "### Code - %H: Hour (24-hour clock) as a zero-padded decimal number.\n",
    "Example:\n",
    "00, 01, …, 23"
   ]
  },
  {
   "cell_type": "code",
   "execution_count": 13,
   "id": "65bdbd1d",
   "metadata": {},
   "outputs": [
    {
     "name": "stdout",
     "output_type": "stream",
     "text": [
      "Hour as a zero-paddes decimal number: 03\n"
     ]
    }
   ],
   "source": [
    "day = now.strftime(\"%I\") \n",
    "print(\"Hour as a zero-paddes decimal number:\", day)"
   ]
  },
  {
   "cell_type": "markdown",
   "id": "56fcf82d",
   "metadata": {},
   "source": [
    "### Code - %I: Hour (12-hour clock) as a zero-padded decimal number.\n",
    "Example:\n",
    "01, 02, …, 12"
   ]
  },
  {
   "cell_type": "code",
   "execution_count": 20,
   "id": "cd5a6880",
   "metadata": {},
   "outputs": [
    {
     "name": "stdout",
     "output_type": "stream",
     "text": [
      "Locale's equivalent of either AM or PM: PM\n"
     ]
    }
   ],
   "source": [
    "day = now.strftime(\"%p\") \n",
    "print(\"Locale's equivalent of either AM or PM:\", day)"
   ]
  },
  {
   "cell_type": "markdown",
   "id": "456f980b",
   "metadata": {},
   "source": [
    "### Code - %p: Locale’s equivalent of either AM or PM.\n",
    "Example:\n",
    "AM, PM (en_US);\n",
    "am, pm (de_DE)"
   ]
  },
  {
   "cell_type": "code",
   "execution_count": 15,
   "id": "e9b4f848",
   "metadata": {},
   "outputs": [
    {
     "name": "stdout",
     "output_type": "stream",
     "text": [
      "Minute as a zero-padded decimal number: 01\n"
     ]
    }
   ],
   "source": [
    "day = now.strftime(\"%M\") \n",
    "print(\"Minute as a zero-padded decimal number:\", day)"
   ]
  },
  {
   "cell_type": "markdown",
   "id": "5609c1ed",
   "metadata": {},
   "source": [
    "### Code - %M: Minute as a zero-padded decimal number.\n",
    "Example:\n",
    "00, 01, …, 59"
   ]
  },
  {
   "cell_type": "code",
   "execution_count": 16,
   "id": "981e9d07",
   "metadata": {},
   "outputs": [
    {
     "name": "stdout",
     "output_type": "stream",
     "text": [
      "Second as a zero-padded decimal number: 09\n"
     ]
    }
   ],
   "source": [
    "day = now.strftime(\"%S\") \n",
    "print(\"Second as a zero-padded decimal number:\", day)"
   ]
  },
  {
   "cell_type": "markdown",
   "id": "8dd50e35",
   "metadata": {},
   "source": [
    "### Code - %S: Second as a zero-padded decimal number.\n",
    "Example:\n",
    "00, 01, …, 59"
   ]
  },
  {
   "cell_type": "code",
   "execution_count": 17,
   "id": "b1b282bf",
   "metadata": {},
   "outputs": [
    {
     "name": "stdout",
     "output_type": "stream",
     "text": [
      "Microsecond as a decimal number, zero-padded on the left: 766938\n"
     ]
    }
   ],
   "source": [
    "day = now.strftime(\"%f\") \n",
    "print(\"Microsecond as a decimal number, zero-padded on the left:\", day)"
   ]
  },
  {
   "cell_type": "markdown",
   "id": "e5f12c06",
   "metadata": {},
   "source": [
    "### Code - %f: Microsecond as a decimal number, zero-padded on the left.\n",
    "Example:\n",
    "000000, 000001, …, 999999"
   ]
  },
  {
   "cell_type": "code",
   "execution_count": 30,
   "id": "d1b6cb0a",
   "metadata": {},
   "outputs": [
    {
     "name": "stdout",
     "output_type": "stream",
     "text": [
      "UTC offset in the form ±HHMM[SS[.ffffff]]: +0100\n"
     ]
    }
   ],
   "source": [
    "import time\n",
    "from datetime import time, tzinfo, timedelta\n",
    "class TZ1(tzinfo):\n",
    "   def utcoffset(self, dt):\n",
    "      return timedelta(hours=1)\n",
    "   def dst(self, dt):\n",
    "      return timedelta(0)\n",
    "   def tzname(self,dt):\n",
    "      return \"+01:00\"\n",
    "   def  __repr__(self):\n",
    "      return f\"{self.__class__.__name__}()\"\n",
    "t = time(10, 8, 55, tzinfo=TZ1())\n",
    "day = t.strftime(\"%z\") \n",
    "print(\"UTC offset in the form ±HHMM[SS[.ffffff]]:\", day)"
   ]
  },
  {
   "cell_type": "markdown",
   "id": "84aca1a4",
   "metadata": {},
   "source": [
    "### Code - %z: UTC offset in the form ±HHMM[SS[.ffffff]] (empty string if the object is naive).\n",
    "Example:\n",
    "(empty), +0000, -0400, +1030, +063415, -030712.345216"
   ]
  },
  {
   "cell_type": "code",
   "execution_count": 31,
   "id": "5bcaf50f",
   "metadata": {},
   "outputs": [
    {
     "name": "stdout",
     "output_type": "stream",
     "text": [
      "Time zone name: +01:00\n"
     ]
    }
   ],
   "source": [
    "import time\n",
    "from datetime import time, tzinfo, timedelta\n",
    "class TZ1(tzinfo):\n",
    "   def utcoffset(self, dt):\n",
    "      return timedelta(hours=1)\n",
    "   def dst(self, dt):\n",
    "      return timedelta(0)\n",
    "   def tzname(self,dt):\n",
    "      return \"+01:00\"\n",
    "   def  __repr__(self):\n",
    "      return f\"{self.__class__.__name__}()\"\n",
    "t = time(10, 8, 55, tzinfo=TZ1())\n",
    "day = t.strftime(\"%Z\")\n",
    "print(\"Time zone name:\", day)"
   ]
  },
  {
   "cell_type": "markdown",
   "id": "11d2cc52",
   "metadata": {},
   "source": [
    "### Code - %Z: Time zone name (empty string if the object is naive).\n",
    "Example:\n",
    "(empty), UTC, EST, CST"
   ]
  },
  {
   "cell_type": "code",
   "execution_count": 32,
   "id": "801c4b1a",
   "metadata": {},
   "outputs": [
    {
     "name": "stdout",
     "output_type": "stream",
     "text": [
      "Day of the year as a zero-padded decimal number: 195\n"
     ]
    }
   ],
   "source": [
    "day = now.strftime(\"%j\") \n",
    "print(\"Day of the year as a zero-padded decimal number:\", day)"
   ]
  },
  {
   "cell_type": "markdown",
   "id": "c919fd7d",
   "metadata": {},
   "source": [
    "### Code - %j: Day of the year as a zero-padded decimal number.\n",
    "Example:\n",
    "001, 002, …, 366"
   ]
  },
  {
   "cell_type": "code",
   "execution_count": 33,
   "id": "b5654318",
   "metadata": {},
   "outputs": [
    {
     "name": "stdout",
     "output_type": "stream",
     "text": [
      "Week number of the year as a zero-padded decimal number: 28\n"
     ]
    }
   ],
   "source": [
    "day = now.strftime(\"%U\") \n",
    "print(\"Week number of the year as a zero-padded decimal number:\", day)"
   ]
  },
  {
   "cell_type": "markdown",
   "id": "02be0c55",
   "metadata": {},
   "source": [
    "### Code - %U: Week number of the year (Sunday as the first day of the week) as a zero padded decimal number.\n",
    "All days in a new year preceding the first Sunday are considered to be in week 0.\n",
    "Example:\n",
    "00, 01, …, 53"
   ]
  },
  {
   "cell_type": "code",
   "execution_count": 34,
   "id": "7aa42337",
   "metadata": {},
   "outputs": [
    {
     "name": "stdout",
     "output_type": "stream",
     "text": [
      "Week number of the year as a zero-padded decimal number: 28\n"
     ]
    }
   ],
   "source": [
    "day = now.strftime(\"%W\") \n",
    "print(\"Week number of the year as a zero-padded decimal number:\", day)"
   ]
  },
  {
   "cell_type": "markdown",
   "id": "885db6ca",
   "metadata": {},
   "source": [
    "### Code - %W: Week number of the year (Monday as the first day of the week) as a decimal number.\n",
    "All days in a new year preceding the first Monday are considered to be in week 0.\n",
    "Example:\n",
    "00, 01, …, 53"
   ]
  },
  {
   "cell_type": "code",
   "execution_count": 35,
   "id": "2cc72462",
   "metadata": {},
   "outputs": [
    {
     "name": "stdout",
     "output_type": "stream",
     "text": [
      "Locale's appropriate date and time representation: Wed Jul 14 15:01:09 2021\n"
     ]
    }
   ],
   "source": [
    "day = now.strftime(\"%c\") \n",
    "print(\"Locale's appropriate date and time representation:\", day)"
   ]
  },
  {
   "cell_type": "markdown",
   "id": "eda990b6",
   "metadata": {},
   "source": [
    "### Code - %c: Locale’s appropriate date and time representation.\n",
    "Example:\n",
    "Tue Aug 16 21:30:00 1988 (en_US);\n",
    "Di 16 Aug 21:30:00 1988 (de_DE)"
   ]
  },
  {
   "cell_type": "code",
   "execution_count": 36,
   "id": "b97c5832",
   "metadata": {},
   "outputs": [
    {
     "name": "stdout",
     "output_type": "stream",
     "text": [
      "Locale's appropriate date representation: 07/14/21\n"
     ]
    }
   ],
   "source": [
    "day = now.strftime(\"%x\") \n",
    "print(\"Locale's appropriate date representation:\", day)"
   ]
  },
  {
   "cell_type": "markdown",
   "id": "8927e367",
   "metadata": {},
   "source": [
    "### Code - %x: Locale’s appropriate date representation.\n",
    "Example:\n",
    "08/16/88 (None);\n",
    "08/16/1988 (en_US);\n",
    "16.08.1988 (de_DE)"
   ]
  },
  {
   "cell_type": "code",
   "execution_count": 37,
   "id": "d6ba84b6",
   "metadata": {},
   "outputs": [
    {
     "name": "stdout",
     "output_type": "stream",
     "text": [
      "Locale's appropriate time representation: 15:01:09\n"
     ]
    }
   ],
   "source": [
    "day = now.strftime(\"%X\") \n",
    "print(\"Locale's appropriate time representation:\", day)"
   ]
  },
  {
   "cell_type": "markdown",
   "id": "dcb6add9",
   "metadata": {},
   "source": [
    "### Code - %X: Locale’s appropriate time representation.\n",
    "Example:\n",
    "21:30:00 (en_US);\n",
    "21:30:00 (de_DE)"
   ]
  },
  {
   "cell_type": "code",
   "execution_count": 38,
   "id": "7d7b407d",
   "metadata": {},
   "outputs": [
    {
     "name": "stdout",
     "output_type": "stream",
     "text": [
      "A literal '%' character: %\n"
     ]
    }
   ],
   "source": [
    "day = now.strftime(\"%%\") \n",
    "print(\"A literal '%' character:\", day)"
   ]
  },
  {
   "cell_type": "markdown",
   "id": "e6461cb4",
   "metadata": {},
   "source": [
    "### Code - %%: A literal '%' character.\n",
    "Example:\n",
    "%"
   ]
  },
  {
   "cell_type": "code",
   "execution_count": 39,
   "id": "3b28ea9c",
   "metadata": {},
   "outputs": [
    {
     "name": "stdout",
     "output_type": "stream",
     "text": [
      "ISO 8601 year with century representing the year that contains the greater part of the ISO week: 2021\n"
     ]
    }
   ],
   "source": [
    "day = now.strftime(\"%G\") \n",
    "print(\"ISO 8601 year with century representing the year that contains the greater part of the ISO week:\", day)"
   ]
  },
  {
   "cell_type": "markdown",
   "id": "fa802d40",
   "metadata": {},
   "source": [
    "### Code - %G: ISO 8601 year with century representing the year that contains the greater part of the ISO week (%V).\n",
    "Example:\n",
    "0001, 0002, …, 2013, 2014, …, 9998, 9999"
   ]
  },
  {
   "cell_type": "code",
   "execution_count": 40,
   "id": "1a479278",
   "metadata": {},
   "outputs": [
    {
     "name": "stdout",
     "output_type": "stream",
     "text": [
      "ISO 8601 weekday as a decimal number where 1 is Monday: 3\n"
     ]
    }
   ],
   "source": [
    "from datetime import datetime\n",
    "now = datetime.now()\n",
    "day = now.strftime(\"%u\") \n",
    "print(\"ISO 8601 weekday as a decimal number where 1 is Monday:\", day)"
   ]
  },
  {
   "cell_type": "markdown",
   "id": "0b7e731d",
   "metadata": {},
   "source": [
    "### Code - %u: ISO 8601 weekday as a decimal number where 1 is Monday.\n",
    "Example:\n",
    "1, 2, …, 7"
   ]
  },
  {
   "cell_type": "code",
   "execution_count": 41,
   "id": "ec1e9506",
   "metadata": {},
   "outputs": [
    {
     "name": "stdout",
     "output_type": "stream",
     "text": [
      "ISO 8601 week as a decimal number with Monday as the first day of the week.: 28\n"
     ]
    }
   ],
   "source": [
    "day = now.strftime(\"%V\") \n",
    "print(\"ISO 8601 week as a decimal number with Monday as the first day of the week.:\", day)"
   ]
  },
  {
   "cell_type": "markdown",
   "id": "9a6453fa",
   "metadata": {},
   "source": [
    "### Code - %V: ISO 8601 week as a decimal number with Monday as the first day of the week. Week 01 is the week containing Jan 4.\n",
    "Example:\n",
    "01, 02, …, 53"
   ]
  },
  {
   "cell_type": "code",
   "execution_count": null,
   "id": "6e49dd39",
   "metadata": {},
   "outputs": [],
   "source": [
    "day = now.strftime(\"%\")"
   ]
  }
 ],
 "metadata": {
  "kernelspec": {
   "display_name": "Python 3",
   "language": "python",
   "name": "python3"
  },
  "language_info": {
   "codemirror_mode": {
    "name": "ipython",
    "version": 3
   },
   "file_extension": ".py",
   "mimetype": "text/x-python",
   "name": "python",
   "nbconvert_exporter": "python",
   "pygments_lexer": "ipython3",
   "version": "3.8.8"
  }
 },
 "nbformat": 4,
 "nbformat_minor": 5
}

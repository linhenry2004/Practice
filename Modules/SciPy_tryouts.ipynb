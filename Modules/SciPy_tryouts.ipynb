{
 "cells": [
  {
   "cell_type": "markdown",
   "id": "9fd24f3d",
   "metadata": {},
   "source": [
    "# SciPy Module in Python"
   ]
  },
  {
   "cell_type": "markdown",
   "id": "f7ce7c05",
   "metadata": {},
   "source": [
    "## scipy.linalg"
   ]
  },
  {
   "cell_type": "code",
   "execution_count": 8,
   "id": "19734c94",
   "metadata": {},
   "outputs": [
    {
     "name": "stdout",
     "output_type": "stream",
     "text": [
      "[2. 1. 5.]\n"
     ]
    }
   ],
   "source": [
    "import numpy as np\n",
    "import scipy.linalg\n",
    "\n",
    "coeff = np.array([[3, 2, 0], [1, -1, 0], [0, 5, 1]])\n",
    "deps = np.array([8, 1, 10])\n",
    "\n",
    "ans = linalg.solve(coeff, deps)\n",
    "print(ans)"
   ]
  },
  {
   "cell_type": "code",
   "execution_count": 9,
   "id": "3a4a3629",
   "metadata": {},
   "outputs": [
    {
     "name": "stdout",
     "output_type": "stream",
     "text": [
      "-2.0\n"
     ]
    }
   ],
   "source": [
    "A = np.array([[1, 2], [3, 4]])\n",
    "x = linalg.det(A)\n",
    "print(x)"
   ]
  },
  {
   "cell_type": "code",
   "execution_count": 10,
   "id": "59e229f9",
   "metadata": {},
   "outputs": [
    {
     "name": "stdout",
     "output_type": "stream",
     "text": [
      "[-0.37228132+0.j  5.37228132+0.j] \n",
      " [[-0.82456484 -0.41597356]\n",
      " [ 0.56576746 -0.90937671]]\n"
     ]
    }
   ],
   "source": [
    "A = np.array([[1, 2], [3, 4]])\n",
    "l, v = linalg.eig(A)\n",
    "print(l, '\\n', v)"
   ]
  },
  {
   "cell_type": "markdown",
   "id": "00beaf73",
   "metadata": {},
   "source": [
    "## scipy.stats"
   ]
  },
  {
   "cell_type": "markdown",
   "id": "ba7df9da",
   "metadata": {},
   "source": [
    "### Uniform discrete distribution"
   ]
  },
  {
   "cell_type": "code",
   "execution_count": 13,
   "id": "37b7463e",
   "metadata": {},
   "outputs": [
    {
     "name": "stdout",
     "output_type": "stream",
     "text": [
      "[6 1 2 7 8 5]\n"
     ]
    }
   ],
   "source": [
    "#scipy.stats randint method\n",
    "from scipy import stats as st\n",
    "rv = st.randint(low=1, high=11) #rv means continuous random variables\n",
    "x = rv.rvs(size=6)\n",
    "print(x)"
   ]
  },
  {
   "cell_type": "code",
   "execution_count": 14,
   "id": "55c98cf9",
   "metadata": {},
   "outputs": [
    {
     "name": "stdout",
     "output_type": "stream",
     "text": [
      "[7 7 5 5 9 2]\n"
     ]
    }
   ],
   "source": [
    "x = st.randint.rvs(low=1, high=11, size=6)\n",
    "print(x)"
   ]
  },
  {
   "cell_type": "code",
   "execution_count": 16,
   "id": "08981b39",
   "metadata": {},
   "outputs": [
    {
     "data": {
      "text/plain": [
       "array([0.1, 0.1, 0.1, 0.1, 0.1, 0.1])"
      ]
     },
     "execution_count": 16,
     "metadata": {},
     "output_type": "execute_result"
    }
   ],
   "source": [
    "#probability mass function pmf() method\n",
    "#離散隨機數在特定職的機率，所有特定值的機率總和是1，參數名稱與語法：pmf(k, low, high, loc=0)\n",
    "rv.pmf(x)"
   ]
  },
  {
   "cell_type": "code",
   "execution_count": 18,
   "id": "fa2ed890",
   "metadata": {},
   "outputs": [
    {
     "data": {
      "text/plain": [
       "array([0.1, 0.2, 0.3, 0.4, 0.5, 0.6])"
      ]
     },
     "execution_count": 18,
     "metadata": {},
     "output_type": "execute_result"
    }
   ],
   "source": [
    "#cumulative density function cdf() method\n",
    "#離散隨機數在特定值上的機率累積的值，參數名稱與語法：cdf(k, low, high, loc=0)\n",
    "rv.cdf([1, 2, 3, 4, 5, 6])"
   ]
  },
  {
   "cell_type": "code",
   "execution_count": 19,
   "id": "13a26453",
   "metadata": {},
   "outputs": [
    {
     "data": {
      "text/plain": [
       "array([1., 2., 3., 4., 5., 6.])"
      ]
     },
     "execution_count": 19,
     "metadata": {},
     "output_type": "execute_result"
    }
   ],
   "source": [
    "#percent point function ppf() method\n",
    "#傳回特定百分比位置的值，相當於是逆cdf()參數，參數名稱與語法：ppf(p, low, high, loc=0)\n",
    "rv.ppf([0.1, 0.2, 0.3, 0.4, 0.5, 0.6])"
   ]
  },
  {
   "cell_type": "markdown",
   "id": "530a3fb2",
   "metadata": {},
   "source": [
    "mean(low, high, loc=0)\n",
    "\n",
    "var(low, high, loc=0)\n",
    "\n",
    "std(low, high, loc=0)\n",
    "\n",
    "median(low, high, loc=0)"
   ]
  },
  {
   "cell_type": "code",
   "execution_count": 20,
   "id": "2f0a83b3",
   "metadata": {},
   "outputs": [
    {
     "data": {
      "text/plain": [
       "5.5"
      ]
     },
     "execution_count": 20,
     "metadata": {},
     "output_type": "execute_result"
    }
   ],
   "source": [
    "rv.mean()"
   ]
  },
  {
   "cell_type": "code",
   "execution_count": 21,
   "id": "1d22c085",
   "metadata": {},
   "outputs": [
    {
     "data": {
      "text/plain": [
       "8.25"
      ]
     },
     "execution_count": 21,
     "metadata": {},
     "output_type": "execute_result"
    }
   ],
   "source": [
    "rv.var()"
   ]
  },
  {
   "cell_type": "code",
   "execution_count": 22,
   "id": "7ddc6681",
   "metadata": {},
   "outputs": [
    {
     "data": {
      "text/plain": [
       "2.8722813232690143"
      ]
     },
     "execution_count": 22,
     "metadata": {},
     "output_type": "execute_result"
    }
   ],
   "source": [
    "rv.std()"
   ]
  },
  {
   "cell_type": "code",
   "execution_count": 23,
   "id": "e953a453",
   "metadata": {},
   "outputs": [
    {
     "data": {
      "text/plain": [
       "5.0"
      ]
     },
     "execution_count": 23,
     "metadata": {},
     "output_type": "execute_result"
    }
   ],
   "source": [
    "rv.median()"
   ]
  },
  {
   "cell_type": "code",
   "execution_count": 25,
   "id": "8e72f77f",
   "metadata": {},
   "outputs": [
    {
     "data": {
      "image/png": "[encoded data removed]",
      "text/plain": [
       "<Figure size 432x288 with 1 Axes>"
      ]
     },
     "metadata": {
      "needs_background": "light"
     },
     "output_type": "display_data"
    }
   ],
   "source": [
    "import numpy as np\n",
    "import matplotlib.pyplot as plt\n",
    "import scipy.stats as st\n",
    "\n",
    "rv = st.randint(low=1, high=11)\n",
    "x = np.arange(1, 11)\n",
    "plt.plot(x, rv.pmf(x), 'o')\n",
    "plt.vlines(x, 0, rv.pmf(x), linestyles='dashed')\n",
    "plt.show()"
   ]
  },
  {
   "cell_type": "markdown",
   "id": "d921d32e",
   "metadata": {},
   "source": [
    "### Binomial distribution"
   ]
  },
  {
   "cell_type": "code",
   "execution_count": 26,
   "id": "0227e64f",
   "metadata": {},
   "outputs": [
    {
     "data": {
      "image/png": "[encoded data removed]",
      "text/plain": [
       "<Figure size 432x288 with 1 Axes>"
      ]
     },
     "metadata": {
      "needs_background": "light"
     },
     "output_type": "display_data"
    }
   ],
   "source": [
    "n_trials = 50\n",
    "x = np.arange(n_trials)\n",
    "\n",
    "plt.plot(x, st.binom(n_trials, 0.5).pmf(x), '-o', label='p=0.5, n=50')\n",
    "plt.plot(x, st.binom(n_trials, 0.3).pmf(x), '-o', label='p=0.3, n=50')\n",
    "plt.plot(x, st.binom(n_trials, 0.7).pmf(x), '-o', label='p=0.7, n=50')\n",
    "plt.title('Binomial Distribution')\n",
    "plt.xlabel('Probability Mass Function')\n",
    "plt.legend()\n",
    "plt.show()"
   ]
  },
  {
   "cell_type": "markdown",
   "id": "fc5bf46e",
   "metadata": {},
   "source": [
    "### norm(loc=0, scale=1)"
   ]
  },
  {
   "cell_type": "code",
   "execution_count": 28,
   "id": "4253dcfd",
   "metadata": {},
   "outputs": [
    {
     "name": "stdout",
     "output_type": "stream",
     "text": [
      "[-0.49985423 -0.23587609 -0.89008713 -0.06912379 -1.80855646]\n"
     ]
    }
   ],
   "source": [
    "rv = st.norm()\n",
    "x = rv.rvs(size=5)\n",
    "print(x)"
   ]
  },
  {
   "cell_type": "code",
   "execution_count": 30,
   "id": "fb9d4898",
   "metadata": {},
   "outputs": [
    {
     "data": {
      "text/plain": [
       "array([0.35209098, 0.38799714, 0.26845658, 0.39799033, 0.07774067])"
      ]
     },
     "execution_count": 30,
     "metadata": {},
     "output_type": "execute_result"
    }
   ],
   "source": [
    "#Probability density function pdf()\n",
    "#機率密度函數，參數名稱與語法：pdf(x, loc=0, scale=1)\n",
    "rv.pdf(x)"
   ]
  },
  {
   "cell_type": "code",
   "execution_count": 31,
   "id": "c020ba91",
   "metadata": {},
   "outputs": [
    {
     "data": {
      "text/plain": [
       "array([0.30858886, 0.40676441, 0.18670955, 0.47244554, 0.03525997])"
      ]
     },
     "execution_count": 31,
     "metadata": {},
     "output_type": "execute_result"
    }
   ],
   "source": [
    "#Cumulative distribution function cdf()\n",
    "#累積分佈函數，參數名稱與語法：cdf(x, loc, scale=1)\n",
    "rv.cdf(x)"
   ]
  },
  {
   "cell_type": "code",
   "execution_count": 32,
   "id": "0e0650a4",
   "metadata": {},
   "outputs": [
    {
     "data": {
      "text/plain": [
       "array([nan, nan, nan, nan, nan])"
      ]
     },
     "execution_count": 32,
     "metadata": {},
     "output_type": "execute_result"
    }
   ],
   "source": [
    "#Percent point function ppf()\n",
    "#百分比函數，參數名稱與語法：ppf(x, loc=0, scale=1)\n",
    "rv.ppf(x)"
   ]
  },
  {
   "cell_type": "markdown",
   "id": "d308178e",
   "metadata": {},
   "source": [
    "mean(low, high, loc=0)\n",
    "\n",
    "var(low, high, loc=0)\n",
    "\n",
    "std(low, high, loc=0)\n",
    "\n",
    "median(low, high, loc=0)"
   ]
  },
  {
   "cell_type": "code",
   "execution_count": 33,
   "id": "c01cc3b5",
   "metadata": {},
   "outputs": [
    {
     "data": {
      "text/plain": [
       "0.0"
      ]
     },
     "execution_count": 33,
     "metadata": {},
     "output_type": "execute_result"
    }
   ],
   "source": [
    "rv.mean()"
   ]
  },
  {
   "cell_type": "code",
   "execution_count": 34,
   "id": "6f2741ea",
   "metadata": {},
   "outputs": [
    {
     "data": {
      "text/plain": [
       "1.0"
      ]
     },
     "execution_count": 34,
     "metadata": {},
     "output_type": "execute_result"
    }
   ],
   "source": [
    "rv.var()"
   ]
  },
  {
   "cell_type": "code",
   "execution_count": 35,
   "id": "86ccee2f",
   "metadata": {},
   "outputs": [
    {
     "data": {
      "text/plain": [
       "1.0"
      ]
     },
     "execution_count": 35,
     "metadata": {},
     "output_type": "execute_result"
    }
   ],
   "source": [
    "rv.std()"
   ]
  },
  {
   "cell_type": "code",
   "execution_count": 36,
   "id": "a43dc174",
   "metadata": {},
   "outputs": [
    {
     "data": {
      "text/plain": [
       "0.0"
      ]
     },
     "execution_count": 36,
     "metadata": {},
     "output_type": "execute_result"
    }
   ],
   "source": [
    "rv.median()"
   ]
  },
  {
   "cell_type": "code",
   "execution_count": 37,
   "id": "cc237c78",
   "metadata": {},
   "outputs": [
    {
     "data": {
      "image/png": "[encoded data removed]",
      "text/plain": [
       "<Figure size 432x288 with 1 Axes>"
      ]
     },
     "metadata": {
      "needs_background": "light"
     },
     "output_type": "display_data"
    }
   ],
   "source": [
    "x = st.norm.rvs(size=1000)\n",
    "plt.hist(x)\n",
    "plt.ylabel('Times')\n",
    "plt.show()"
   ]
  },
  {
   "cell_type": "code",
   "execution_count": 40,
   "id": "a20ff03f",
   "metadata": {},
   "outputs": [
    {
     "data": {
      "image/png": "[encoded data removed]",
      "text/plain": [
       "<Figure size 432x288 with 1 Axes>"
      ]
     },
     "metadata": {
      "needs_background": "light"
     },
     "output_type": "display_data"
    }
   ],
   "source": [
    "plt.hist(x, bins=20, density=True)\n",
    "plt.ylabel('Frequency')\n",
    "plt.show()"
   ]
  },
  {
   "cell_type": "code",
   "execution_count": 43,
   "id": "b9555725",
   "metadata": {},
   "outputs": [
    {
     "data": {
      "image/png": "[encoded data removed]",
      "text/plain": [
       "<Figure size 432x288 with 1 Axes>"
      ]
     },
     "metadata": {
      "needs_background": "light"
     },
     "output_type": "display_data"
    }
   ],
   "source": [
    "plt.hist(x, bins=20, density=True)\n",
    "plt.ylabel('Frequency')\n",
    "\n",
    "xs = np.linspace(-3, 3, 100)\n",
    "plt.plot(xs, st.norm.pdf(xs), 'r-')\n",
    "plt.show()"
   ]
  },
  {
   "cell_type": "code",
   "execution_count": 46,
   "id": "decf0448",
   "metadata": {},
   "outputs": [
    {
     "data": {
      "image/png": "[encoded data removed]",
      "text/plain": [
       "<Figure size 432x288 with 1 Axes>"
      ]
     },
     "metadata": {
      "needs_background": "light"
     },
     "output_type": "display_data"
    }
   ],
   "source": [
    "from scipy.integrate import trapz\n",
    "\n",
    "x = np.linspace(-3, 3, 100)\n",
    "plt.plot(xs, st.norm.pdf(x), 'r-')\n",
    "\n",
    "xs = np.linspace(-2, 2, 100)\n",
    "p = trapz(st.norm.pdf(xs), xs)\n",
    "plt.fill_between(xs, st.norm.pdf(xs), color='yellow')\n",
    "\n",
    "plt.show()"
   ]
  },
  {
   "cell_type": "markdown",
   "id": "de869eda",
   "metadata": {},
   "source": [
    "## scipy.optimize"
   ]
  },
  {
   "cell_type": "markdown",
   "id": "acff849c",
   "metadata": {},
   "source": [
    "### Find the root of a quadratic equation"
   ]
  },
  {
   "cell_type": "code",
   "execution_count": 48,
   "id": "fc4c42a1",
   "metadata": {},
   "outputs": [
    {
     "name": "stdout",
     "output_type": "stream",
     "text": [
      "[-0.23240812]\n",
      "[-1.43425855]\n"
     ]
    }
   ],
   "source": [
    "from scipy.optimize import root\n",
    "def f(x):\n",
    "    return(a*x**2 + b*x + c)\n",
    "\n",
    "a = 3\n",
    "b = 5\n",
    "c = 1\n",
    "r1 = root(f, 0)\n",
    "print(r1.x)\n",
    "r2 = root(f, -1)\n",
    "print(r2.x)"
   ]
  },
  {
   "cell_type": "markdown",
   "id": "252ce414",
   "metadata": {},
   "source": [
    "### 解聯立線性方程式"
   ]
  },
  {
   "cell_type": "code",
   "execution_count": 49,
   "id": "3df03d38",
   "metadata": {},
   "outputs": [
    {
     "name": "stdout",
     "output_type": "stream",
     "text": [
      "[2. 3.]\n"
     ]
    }
   ],
   "source": [
    "def fun(x):\n",
    "    return (a*x[0] + b*x[1] + c, d*x[0]+e*x[1]+f)\n",
    "\n",
    "a = 2\n",
    "b = 3\n",
    "c = -13\n",
    "d = 1\n",
    "e = -2\n",
    "f = 4\n",
    "r = root(fun, [0, 0])\n",
    "print(r.x)"
   ]
  },
  {
   "cell_type": "markdown",
   "id": "1f1d6269",
   "metadata": {},
   "source": [
    "### 計算2個線性方程式的交叉點"
   ]
  },
  {
   "cell_type": "code",
   "execution_count": 52,
   "id": "a3c73671",
   "metadata": {},
   "outputs": [
    {
     "name": "stdout",
     "output_type": "stream",
     "text": [
      "x1 = 1.00, y1 = 3.00\n",
      "x2 = 6.00, y2 = 13.00\n"
     ]
    },
    {
     "data": {
      "image/png": "[encoded data removed]",
      "text/plain": [
       "<Figure size 432x288 with 1 Axes>"
      ]
     },
     "metadata": {
      "needs_background": "light"
     },
     "output_type": "display_data"
    }
   ],
   "source": [
    "def fx(x):\n",
    "    return (x**2 - 5*x + 7)\n",
    "\n",
    "def fy(x):\n",
    "    return (2*x + 1)\n",
    "\n",
    "r1 = root(lambda x:fx(x)-fy(x), 0)\n",
    "r2 = root(lambda x:fx(x)-fy(x), 5)\n",
    "print('x1 = %4.2f, y1 = %4.2f' % (r1.x, fx(r1.x)))\n",
    "print('x2 = %4.2f, y2 = %4.2f' % (r2.x, fx(r2.x)))\n",
    "\n",
    "x1 = np.linspace(0, 10, 40)\n",
    "y1 = x1**2 - 5*x1 + 7\n",
    "plt.plot(r1.x, fx(r1.x), 'o')\n",
    "plt.plot(x1, y1, '-', label='x**2 - 5*x + 7')\n",
    "\n",
    "x2 = np.linspace(0, 10, 40)\n",
    "y2 = 2 * x2 + 1\n",
    "plt.plot(r2.x, fy(r2.x), 'o')\n",
    "plt.plot(x2, y2, '-', label = '2 * x + 1')\n",
    "plt.legend(loc='best')\n",
    "plt.show()"
   ]
  },
  {
   "cell_type": "markdown",
   "id": "1c4e187b",
   "metadata": {},
   "source": [
    "### 找出線性方程式的最小值和最大值"
   ]
  },
  {
   "cell_type": "code",
   "execution_count": 53,
   "id": "51dae93c",
   "metadata": {},
   "outputs": [
    {
     "data": {
      "image/png": "[encoded data removed]",
      "text/plain": [
       "<Figure size 432x288 with 1 Axes>"
      ]
     },
     "metadata": {
      "needs_background": "light"
     },
     "output_type": "display_data"
    }
   ],
   "source": [
    "from scipy.optimize import root\n",
    "from scipy.optimize import minimize_scalar\n",
    "import matplotlib.pyplot as plt\n",
    "import numpy as np\n",
    "\n",
    "def f(x): \n",
    "    return (3*(x-2)**2 - 2)\n",
    "\n",
    "r = minimize_scalar(f)\n",
    "x = np.linspace(0, 4, 40)\n",
    "y = 3*(x-2)**2 - 2\n",
    "plt.plot(r.x, f(r.x), 'o')\n",
    "plt.plot(x, y, '-')\n",
    "plt.show()"
   ]
  },
  {
   "cell_type": "markdown",
   "id": "ba68fa32",
   "metadata": {},
   "source": [
    "## scipy.interpolate"
   ]
  },
  {
   "cell_type": "code",
   "execution_count": 57,
   "id": "a4233065",
   "metadata": {},
   "outputs": [
    {
     "data": {
      "image/png": "[encoded data removed]",
      "text/plain": [
       "<Figure size 432x288 with 1 Axes>"
      ]
     },
     "metadata": {
      "needs_background": "light"
     },
     "output_type": "display_data"
    }
   ],
   "source": [
    "import numpy as np\n",
    "import matplotlib.pyplot as plt\n",
    "from scipy.interpolate import interp1d\n",
    "\n",
    "x = np.linspace(0, 20, 21)\n",
    "y = np.sin(x**2/5.0)\n",
    "plt.plot(x, y, 'o', label='data')\n",
    "plt.legend(loc='best')\n",
    "plt.show()"
   ]
  },
  {
   "cell_type": "code",
   "execution_count": 60,
   "id": "e0def80c",
   "metadata": {},
   "outputs": [
    {
     "data": {
      "image/png": "[encoded data removed]",
      "text/plain": [
       "<Figure size 432x288 with 1 Axes>"
      ]
     },
     "metadata": {
      "needs_background": "light"
     },
     "output_type": "display_data"
    }
   ],
   "source": [
    "import numpy as np\n",
    "import matplotlib.pyplot as plt\n",
    "from scipy.interpolate import interp1d\n",
    "\n",
    "x = np.linspace(0, 20, 21)\n",
    "y = np.sin(x**2/5.0)\n",
    "\n",
    "fLinear = interp1d(x,y)\n",
    "xnew = np.linspace(0, 20, 61)\n",
    "\n",
    "plt.plot(x, y, 'o', label='data')\n",
    "plt.plot(xnew, fLinear(xnew), '-', label='linear')\n",
    "\n",
    "plt.legend(loc='best')\n",
    "plt.show()"
   ]
  },
  {
   "cell_type": "code",
   "execution_count": null,
   "id": "8317efd5",
   "metadata": {},
   "outputs": [],
   "source": []
  }
 ],
 "metadata": {
  "kernelspec": {
   "display_name": "Python 3",
   "language": "python",
   "name": "python3"
  },
  "language_info": {
   "codemirror_mode": {
    "name": "ipython",
    "version": 3
   },
   "file_extension": ".py",
   "mimetype": "text/x-python",
   "name": "python",
   "nbconvert_exporter": "python",
   "pygments_lexer": "ipython3",
   "version": "3.8.8"
  }
 },
 "nbformat": 4,
 "nbformat_minor": 5
}

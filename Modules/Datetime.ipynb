{
 "cells": [
  {
   "cell_type": "markdown",
   "id": "b0c3c4e2",
   "metadata": {},
   "source": [
    "## Python Datetime Module"
   ]
  },
  {
   "cell_type": "code",
   "execution_count": 38,
   "id": "99f221f3",
   "metadata": {},
   "outputs": [],
   "source": [
    "import datetime\n",
    "import time as t\n",
    "from dateutil import tz\n",
    "import pytz"
   ]
  },
  {
   "cell_type": "markdown",
   "id": "7f7c82c5",
   "metadata": {},
   "source": [
    "### Date class\n",
    "An idealized naive date, assuming the current Gregorian calendar always was, and always will be, in effect. Its attributes are year, month and day. "
   ]
  },
  {
   "cell_type": "code",
   "execution_count": 4,
   "id": "ac7c4650",
   "metadata": {},
   "outputs": [
    {
     "name": "stdout",
     "output_type": "stream",
     "text": [
      "2004-06-17\n"
     ]
    }
   ],
   "source": [
    "#Construct your own date\n",
    "birthday = datetime.date(2004, 6, 17)\n",
    "print(birthday)"
   ]
  },
  {
   "cell_type": "code",
   "execution_count": 7,
   "id": "ba2b01be",
   "metadata": {},
   "outputs": [
    {
     "name": "stdout",
     "output_type": "stream",
     "text": [
      "2021-07-15\n"
     ]
    }
   ],
   "source": [
    "#Get today's date\n",
    "today = datetime.date.today()\n",
    "print(today)"
   ]
  },
  {
   "cell_type": "code",
   "execution_count": 6,
   "id": "acfabc3f",
   "metadata": {},
   "outputs": [
    {
     "name": "stdout",
     "output_type": "stream",
     "text": [
      "2021\n",
      "7\n",
      "15\n"
     ]
    }
   ],
   "source": [
    "#Get year, month, and day\n",
    "print(today.year)\n",
    "print(today.month)\n",
    "print(today.day)"
   ]
  },
  {
   "cell_type": "code",
   "execution_count": 32,
   "id": "64ea13d5",
   "metadata": {},
   "outputs": [
    {
     "name": "stdout",
     "output_type": "stream",
     "text": [
      "2012-01-11\n"
     ]
    }
   ],
   "source": [
    "#fromtimestamp(timestamp): Returns the local date corresponding to the POSIX timestamp\n",
    "timestamp = datetime.date.fromtimestamp(1326244364)\n",
    "print(timestamp)"
   ]
  },
  {
   "cell_type": "markdown",
   "id": "d1da453d",
   "metadata": {},
   "source": [
    "# Other functions in date class\n",
    "**fromordinal(ordinal)**: Returns the date corresponding to the proleptic Gregorian ordinal, where January 1 of year 1 has ordinal 1. \n",
    "\n",
    "**fromisoformat(date_string)**: Returns a date corresponding to a date_string given in the format YYYY-MM-DD\n",
    "\n",
    "**fromisocalendar(year, week, day)**: Returns a date corresponding to the ISO calendar date specified by year, week and day."
   ]
  },
  {
   "cell_type": "markdown",
   "id": "49a29218",
   "metadata": {},
   "source": [
    "## Time class\n",
    "An idealized time, independent of any particular day, assuming that every day has exactly 24*60*60 seconds. Its attributes are hour, minute, second, microsecond, and tzinfo. "
   ]
  },
  {
   "cell_type": "code",
   "execution_count": 10,
   "id": "144301b2",
   "metadata": {},
   "outputs": [
    {
     "name": "stdout",
     "output_type": "stream",
     "text": [
      "13:24:56.100000\n"
     ]
    }
   ],
   "source": [
    "#Construct a date\n",
    "my_time = datetime.time(13, 24, 56, 100000)\n",
    "print(my_time)"
   ]
  },
  {
   "cell_type": "code",
   "execution_count": 11,
   "id": "ee61538c",
   "metadata": {},
   "outputs": [
    {
     "name": "stdout",
     "output_type": "stream",
     "text": [
      "13\n",
      "24\n",
      "56\n",
      "100000\n"
     ]
    }
   ],
   "source": [
    "#Get hour, minute, second, and microsecond\n",
    "print(my_time.hour)\n",
    "print(my_time.minute)\n",
    "print(my_time.second)\n",
    "print(my_time.microsecond)"
   ]
  },
  {
   "cell_type": "markdown",
   "id": "191a6883",
   "metadata": {},
   "source": [
    "## Datetime class\n",
    "Its a combination of date and time along with the attributes year, month, day, hour, minute, second, microsecond, and tzinfo. "
   ]
  },
  {
   "cell_type": "code",
   "execution_count": 13,
   "id": "4207bdc3",
   "metadata": {},
   "outputs": [
    {
     "name": "stdout",
     "output_type": "stream",
     "text": [
      "2021-06-17 13:21:50.564000\n"
     ]
    }
   ],
   "source": [
    "#Construct a datetime\n",
    "a = datetime.datetime(2021, 6, 17, 13, 21, 50, 564000)\n",
    "print(a)"
   ]
  },
  {
   "cell_type": "code",
   "execution_count": 14,
   "id": "205d91e8",
   "metadata": {},
   "outputs": [
    {
     "name": "stdout",
     "output_type": "stream",
     "text": [
      "1623907310.564\n"
     ]
    }
   ],
   "source": [
    "#timestamp\n",
    "print(a.timestamp())"
   ]
  },
  {
   "cell_type": "code",
   "execution_count": 16,
   "id": "68802891",
   "metadata": {},
   "outputs": [
    {
     "name": "stdout",
     "output_type": "stream",
     "text": [
      "2021-07-15 13:24:32.991995\n"
     ]
    }
   ],
   "source": [
    "#Get today's datetime\n",
    "current = datetime.datetime.now()\n",
    "print(current)"
   ]
  },
  {
   "cell_type": "code",
   "execution_count": 17,
   "id": "e180ca1a",
   "metadata": {},
   "outputs": [
    {
     "name": "stdout",
     "output_type": "stream",
     "text": [
      "13:24:59.549246\n"
     ]
    }
   ],
   "source": [
    "#Get current time\n",
    "current_time = datetime.datetime.now().time()\n",
    "print(current_time)"
   ]
  },
  {
   "cell_type": "code",
   "execution_count": 18,
   "id": "d33df009",
   "metadata": {},
   "outputs": [
    {
     "name": "stdout",
     "output_type": "stream",
     "text": [
      "2021-07-15\n"
     ]
    }
   ],
   "source": [
    "#Get current date in another way\n",
    "current_date = datetime.datetime.now().date()\n",
    "print(current_date)"
   ]
  },
  {
   "cell_type": "markdown",
   "id": "9f37384f",
   "metadata": {},
   "source": [
    "### Difference between now() and today()\n",
    "today() passes the local time zone\n",
    "\n",
    "now() allows one to change timezones"
   ]
  },
  {
   "cell_type": "markdown",
   "id": "af7fcb51",
   "metadata": {},
   "source": [
    "### Other functions of the datetime class\n",
    "**utcnow()**: Returns the current UTC date and time, with tzinfo None\n",
    "\n",
    "**utcfromtimestamp(timestamp)**: Returns the UTC datetime corresponding to the POSIX timestamp, with tzinfo None\n",
    "\n",
    "**fromordinal(orinal)**: Returns the datetime corresponding to the proleptic Gregorian ordinal, where January 1 of year 1 hsa ordinal 1.\n",
    "\n",
    "**combine(date, time, tzinfo = self.tzinfo)**: Returns a new datetime object whose date components are equal to the given date object's, and whose time components are equal to the given time object's. \n",
    "\n",
    "**fromisoformat(date_string)**: Returns a datetime corresponding to a date_string in one of the formats emitted by date.isoformat() and date.isoformat()."
   ]
  },
  {
   "cell_type": "markdown",
   "id": "91d3e73f",
   "metadata": {},
   "source": [
    "## Timedelta() class\n",
    "A duration expressing the difference between two date, time, or datetime instances to microsecond resolution. "
   ]
  },
  {
   "cell_type": "code",
   "execution_count": 20,
   "id": "ffee6298",
   "metadata": {},
   "outputs": [
    {
     "name": "stdout",
     "output_type": "stream",
     "text": [
      "Current: 2021-07-15 13:37:14.648896\n",
      "Future: 2023-07-15 13:37:14.648896\n"
     ]
    }
   ],
   "source": [
    "initial_time = datetime.datetime.now()\n",
    "print (\"Current:\", str(initial_time))\n",
    "\n",
    "future = initial_time + datetime.timedelta(days = 730)\n",
    "\n",
    "print('Future:', str(future))"
   ]
  },
  {
   "cell_type": "markdown",
   "id": "3f1161ad",
   "metadata": {},
   "source": [
    "## Tzinfo() class\n",
    "It provides time zone information objects. "
   ]
  },
  {
   "cell_type": "markdown",
   "id": "c1942c54",
   "metadata": {},
   "source": [
    "This is an abstract base class, meaning that this class should not be instantiated directly. An instance of (a concrete subclass of) tzinfo can be passed to the constructors for datetime and time objects. The latter objects view their attributes as being in local time, and the tzinfo object supports methods revealing offset of local time from UTC, the name of the time zone, and DST offset, all relative to a date or time object passed to them. "
   ]
  },
  {
   "cell_type": "markdown",
   "id": "541e479f",
   "metadata": {},
   "source": [
    "## Examples"
   ]
  },
  {
   "cell_type": "code",
   "execution_count": 22,
   "id": "ec760fd1",
   "metadata": {},
   "outputs": [
    {
     "name": "stdout",
     "output_type": "stream",
     "text": [
      "2021-08-14\n"
     ]
    }
   ],
   "source": [
    "#N Days After: \n",
    "current_date = datetime.date.today().isoformat()\n",
    "days_after = (datetime.date.today() + datetime.timedelta(days = 30)).isoformat()\n",
    "\n",
    "print(days_after)"
   ]
  },
  {
   "cell_type": "code",
   "execution_count": 23,
   "id": "2a06d929",
   "metadata": {},
   "outputs": [
    {
     "name": "stdout",
     "output_type": "stream",
     "text": [
      "2021-06-15\n"
     ]
    }
   ],
   "source": [
    "#N Days Before\n",
    "current_date = datetime.date.today().isoformat()\n",
    "days_after = (datetime.date.today() - datetime.timedelta(days = 30)).isoformat()\n",
    "\n",
    "print(days_after)"
   ]
  },
  {
   "cell_type": "code",
   "execution_count": 24,
   "id": "59b69feb",
   "metadata": {},
   "outputs": [
    {
     "name": "stdout",
     "output_type": "stream",
     "text": [
      "2021-07-15 08:34:04.742393\n"
     ]
    }
   ],
   "source": [
    "#Converting timestamp to date time: \n",
    "seconds_since_epoch = t.time()\n",
    "utc_date = datetime.datetime.utcfromtimestamp(seconds_since_epoch)\n",
    "print(utc_date)"
   ]
  },
  {
   "cell_type": "code",
   "execution_count": 25,
   "id": "27745af0",
   "metadata": {},
   "outputs": [
    {
     "name": "stdout",
     "output_type": "stream",
     "text": [
      "2021-07-15 08:34:10.589877\n",
      "2021-07-15 08:34:10.589877+00:00\n",
      "2021-07-15 16:34:10.589877+08:00\n"
     ]
    }
   ],
   "source": [
    "#Switching between time zones: \n",
    "utc = tz.tzutc()\n",
    "local = tz.tzlocal()\n",
    "\n",
    "utc_now = datetime.datetime.utcnow()\n",
    "print(utc_now) # Not timezone-aware.\n",
    "\n",
    "utc_now = utc_now.replace(tzinfo=utc)\n",
    "print(utc_now) # Timezone-aware.\n",
    "\n",
    "local_now = utc_now.astimezone(local)\n",
    "print(local_now) # Converted to local time."
   ]
  },
  {
   "cell_type": "code",
   "execution_count": 26,
   "id": "21333702",
   "metadata": {},
   "outputs": [
    {
     "name": "stdout",
     "output_type": "stream",
     "text": [
      "2019-01-01 12:00:00+08:00\n",
      "2019-01-01 12:00:00-08:00\n",
      "2019-07-01 12:00:00-07:00\n"
     ]
    }
   ],
   "source": [
    "#Zones with daylight savings time using third party library\n",
    "local = tz.gettz() # Local time\n",
    "PT = tz.gettz('US/Pacific') # Pacific time\n",
    "\n",
    "dt_l = datetime.datetime(2019, 1, 1, 12, tzinfo = local) # I am in EST\n",
    "print(dt_l)\n",
    "dt_pst = datetime.datetime(2019, 1, 1, 12, tzinfo = PT)\n",
    "print(dt_pst)\n",
    "dt_pdt = datetime.datetime(2019, 7, 1, 12, tzinfo = PT) # Daylight savings time (DST) is handled automatically\n",
    "print(dt_pdt)"
   ]
  },
  {
   "cell_type": "markdown",
   "id": "e96370d5",
   "metadata": {},
   "source": [
    "## List of the Date format codes"
   ]
  },
  {
   "cell_type": "code",
   "execution_count": 34,
   "id": "b10eb91d",
   "metadata": {},
   "outputs": [
    {
     "name": "stdout",
     "output_type": "stream",
     "text": [
      "   Directive                                            Meaning\n",
      "0         %a              Weekday as locale’s abbreviated name.\n",
      "1         %A                     Weekday as locale’s full name.\n",
      "2         %w  Weekday as a decimal number, where 0 is Sunday...\n",
      "3         %d  Day of the month as a zero-padded decimal number.\n",
      "4         %b                Month as locale’s abbreviated name.\n",
      "5         %B                       Month as locale’s full name.\n",
      "6         %m             Month as a zero-padded decimal number.\n",
      "7         %y  Year without century as a zero-padded decimal ...\n",
      "8         %Y             Year with century as a decimal number.\n",
      "9         %H  Hour (24-hour clock) as a zero-padded decimal ...\n",
      "10        %I  \\tHour (12-hour clock) as a zero-padded decima...\n",
      "11        %p            Locale’s equivalent of either AM or PM.\n",
      "12        %M            Minute as a zero-padded decimal number.\n",
      "13        %S            Second as a zero-padded decimal number.\n",
      "14        %f  \\tMicrosecond as a decimal number, zero-padded...\n",
      "15        %z  \\tUTC offset in the form ±HHMM[SS[.ffffff]] (e...\n",
      "16        %Z  \\tTime zone name (empty string if the object i...\n",
      "17        %j   Day of the year as a zero-padded decimal number.\n",
      "18        %U  \\tWeek number of the year (Sunday as the first...\n",
      "19        %W  Week number of the year (Monday as the first d...\n",
      "20        %c  Locale’s appropriate date and time representat...\n",
      "21        %x          Locale’s appropriate date representation.\n",
      "22        %X          Locale’s appropriate time representation.\n",
      "23        %%                           A literal '%' character.\n"
     ]
    }
   ],
   "source": [
    "import pandas\n",
    "df = pandas.DataFrame({\n",
    "    'Directive': ['%a', '%A' ,'%w', '%d', '%b', '%B', '%m', '%y', '%Y', '%H', '%I', '%p', '%M', '%S', '%f', '%z', '%Z', '%j', '%U', '%W', '%c', '%x', '%X', '%%'], \n",
    "    'Meaning': ['Weekday as locale’s abbreviated name.', 'Weekday as locale’s full name.', 'Weekday as a decimal number, where 0 is Sunday and 6 is Saturday.', 'Day of the month as a zero-padded decimal number.', 'Month as locale’s abbreviated name.', 'Month as locale’s full name.', 'Month as a zero-padded decimal number.', 'Year without century as a zero-padded decimal number.', 'Year with century as a decimal number.', 'Hour (24-hour clock) as a zero-padded decimal number.', '\tHour (12-hour clock) as a zero-padded decimal number.', 'Locale’s equivalent of either AM or PM.', 'Minute as a zero-padded decimal number.', 'Second as a zero-padded decimal number.', '\tMicrosecond as a decimal number, zero-padded on the left.', '\tUTC offset in the form ±HHMM[SS[.ffffff]] (empty string if the object is naive).', '\tTime zone name (empty string if the object is naive).', 'Day of the year as a zero-padded decimal number.', '\tWeek number of the year (Sunday as the first day of the week) as a zero padded decimal number. All days in a new year preceding the first Sunday are considered to be in week 0.', 'Week number of the year (Monday as the first day of the week) as a decimal number. All days in a new year preceding the first Monday are considered to be in week 0.', 'Locale’s appropriate date and time representation.', 'Locale’s appropriate date representation.', 'Locale’s appropriate time representation.', 'A literal \\'%\\' character.']\n",
    "})\n",
    "print(df)"
   ]
  },
  {
   "cell_type": "code",
   "execution_count": 35,
   "id": "bb5c22d5",
   "metadata": {},
   "outputs": [
    {
     "name": "stdout",
     "output_type": "stream",
     "text": [
      "16:50:50\n"
     ]
    }
   ],
   "source": [
    "#strftime(): datetime object to string\n",
    "now = datetime.datetime.now()\n",
    "t = now.strftime(\"%H:%M:%S\")\n",
    "print(t)"
   ]
  },
  {
   "cell_type": "code",
   "execution_count": 39,
   "id": "4f402c11",
   "metadata": {},
   "outputs": [
    {
     "name": "stdout",
     "output_type": "stream",
     "text": [
      "2021-07-15 00:00:00\n"
     ]
    }
   ],
   "source": [
    "#strptime(): string to datetime\n",
    "date_string = '15 July, 2021'\n",
    "date_object = datetime.datetime.strptime(date_string, \"%d %B, %Y\")\n",
    "print(date_object)"
   ]
  },
  {
   "cell_type": "markdown",
   "id": "925a78a5",
   "metadata": {},
   "source": [
    "## pytz Module"
   ]
  },
  {
   "cell_type": "code",
   "execution_count": 41,
   "id": "790831f0",
   "metadata": {},
   "outputs": [
    {
     "name": "stdout",
     "output_type": "stream",
     "text": [
      "2021-07-15 16:54:53.292951\n",
      "2021-07-15 04:54:53.293166-04:00\n"
     ]
    }
   ],
   "source": [
    "timezone = pytz.timezone('America/New_York')\n",
    "local = datetime.datetime.now()\n",
    "print(local)\n",
    "\n",
    "datetime_NY = datetime.datetime.now(timezone)\n",
    "print(datetime_NY)"
   ]
  },
  {
   "cell_type": "code",
   "execution_count": 44,
   "id": "55a3c080",
   "metadata": {},
   "outputs": [
    {
     "name": "stdout",
     "output_type": "stream",
     "text": [
      "['Africa/Abidjan', 'Africa/Accra', 'Africa/Addis_Ababa', 'Africa/Algiers', 'Africa/Asmara', 'Africa/Asmera', 'Africa/Bamako', 'Africa/Bangui', 'Africa/Banjul', 'Africa/Bissau', 'Africa/Blantyre', 'Africa/Brazzaville', 'Africa/Bujumbura', 'Africa/Cairo', 'Africa/Casablanca', 'Africa/Ceuta', 'Africa/Conakry', 'Africa/Dakar', 'Africa/Dar_es_Salaam', 'Africa/Djibouti', 'Africa/Douala', 'Africa/El_Aaiun', 'Africa/Freetown', 'Africa/Gaborone', 'Africa/Harare', 'Africa/Johannesburg', 'Africa/Juba', 'Africa/Kampala', 'Africa/Khartoum', 'Africa/Kigali', 'Africa/Kinshasa', 'Africa/Lagos', 'Africa/Libreville', 'Africa/Lome', 'Africa/Luanda', 'Africa/Lubumbashi', 'Africa/Lusaka', 'Africa/Malabo', 'Africa/Maputo', 'Africa/Maseru', 'Africa/Mbabane', 'Africa/Mogadishu', 'Africa/Monrovia', 'Africa/Nairobi', 'Africa/Ndjamena', 'Africa/Niamey', 'Africa/Nouakchott', 'Africa/Ouagadougou', 'Africa/Porto-Novo', 'Africa/Sao_Tome', 'Africa/Timbuktu', 'Africa/Tripoli', 'Africa/Tunis', 'Africa/Windhoek', 'America/Adak', 'America/Anchorage', 'America/Anguilla', 'America/Antigua', 'America/Araguaina', 'America/Argentina/Buenos_Aires', 'America/Argentina/Catamarca', 'America/Argentina/ComodRivadavia', 'America/Argentina/Cordoba', 'America/Argentina/Jujuy', 'America/Argentina/La_Rioja', 'America/Argentina/Mendoza', 'America/Argentina/Rio_Gallegos', 'America/Argentina/Salta', 'America/Argentina/San_Juan', 'America/Argentina/San_Luis', 'America/Argentina/Tucuman', 'America/Argentina/Ushuaia', 'America/Aruba', 'America/Asuncion', 'America/Atikokan', 'America/Atka', 'America/Bahia', 'America/Bahia_Banderas', 'America/Barbados', 'America/Belem', 'America/Belize', 'America/Blanc-Sablon', 'America/Boa_Vista', 'America/Bogota', 'America/Boise', 'America/Buenos_Aires', 'America/Cambridge_Bay', 'America/Campo_Grande', 'America/Cancun', 'America/Caracas', 'America/Catamarca', 'America/Cayenne', 'America/Cayman', 'America/Chicago', 'America/Chihuahua', 'America/Coral_Harbour', 'America/Cordoba', 'America/Costa_Rica', 'America/Creston', 'America/Cuiaba', 'America/Curacao', 'America/Danmarkshavn', 'America/Dawson', 'America/Dawson_Creek', 'America/Denver', 'America/Detroit', 'America/Dominica', 'America/Edmonton', 'America/Eirunepe', 'America/El_Salvador', 'America/Ensenada', 'America/Fort_Nelson', 'America/Fort_Wayne', 'America/Fortaleza', 'America/Glace_Bay', 'America/Godthab', 'America/Goose_Bay', 'America/Grand_Turk', 'America/Grenada', 'America/Guadeloupe', 'America/Guatemala', 'America/Guayaquil', 'America/Guyana', 'America/Halifax', 'America/Havana', 'America/Hermosillo', 'America/Indiana/Indianapolis', 'America/Indiana/Knox', 'America/Indiana/Marengo', 'America/Indiana/Petersburg', 'America/Indiana/Tell_City', 'America/Indiana/Vevay', 'America/Indiana/Vincennes', 'America/Indiana/Winamac', 'America/Indianapolis', 'America/Inuvik', 'America/Iqaluit', 'America/Jamaica', 'America/Jujuy', 'America/Juneau', 'America/Kentucky/Louisville', 'America/Kentucky/Monticello', 'America/Knox_IN', 'America/Kralendijk', 'America/La_Paz', 'America/Lima', 'America/Los_Angeles', 'America/Louisville', 'America/Lower_Princes', 'America/Maceio', 'America/Managua', 'America/Manaus', 'America/Marigot', 'America/Martinique', 'America/Matamoros', 'America/Mazatlan', 'America/Mendoza', 'America/Menominee', 'America/Merida', 'America/Metlakatla', 'America/Mexico_City', 'America/Miquelon', 'America/Moncton', 'America/Monterrey', 'America/Montevideo', 'America/Montreal', 'America/Montserrat', 'America/Nassau', 'America/New_York', 'America/Nipigon', 'America/Nome', 'America/Noronha', 'America/North_Dakota/Beulah', 'America/North_Dakota/Center', 'America/North_Dakota/New_Salem', 'America/Nuuk', 'America/Ojinaga', 'America/Panama', 'America/Pangnirtung', 'America/Paramaribo', 'America/Phoenix', 'America/Port-au-Prince', 'America/Port_of_Spain', 'America/Porto_Acre', 'America/Porto_Velho', 'America/Puerto_Rico', 'America/Punta_Arenas', 'America/Rainy_River', 'America/Rankin_Inlet', 'America/Recife', 'America/Regina', 'America/Resolute', 'America/Rio_Branco', 'America/Rosario', 'America/Santa_Isabel', 'America/Santarem', 'America/Santiago', 'America/Santo_Domingo', 'America/Sao_Paulo', 'America/Scoresbysund', 'America/Shiprock', 'America/Sitka', 'America/St_Barthelemy', 'America/St_Johns', 'America/St_Kitts', 'America/St_Lucia', 'America/St_Thomas', 'America/St_Vincent', 'America/Swift_Current', 'America/Tegucigalpa', 'America/Thule', 'America/Thunder_Bay', 'America/Tijuana', 'America/Toronto', 'America/Tortola', 'America/Vancouver', 'America/Virgin', 'America/Whitehorse', 'America/Winnipeg', 'America/Yakutat', 'America/Yellowknife', 'Antarctica/Casey', 'Antarctica/Davis', 'Antarctica/DumontDUrville', 'Antarctica/Macquarie', 'Antarctica/Mawson', 'Antarctica/McMurdo', 'Antarctica/Palmer', 'Antarctica/Rothera', 'Antarctica/South_Pole', 'Antarctica/Syowa', 'Antarctica/Troll', 'Antarctica/Vostok', 'Arctic/Longyearbyen', 'Asia/Aden', 'Asia/Almaty', 'Asia/Amman', 'Asia/Anadyr', 'Asia/Aqtau', 'Asia/Aqtobe', 'Asia/Ashgabat', 'Asia/Ashkhabad', 'Asia/Atyrau', 'Asia/Baghdad', 'Asia/Bahrain', 'Asia/Baku', 'Asia/Bangkok', 'Asia/Barnaul', 'Asia/Beirut', 'Asia/Bishkek', 'Asia/Brunei', 'Asia/Calcutta', 'Asia/Chita', 'Asia/Choibalsan', 'Asia/Chongqing', 'Asia/Chungking', 'Asia/Colombo', 'Asia/Dacca', 'Asia/Damascus', 'Asia/Dhaka', 'Asia/Dili', 'Asia/Dubai', 'Asia/Dushanbe', 'Asia/Famagusta', 'Asia/Gaza', 'Asia/Harbin', 'Asia/Hebron', 'Asia/Ho_Chi_Minh', 'Asia/Hong_Kong', 'Asia/Hovd', 'Asia/Irkutsk', 'Asia/Istanbul', 'Asia/Jakarta', 'Asia/Jayapura', 'Asia/Jerusalem', 'Asia/Kabul', 'Asia/Kamchatka', 'Asia/Karachi', 'Asia/Kashgar', 'Asia/Kathmandu', 'Asia/Katmandu', 'Asia/Khandyga', 'Asia/Kolkata', 'Asia/Krasnoyarsk', 'Asia/Kuala_Lumpur', 'Asia/Kuching', 'Asia/Kuwait', 'Asia/Macao', 'Asia/Macau', 'Asia/Magadan', 'Asia/Makassar', 'Asia/Manila', 'Asia/Muscat', 'Asia/Nicosia', 'Asia/Novokuznetsk', 'Asia/Novosibirsk', 'Asia/Omsk', 'Asia/Oral', 'Asia/Phnom_Penh', 'Asia/Pontianak', 'Asia/Pyongyang', 'Asia/Qatar', 'Asia/Qostanay', 'Asia/Qyzylorda', 'Asia/Rangoon', 'Asia/Riyadh', 'Asia/Saigon', 'Asia/Sakhalin', 'Asia/Samarkand', 'Asia/Seoul', 'Asia/Shanghai', 'Asia/Singapore', 'Asia/Srednekolymsk', 'Asia/Taipei', 'Asia/Tashkent', 'Asia/Tbilisi', 'Asia/Tehran', 'Asia/Tel_Aviv', 'Asia/Thimbu', 'Asia/Thimphu', 'Asia/Tokyo', 'Asia/Tomsk', 'Asia/Ujung_Pandang', 'Asia/Ulaanbaatar', 'Asia/Ulan_Bator', 'Asia/Urumqi', 'Asia/Ust-Nera', 'Asia/Vientiane', 'Asia/Vladivostok', 'Asia/Yakutsk', 'Asia/Yangon', 'Asia/Yekaterinburg', 'Asia/Yerevan', 'Atlantic/Azores', 'Atlantic/Bermuda', 'Atlantic/Canary', 'Atlantic/Cape_Verde', 'Atlantic/Faeroe', 'Atlantic/Faroe', 'Atlantic/Jan_Mayen', 'Atlantic/Madeira', 'Atlantic/Reykjavik', 'Atlantic/South_Georgia', 'Atlantic/St_Helena', 'Atlantic/Stanley', 'Australia/ACT', 'Australia/Adelaide', 'Australia/Brisbane', 'Australia/Broken_Hill', 'Australia/Canberra', 'Australia/Currie', 'Australia/Darwin', 'Australia/Eucla', 'Australia/Hobart', 'Australia/LHI', 'Australia/Lindeman', 'Australia/Lord_Howe', 'Australia/Melbourne', 'Australia/NSW', 'Australia/North', 'Australia/Perth', 'Australia/Queensland', 'Australia/South', 'Australia/Sydney', 'Australia/Tasmania', 'Australia/Victoria', 'Australia/West', 'Australia/Yancowinna', 'Brazil/Acre', 'Brazil/DeNoronha', 'Brazil/East', 'Brazil/West', 'CET', 'CST6CDT', 'Canada/Atlantic', 'Canada/Central', 'Canada/Eastern', 'Canada/Mountain', 'Canada/Newfoundland', 'Canada/Pacific', 'Canada/Saskatchewan', 'Canada/Yukon', 'Chile/Continental', 'Chile/EasterIsland', 'Cuba', 'EET', 'EST', 'EST5EDT', 'Egypt', 'Eire', 'Etc/GMT', 'Etc/GMT+0', 'Etc/GMT+1', 'Etc/GMT+10', 'Etc/GMT+11', 'Etc/GMT+12', 'Etc/GMT+2', 'Etc/GMT+3', 'Etc/GMT+4', 'Etc/GMT+5', 'Etc/GMT+6', 'Etc/GMT+7', 'Etc/GMT+8', 'Etc/GMT+9', 'Etc/GMT-0', 'Etc/GMT-1', 'Etc/GMT-10', 'Etc/GMT-11', 'Etc/GMT-12', 'Etc/GMT-13', 'Etc/GMT-14', 'Etc/GMT-2', 'Etc/GMT-3', 'Etc/GMT-4', 'Etc/GMT-5', 'Etc/GMT-6', 'Etc/GMT-7', 'Etc/GMT-8', 'Etc/GMT-9', 'Etc/GMT0', 'Etc/Greenwich', 'Etc/UCT', 'Etc/UTC', 'Etc/Universal', 'Etc/Zulu', 'Europe/Amsterdam', 'Europe/Andorra', 'Europe/Astrakhan', 'Europe/Athens', 'Europe/Belfast', 'Europe/Belgrade', 'Europe/Berlin', 'Europe/Bratislava', 'Europe/Brussels', 'Europe/Bucharest', 'Europe/Budapest', 'Europe/Busingen', 'Europe/Chisinau', 'Europe/Copenhagen', 'Europe/Dublin', 'Europe/Gibraltar', 'Europe/Guernsey', 'Europe/Helsinki', 'Europe/Isle_of_Man', 'Europe/Istanbul', 'Europe/Jersey', 'Europe/Kaliningrad', 'Europe/Kiev', 'Europe/Kirov', 'Europe/Lisbon', 'Europe/Ljubljana', 'Europe/London', 'Europe/Luxembourg', 'Europe/Madrid', 'Europe/Malta', 'Europe/Mariehamn', 'Europe/Minsk', 'Europe/Monaco', 'Europe/Moscow', 'Europe/Nicosia', 'Europe/Oslo', 'Europe/Paris', 'Europe/Podgorica', 'Europe/Prague', 'Europe/Riga', 'Europe/Rome', 'Europe/Samara', 'Europe/San_Marino', 'Europe/Sarajevo', 'Europe/Saratov', 'Europe/Simferopol', 'Europe/Skopje', 'Europe/Sofia', 'Europe/Stockholm', 'Europe/Tallinn', 'Europe/Tirane', 'Europe/Tiraspol', 'Europe/Ulyanovsk', 'Europe/Uzhgorod', 'Europe/Vaduz', 'Europe/Vatican', 'Europe/Vienna', 'Europe/Vilnius', 'Europe/Volgograd', 'Europe/Warsaw', 'Europe/Zagreb', 'Europe/Zaporozhye', 'Europe/Zurich', 'GB', 'GB-Eire', 'GMT', 'GMT+0', 'GMT-0', 'GMT0', 'Greenwich', 'HST', 'Hongkong', 'Iceland', 'Indian/Antananarivo', 'Indian/Chagos', 'Indian/Christmas', 'Indian/Cocos', 'Indian/Comoro', 'Indian/Kerguelen', 'Indian/Mahe', 'Indian/Maldives', 'Indian/Mauritius', 'Indian/Mayotte', 'Indian/Reunion', 'Iran', 'Israel', 'Jamaica', 'Japan', 'Kwajalein', 'Libya', 'MET', 'MST', 'MST7MDT', 'Mexico/BajaNorte', 'Mexico/BajaSur', 'Mexico/General', 'NZ', 'NZ-CHAT', 'Navajo', 'PRC', 'PST8PDT', 'Pacific/Apia', 'Pacific/Auckland', 'Pacific/Bougainville', 'Pacific/Chatham', 'Pacific/Chuuk', 'Pacific/Easter', 'Pacific/Efate', 'Pacific/Enderbury', 'Pacific/Fakaofo', 'Pacific/Fiji', 'Pacific/Funafuti', 'Pacific/Galapagos', 'Pacific/Gambier', 'Pacific/Guadalcanal', 'Pacific/Guam', 'Pacific/Honolulu', 'Pacific/Johnston', 'Pacific/Kiritimati', 'Pacific/Kosrae', 'Pacific/Kwajalein', 'Pacific/Majuro', 'Pacific/Marquesas', 'Pacific/Midway', 'Pacific/Nauru', 'Pacific/Niue', 'Pacific/Norfolk', 'Pacific/Noumea', 'Pacific/Pago_Pago', 'Pacific/Palau', 'Pacific/Pitcairn', 'Pacific/Pohnpei', 'Pacific/Ponape', 'Pacific/Port_Moresby', 'Pacific/Rarotonga', 'Pacific/Saipan', 'Pacific/Samoa', 'Pacific/Tahiti', 'Pacific/Tarawa', 'Pacific/Tongatapu', 'Pacific/Truk', 'Pacific/Wake', 'Pacific/Wallis', 'Pacific/Yap', 'Poland', 'Portugal', 'ROC', 'ROK', 'Singapore', 'Turkey', 'UCT', 'US/Alaska', 'US/Aleutian', 'US/Arizona', 'US/Central', 'US/East-Indiana', 'US/Eastern', 'US/Hawaii', 'US/Indiana-Starke', 'US/Michigan', 'US/Mountain', 'US/Pacific', 'US/Samoa', 'UTC', 'Universal', 'W-SU', 'WET', 'Zulu']\n"
     ]
    }
   ],
   "source": [
    "#all_timezones() method\n",
    "print(pytz.all_timezones)"
   ]
  },
  {
   "cell_type": "markdown",
   "id": "308b81e3",
   "metadata": {},
   "source": [
    "## time module"
   ]
  },
  {
   "cell_type": "code",
   "execution_count": 60,
   "id": "868a8515",
   "metadata": {},
   "outputs": [],
   "source": [
    "import time"
   ]
  },
  {
   "cell_type": "code",
   "execution_count": 61,
   "id": "9890bbbb",
   "metadata": {},
   "outputs": [
    {
     "name": "stdout",
     "output_type": "stream",
     "text": [
      "1626340100.14492\n"
     ]
    }
   ],
   "source": [
    "#time() method\n",
    "seconds = time.time()\n",
    "print(seconds)"
   ]
  },
  {
   "cell_type": "code",
   "execution_count": 62,
   "id": "0a1b35df",
   "metadata": {},
   "outputs": [
    {
     "name": "stdout",
     "output_type": "stream",
     "text": [
      "Thu Jul 15 17:08:20 2021\n"
     ]
    }
   ],
   "source": [
    "#ctime() method\n",
    "local_time = time.ctime(seconds)\n",
    "print(local_time)"
   ]
  },
  {
   "cell_type": "code",
   "execution_count": 63,
   "id": "db7ec96f",
   "metadata": {},
   "outputs": [
    {
     "name": "stdout",
     "output_type": "stream",
     "text": [
      "This is printed immediately.\n",
      "This is printed 2.4 seconds later\n"
     ]
    }
   ],
   "source": [
    "#sleep() method\n",
    "print(\"This is printed immediately.\")\n",
    "time.sleep(2.4)\n",
    "print(\"This is printed 2.4 seconds later\")"
   ]
  },
  {
   "cell_type": "markdown",
   "id": "ceaf9400",
   "metadata": {},
   "source": [
    "### struct_time Class"
   ]
  },
  {
   "cell_type": "code",
   "execution_count": 65,
   "id": "09dcbc8b",
   "metadata": {},
   "outputs": [
    {
     "data": {
      "text/plain": [
       "'\\ntime.struct_time(tm_year=2018, tm_mon=12, tm_mday=27, \\n                    tm_hour=6, tm_min=35, tm_sec=17, \\n                    tm_wday=3, tm_yday=361, tm_isdst=0)\\n'"
      ]
     },
     "execution_count": 65,
     "metadata": {},
     "output_type": "execute_result"
    }
   ],
   "source": [
    "'''\n",
    "time.struct_time(tm_year=2018, tm_mon=12, tm_mday=27, \n",
    "                    tm_hour=6, tm_min=35, tm_sec=17, \n",
    "                    tm_wday=3, tm_yday=361, tm_isdst=0)\n",
    "'''"
   ]
  },
  {
   "cell_type": "code",
   "execution_count": 66,
   "id": "6f580e82",
   "metadata": {},
   "outputs": [
    {
     "name": "stdout",
     "output_type": "stream",
     "text": [
      "result: time.struct_time(tm_year=2018, tm_mon=12, tm_mday=27, tm_hour=23, tm_min=49, tm_sec=29, tm_wday=3, tm_yday=361, tm_isdst=0)\n",
      "\n",
      "year: 2018\n",
      "tm_hour: 23\n"
     ]
    }
   ],
   "source": [
    "#localtime(): takes the number of seconds passed since epoch as an argument and returns it in local time.\n",
    "result = time.localtime(1545925769)\n",
    "print(\"result:\", result)\n",
    "print(\"\\nyear:\", result.tm_year)\n",
    "print(\"tm_hour:\", result.tm_hour)"
   ]
  },
  {
   "cell_type": "code",
   "execution_count": 67,
   "id": "76a0b154",
   "metadata": {},
   "outputs": [
    {
     "name": "stdout",
     "output_type": "stream",
     "text": [
      "t1:  time.struct_time(tm_year=2018, tm_mon=12, tm_mday=27, tm_hour=23, tm_min=49, tm_sec=29, tm_wday=3, tm_yday=361, tm_isdst=0)\n",
      "\\s: 1545925769\n"
     ]
    }
   ],
   "source": [
    "#mktime()\n",
    "seconds = 1545925769\n",
    "\n",
    "# returns struct_time\n",
    "one_time = time.localtime(seconds)\n",
    "print(\"t1: \", one_time)\n",
    "\n",
    "# returns seconds from struct_time\n",
    "s = time.mktime(one_time)\n",
    "print(\"\\s:\", seconds)"
   ]
  },
  {
   "cell_type": "code",
   "execution_count": 69,
   "id": "6d140712",
   "metadata": {},
   "outputs": [
    {
     "name": "stdout",
     "output_type": "stream",
     "text": [
      "Result: Fri Dec 28 08:44:04 2018\n"
     ]
    }
   ],
   "source": [
    "#asctime()\n",
    "t = (2018, 12, 28, 8, 44, 4, 4, 362, 0)\n",
    "\n",
    "result = time.asctime(t)\n",
    "print(\"Result:\", result)"
   ]
  },
  {
   "cell_type": "markdown",
   "id": "771ef078",
   "metadata": {},
   "source": [
    "## dateutil.tz Module"
   ]
  },
  {
   "cell_type": "code",
   "execution_count": 70,
   "id": "f1934dcb",
   "metadata": {},
   "outputs": [],
   "source": [
    "#Objects: dateutil.tz.UTC"
   ]
  },
  {
   "cell_type": "markdown",
   "id": "415d0b39",
   "metadata": {},
   "source": [
    "### Functions\n",
    "#### gettz(name=None)"
   ]
  },
  {
   "cell_type": "code",
   "execution_count": 75,
   "id": "d653eb44",
   "metadata": {},
   "outputs": [
    {
     "data": {
      "text/plain": [
       "tzfile('/etc/localtime')"
      ]
     },
     "execution_count": 75,
     "metadata": {},
     "output_type": "execute_result"
    }
   ],
   "source": [
    "tz.gettz()"
   ]
  },
  {
   "cell_type": "code",
   "execution_count": 77,
   "id": "5bdedb6f",
   "metadata": {},
   "outputs": [
    {
     "data": {
      "text/plain": [
       "tzfile('/usr/share/zoneinfo/Pacific/Kiritimati')"
      ]
     },
     "execution_count": 77,
     "metadata": {},
     "output_type": "execute_result"
    }
   ],
   "source": [
    "tz.gettz('Pacific/Kiritimati')"
   ]
  },
  {
   "cell_type": "code",
   "execution_count": 81,
   "id": "60907dd6",
   "metadata": {},
   "outputs": [],
   "source": [
    "tz.gettz('Egypt Standard Time')"
   ]
  },
  {
   "cell_type": "code",
   "execution_count": 82,
   "id": "130260e1",
   "metadata": {},
   "outputs": [
    {
     "data": {
      "text/plain": [
       "tzstr('AEST-10AEDT-11,M10.1.0/2,M4.1.0/3')"
      ]
     },
     "execution_count": 82,
     "metadata": {},
     "output_type": "execute_result"
    }
   ],
   "source": [
    "tz.gettz('AEST-10AEDT-11,M10.1.0/2,M4.1.0/3')"
   ]
  },
  {
   "cell_type": "markdown",
   "id": "87c12299",
   "metadata": {},
   "source": [
    "#### enfold(dt,fold=1)\n",
    "Parameters: \n",
    "\n",
    "fold = The value for this attribute in the returned datetime. This should be either 0 or 1."
   ]
  },
  {
   "cell_type": "markdown",
   "id": "14f0bc13",
   "metadata": {},
   "source": [
    "#### date_ambiguous(dt, tz=None)\n",
    "Parameters: \n",
    "\n",
    "dt - A datetime.datetime (whose time zone will be ignored if tz is provided.)\n",
    "\n",
    "tz - A datetime.tzinfo with support for the fold attribute. If None or not provided, the datetime's own time zone will be used. "
   ]
  },
  {
   "cell_type": "markdown",
   "id": "227b2b17",
   "metadata": {},
   "source": [
    "#### datetime_exists(dt, tz=None\n",
    "Parameters:\n",
    "\n",
    "dt - A datetime.datetime (whose time zone will be ignored if tz is provided.)\n",
    "\n",
    "tz - A datetime.tzinfo with support for the fold attribute. If None or not provided, the datetime's own time zone will be used."
   ]
  },
  {
   "cell_type": "markdown",
   "id": "4dc7ac54",
   "metadata": {},
   "source": [
    "#### resolve_imaginary(dt)"
   ]
  },
  {
   "cell_type": "code",
   "execution_count": 86,
   "id": "60dc1dcf",
   "metadata": {},
   "outputs": [
    {
     "name": "stdout",
     "output_type": "stream",
     "text": [
      "2021-07-15 02:30:00-04:00\n"
     ]
    }
   ],
   "source": [
    "NYC = tz.gettz('America/New_York')\n",
    "print(tz.resolve_imaginary(datetime.datetime(2021, 7, 15, 2, 30, tzinfo=NYC)))"
   ]
  },
  {
   "cell_type": "markdown",
   "id": "db4207fb",
   "metadata": {},
   "source": [
    "## Classes"
   ]
  },
  {
   "cell_type": "markdown",
   "id": "c09de67e",
   "metadata": {},
   "source": [
    "**dateutil.tz.tzutc:** This is a tzinfo object that represents the UTC time zone.\n",
    "\n",
    "**dateutil.tz.tzoffset:** A simple class for representing a fixed offset from UTC\n",
    "    \n",
    "    **Parameters:** \n",
    "    \n",
    "    name - The timezone name, to be returned when tzname() is called. \n",
    "    \n",
    "    offset - The time zone offset in seconds\n",
    "    \n",
    "**dateutil.tz.tzlocal:** A tzinfo subclass built around the time timezone functions\n",
    "\n",
    "**dateutil.tz.twinlocal:** Class representing the local time zone information in the Windows registry"
   ]
  }
 ],
 "metadata": {
  "kernelspec": {
   "display_name": "Python 3",
   "language": "python",
   "name": "python3"
  },
  "language_info": {
   "codemirror_mode": {
    "name": "ipython",
    "version": 3
   },
   "file_extension": ".py",
   "mimetype": "text/x-python",
   "name": "python",
   "nbconvert_exporter": "python",
   "pygments_lexer": "ipython3",
   "version": "3.8.8"
  }
 },
 "nbformat": 4,
 "nbformat_minor": 5
}

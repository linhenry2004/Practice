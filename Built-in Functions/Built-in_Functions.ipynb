{
 "cells": [
  {
   "cell_type": "markdown",
   "id": "5c72dbe6",
   "metadata": {},
   "source": [
    "## Python Built-in Functions"
   ]
  },
  {
   "cell_type": "markdown",
   "id": "255cc3a7",
   "metadata": {},
   "source": [
    "### abs() function\n",
    "Return the absolute value of a number."
   ]
  },
  {
   "cell_type": "code",
   "execution_count": 3,
   "id": "563eb1c0",
   "metadata": {},
   "outputs": [
    {
     "name": "stdout",
     "output_type": "stream",
     "text": [
      "100\n",
      "1023\n",
      "123.25\n",
      "2033.66\n"
     ]
    }
   ],
   "source": [
    "print(abs(-100))\n",
    "print(abs(1023))\n",
    "print(abs(123.25))\n",
    "print(abs(-2033.66))"
   ]
  },
  {
   "cell_type": "markdown",
   "id": "e1dccd8d",
   "metadata": {},
   "source": [
    "### all() function\n",
    "Return True if all elements of the iterable are true."
   ]
  },
  {
   "cell_type": "code",
   "execution_count": 4,
   "id": "ce2a98e5",
   "metadata": {},
   "outputs": [
    {
     "name": "stdout",
     "output_type": "stream",
     "text": [
      "True\n",
      "False\n",
      "False\n",
      "False\n",
      "True\n"
     ]
    }
   ],
   "source": [
    "# all values true\n",
    "num = [23, 45, 10, 30]\n",
    "print(all(num)) #True\n",
    "\n",
    "# all values false\n",
    "num = [0, False]\n",
    "print(all(num)) #False\n",
    "\n",
    "# one false value\n",
    "num = [1, 3, 4, 0]\n",
    "print(all(num)) #False\n",
    "\n",
    "# one true value\n",
    "num = [0, False, 5]\n",
    "print(all(num)) #False\n",
    "\n",
    "# empty iterable\n",
    "num = []\n",
    "print(all(num)) #True"
   ]
  },
  {
   "cell_type": "markdown",
   "id": "97d75f5f",
   "metadata": {},
   "source": [
    "### any() function\n",
    "Returns True if any element of the iterable is true."
   ]
  },
  {
   "cell_type": "code",
   "execution_count": 7,
   "id": "c478e5aa",
   "metadata": {},
   "outputs": [
    {
     "name": "stdout",
     "output_type": "stream",
     "text": [
      "True\n",
      "False\n",
      "True\n",
      "False\n"
     ]
    }
   ],
   "source": [
    "def any (iterable):\n",
    "    for element in iterable: \n",
    "        if element: \n",
    "            return True\n",
    "    return False\n",
    "\n",
    "str = \"Hello\"\n",
    "print(any(str))\n",
    "\n",
    "str = ''\n",
    "print(any(str))\n",
    "\n",
    "num = [23, 45, 0, 30]\n",
    "print(any(num))\n",
    "\n",
    "num = []\n",
    "print(any(num))"
   ]
  },
  {
   "cell_type": "markdown",
   "id": "59d6e22e",
   "metadata": {},
   "source": [
    "### ascii() function\n",
    "Returns a string of ascii code"
   ]
  },
  {
   "cell_type": "code",
   "execution_count": 9,
   "id": "c2d4fb91",
   "metadata": {},
   "outputs": [
    {
     "name": "stdout",
     "output_type": "stream",
     "text": [
      "'\\u4f60\\u597d'\n",
      "你好\n"
     ]
    }
   ],
   "source": [
    "print(ascii(\"你好\"))\n",
    "print('\\u4f60\\u597d')"
   ]
  },
  {
   "cell_type": "markdown",
   "id": "e721df1e",
   "metadata": {},
   "source": [
    "#### Escape sequences: \n",
    "\n",
    "\\x = Hex\n",
    "\n",
    "\\u = unicode with 16 bit hex value\n",
    "\n",
    "\\U = unicode with 64 bit hex value\n"
   ]
  },
  {
   "cell_type": "markdown",
   "id": "43e41559",
   "metadata": {},
   "source": [
    "### bin() function\n",
    "Returns an integer in binary form"
   ]
  },
  {
   "cell_type": "code",
   "execution_count": 21,
   "id": "6f04aade",
   "metadata": {},
   "outputs": [
    {
     "name": "stdout",
     "output_type": "stream",
     "text": [
      "10 0b1010\n"
     ]
    }
   ],
   "source": [
    "x = 10\n",
    "y = bin(x)\n",
    "print(x, y)"
   ]
  },
  {
   "cell_type": "code",
   "execution_count": 23,
   "id": "e1cd0dfc",
   "metadata": {},
   "outputs": [
    {
     "name": "stdout",
     "output_type": "stream",
     "text": [
      "000001010\n",
      "000001000\n",
      "001101110\n"
     ]
    }
   ],
   "source": [
    "#Convert an integer to binary without using bin() function\n",
    "def dec_to_bin(n):\n",
    "    binary = \"\" \n",
    "    x = 0\n",
    "    while n > 0 and x<=8: \n",
    "        s1 = ('%s' % int(n % 2))\n",
    "        binary = binary + s1 \n",
    "        n /= 2\n",
    "        x = x + 1\n",
    "        result = binary[::-1] \n",
    "    return result \n",
    "print(dec_to_bin(10))\n",
    "print(dec_to_bin(8))\n",
    "print(dec_to_bin(110))"
   ]
  },
  {
   "cell_type": "markdown",
   "id": "f93040b0",
   "metadata": {},
   "source": [
    "### bool() function\n",
    "Returns a boolean value"
   ]
  },
  {
   "cell_type": "code",
   "execution_count": 25,
   "id": "b6b0dc95",
   "metadata": {},
   "outputs": [
    {
     "name": "stdout",
     "output_type": "stream",
     "text": [
      "True\n",
      "False\n",
      "True\n",
      "False\n"
     ]
    }
   ],
   "source": [
    "print(bool(True))\n",
    "print(bool(False))\n",
    "print(bool(5))\n",
    "print(bool(0))"
   ]
  },
  {
   "cell_type": "markdown",
   "id": "999d988f",
   "metadata": {},
   "source": [
    "### bytearray() function\n",
    "Returns a new array of bytes"
   ]
  },
  {
   "cell_type": "code",
   "execution_count": 26,
   "id": "cdfedc9b",
   "metadata": {},
   "outputs": [
    {
     "name": "stdout",
     "output_type": "stream",
     "text": [
      "bytearray(b'\\x01\\x02\\x03\\x04\\x05')\n"
     ]
    }
   ],
   "source": [
    "num = [1, 2, 3, 4, 5]\n",
    "a = bytearray(num)\n",
    "print(a)"
   ]
  },
  {
   "cell_type": "code",
   "execution_count": 27,
   "id": "7f4cd9bf",
   "metadata": {},
   "outputs": [
    {
     "name": "stdout",
     "output_type": "stream",
     "text": [
      "bytearray(b'Hello World!')\n"
     ]
    }
   ],
   "source": [
    "str = \"Hello World!\"\n",
    "b = bytearray(str, 'utf-8')\n",
    "print(b)"
   ]
  },
  {
   "cell_type": "markdown",
   "id": "2b17e0de",
   "metadata": {},
   "source": [
    "### bytes() function\n",
    "Returns a new 'bytes' object, which is an immutable sequence of integers in the range 0 <= x < 256"
   ]
  },
  {
   "cell_type": "code",
   "execution_count": 39,
   "id": "a414ab5e",
   "metadata": {},
   "outputs": [
    {
     "name": "stdout",
     "output_type": "stream",
     "text": [
      "b'Hello World!'\n"
     ]
    }
   ],
   "source": [
    "str = \"Hello World!\"\n",
    "a = bytes(str, 'utf-8')\n",
    "print(a)"
   ]
  },
  {
   "cell_type": "markdown",
   "id": "1d28c183",
   "metadata": {},
   "source": [
    "### callable() function\n",
    "Returns True if the object argument appears callable, False if not"
   ]
  },
  {
   "cell_type": "code",
   "execution_count": 43,
   "id": "ca181d15",
   "metadata": {},
   "outputs": [
    {
     "name": "stdout",
     "output_type": "stream",
     "text": [
      "False\n",
      "True\n",
      "True\n"
     ]
    }
   ],
   "source": [
    "class foo:\n",
    "    def __cal__ (self):\n",
    "        print('Hello World!')\n",
    "\n",
    "def testFunction ():\n",
    "    print('Test')\n",
    "\n",
    "print(callable(10))\n",
    "print(callable(testFunction))\n",
    "print(callable(foo))"
   ]
  },
  {
   "cell_type": "markdown",
   "id": "4b14357b",
   "metadata": {},
   "source": [
    "### chr() function\n",
    "Returns the string representing a character whose Unicode codepoint is the integer"
   ]
  },
  {
   "cell_type": "code",
   "execution_count": 44,
   "id": "2847bafe",
   "metadata": {},
   "outputs": [
    {
     "name": "stdout",
     "output_type": "stream",
     "text": [
      "A\n",
      "a\n",
      "|\n"
     ]
    }
   ],
   "source": [
    "print(chr(65))\n",
    "print(chr(97))\n",
    "print(chr(124))"
   ]
  },
  {
   "cell_type": "markdown",
   "id": "bd168f87",
   "metadata": {},
   "source": [
    "### classmethod() function\n",
    "Used to convert a method into a class method"
   ]
  },
  {
   "cell_type": "code",
   "execution_count": 45,
   "id": "92400bdd",
   "metadata": {},
   "outputs": [
    {
     "name": "stdout",
     "output_type": "stream",
     "text": [
      "The name is :  Geeksforgeeks\n"
     ]
    }
   ],
   "source": [
    "class Student:\n",
    "      \n",
    "    name = \"Geeksforgeeks\"\n",
    "      \n",
    "    def print_name(obj):\n",
    "        print(\"The name is : \", obj.name)\n",
    "\n",
    "Student.print_name = classmethod(Student.print_name)\n",
    "Student.print_name()"
   ]
  },
  {
   "cell_type": "markdown",
   "id": "6f51212d",
   "metadata": {},
   "source": [
    "### compile() function\n",
    "Used to compile the source into a code"
   ]
  },
  {
   "cell_type": "code",
   "execution_count": 144,
   "id": "e1c57119",
   "metadata": {},
   "outputs": [
    {
     "name": "stdout",
     "output_type": "stream",
     "text": [
      "summation = 13\n"
     ]
    }
   ],
   "source": [
    "#compile(source, filename, mode, flags=0, dont_inherit=False, optimize=-1)\n",
    "\n",
    "codeInString = 'x = 8\\ny=5\\nsummation=x+y\\nprint(\"summation =\",summation)'\n",
    "codeObejct = compile(codeInString, 'sumstring', 'exec')\n",
    "exec(codeObejct)"
   ]
  },
  {
   "cell_type": "markdown",
   "id": "0d5982ed",
   "metadata": {},
   "source": [
    "### complex() function\n",
    "Used to create a complex number or convert a string or number to a complex number"
   ]
  },
  {
   "cell_type": "code",
   "execution_count": 51,
   "id": "9a630d76",
   "metadata": {},
   "outputs": [
    {
     "name": "stdout",
     "output_type": "stream",
     "text": [
      "(3-5j)\n",
      "(1+0j)\n",
      "0j\n",
      "(6-7j)\n"
     ]
    }
   ],
   "source": [
    "print(complex(3, -5))\n",
    "print(complex(1))\n",
    "print(complex())\n",
    "print(complex('6-7j'))"
   ]
  },
  {
   "cell_type": "markdown",
   "id": "a41f768a",
   "metadata": {},
   "source": [
    "### delattr() function\n",
    "Used to delete the specified attribute from the specified object"
   ]
  },
  {
   "cell_type": "code",
   "execution_count": 54,
   "id": "bc6580d8",
   "metadata": {},
   "outputs": [
    {
     "name": "stdout",
     "output_type": "stream",
     "text": [
      "15\n",
      "-7\n",
      "0\n",
      "15\n",
      "-7\n"
     ]
    },
    {
     "ename": "AttributeError",
     "evalue": "'Rollnums' object has no attribute 'c'",
     "output_type": "error",
     "traceback": [
      "\u001b[0;31m---------------------------------------------------------------------------\u001b[0m",
      "\u001b[0;31mAttributeError\u001b[0m                            Traceback (most recent call last)",
      "\u001b[0;32m<ipython-input-54-4066aa29613c>\u001b[0m in \u001b[0;36m<module>\u001b[0;34m\u001b[0m\n\u001b[1;32m     13\u001b[0m \u001b[0mprint\u001b[0m\u001b[0;34m(\u001b[0m\u001b[0mrno\u001b[0m\u001b[0;34m.\u001b[0m\u001b[0ma\u001b[0m\u001b[0;34m)\u001b[0m\u001b[0;34m\u001b[0m\u001b[0;34m\u001b[0m\u001b[0m\n\u001b[1;32m     14\u001b[0m \u001b[0mprint\u001b[0m\u001b[0;34m(\u001b[0m\u001b[0mrno\u001b[0m\u001b[0;34m.\u001b[0m\u001b[0mb\u001b[0m\u001b[0;34m)\u001b[0m\u001b[0;34m\u001b[0m\u001b[0;34m\u001b[0m\u001b[0m\n\u001b[0;32m---> 15\u001b[0;31m \u001b[0mprint\u001b[0m\u001b[0;34m(\u001b[0m\u001b[0mrno\u001b[0m\u001b[0;34m.\u001b[0m\u001b[0mc\u001b[0m\u001b[0;34m)\u001b[0m \u001b[0;31m#gives an error b/c attribute was deleted\u001b[0m\u001b[0;34m\u001b[0m\u001b[0;34m\u001b[0m\u001b[0m\n\u001b[0m",
      "\u001b[0;31mAttributeError\u001b[0m: 'Rollnums' object has no attribute 'c'"
     ]
    }
   ],
   "source": [
    "class Rollnums: \n",
    "    a = 15\n",
    "    b = -7\n",
    "    c = 0\n",
    "\n",
    "rno = Rollnums()\n",
    "\n",
    "print(rno.a)\n",
    "print(rno.b)\n",
    "print(rno.c)\n",
    "\n",
    "delattr(Rollnums, 'c')\n",
    "print(rno.a)\n",
    "print(rno.b)\n",
    "print(rno.c) #gives an error b/c attribute was deleted"
   ]
  },
  {
   "cell_type": "markdown",
   "id": "77594ba2",
   "metadata": {},
   "source": [
    "### dict() function\n",
    "Used to create a new dictionary"
   ]
  },
  {
   "cell_type": "code",
   "execution_count": 55,
   "id": "9b02db4d",
   "metadata": {},
   "outputs": [
    {
     "name": "stdout",
     "output_type": "stream",
     "text": [
      "num =  {'a': 10, 'b': 0}\n",
      "<class 'dict'>\n",
      "empty =  {}\n",
      "<class 'dict'>\n"
     ]
    }
   ],
   "source": [
    "num = dict(a=10, b=0)\n",
    "print('num = ',num)\n",
    "print(type(num))\n",
    "\n",
    "empty = dict()\n",
    "print('empty = ',empty)\n",
    "print(type(empty))\n"
   ]
  },
  {
   "cell_type": "code",
   "execution_count": 56,
   "id": "e01473cd",
   "metadata": {},
   "outputs": [
    {
     "name": "stdout",
     "output_type": "stream",
     "text": [
      "num1 = {'a': 3, 'b': -3}\n",
      "num2 = {'a': 3, 'b': -3, 'c': 5}\n",
      "num3 = {'a': 2, 'b': 3, 'c': 4}\n"
     ]
    }
   ],
   "source": [
    "num1 = dict([('a', 3), ('b', -3)])\n",
    "print('num1 =',num1)\n",
    "\n",
    "num2 = dict([('a', 3), ('b', -3)], c=5)\n",
    "print('num2 =',num2)\n",
    "\n",
    "# zip() creates an iterable in Python 3\n",
    "num3 = dict(dict(zip(['a', 'b', 'c'], [2, 3, 4])))\n",
    "print('num3 =',num3)"
   ]
  },
  {
   "cell_type": "code",
   "execution_count": 57,
   "id": "884da37a",
   "metadata": {},
   "outputs": [
    {
     "name": "stdout",
     "output_type": "stream",
     "text": [
      "num1 = {'a': 3, 'b': 4}\n",
      "num2 = {'a': 5, 'b': 6}\n",
      "num3 = {'a': 7, 'b': 8, 'c': 9}\n"
     ]
    }
   ],
   "source": [
    "num1 = dict({'a': 3, 'b': 4})\n",
    "print('num1 =',num1)\n",
    "\n",
    "num2 = {'a': 5, 'b': 6}\n",
    "print('num2 =',num2)\n",
    "\n",
    "num3 = dict({'a': 7, 'b': 8}, c=9)\n",
    "print('num3 =',num3)"
   ]
  },
  {
   "cell_type": "markdown",
   "id": "286b37f3",
   "metadata": {},
   "source": [
    "### dir() function\n",
    "Returns all properties and methods of the specified object, without the values"
   ]
  },
  {
   "cell_type": "code",
   "execution_count": 59,
   "id": "e9918bc0",
   "metadata": {},
   "outputs": [
    {
     "data": {
      "text/plain": [
       "['Struct',\n",
       " '__all__',\n",
       " '__builtins__',\n",
       " '__cached__',\n",
       " '__doc__',\n",
       " '__file__',\n",
       " '__loader__',\n",
       " '__name__',\n",
       " '__package__',\n",
       " '__spec__',\n",
       " '_clearcache',\n",
       " 'calcsize',\n",
       " 'error',\n",
       " 'iter_unpack',\n",
       " 'pack',\n",
       " 'pack_into',\n",
       " 'unpack',\n",
       " 'unpack_from']"
      ]
     },
     "execution_count": 59,
     "metadata": {},
     "output_type": "execute_result"
    }
   ],
   "source": [
    "import struct\n",
    "dir(struct)"
   ]
  },
  {
   "cell_type": "markdown",
   "id": "78496598",
   "metadata": {},
   "source": [
    "### divmod() function\n",
    "Takes two non complex numbers as arguments and return a pair of numbers consisting of their quotient and remainder when using integer division."
   ]
  },
  {
   "cell_type": "code",
   "execution_count": 60,
   "id": "acd52d04",
   "metadata": {},
   "outputs": [
    {
     "name": "stdout",
     "output_type": "stream",
     "text": [
      "(4, 1)\n"
     ]
    }
   ],
   "source": [
    "print(divmod(9, 2))"
   ]
  },
  {
   "cell_type": "markdown",
   "id": "45909f8c",
   "metadata": {},
   "source": [
    "### enumerate() function\n",
    "Returns an enumerate object iterable must be a sequence, an iterator, or some other object which supports iteration"
   ]
  },
  {
   "cell_type": "code",
   "execution_count": 63,
   "id": "428a7d57",
   "metadata": {},
   "outputs": [
    {
     "name": "stdout",
     "output_type": "stream",
     "text": [
      "[(0, 'Spring'), (1, 'Summer'), (2, 'Fall'), (3, 'Winter')]\n",
      "[(1, 'Spring'), (2, 'Summer'), (3, 'Fall'), (4, 'Winter')]\n"
     ]
    }
   ],
   "source": [
    "#enumerate(iterable, start = 0)\n",
    "print(list(enumerate(['Spring', 'Summer', 'Fall', 'Winter'])))\n",
    "print(list(enumerate(['Spring', 'Summer', 'Fall', 'Winter'], 1)))"
   ]
  },
  {
   "cell_type": "markdown",
   "id": "cb35330f",
   "metadata": {},
   "source": [
    "### eval() function\n",
    "Used to evaluate the specified the specified expression. If the expression is a correct Python statement, it will be executed."
   ]
  },
  {
   "cell_type": "code",
   "execution_count": 64,
   "id": "c1433c73",
   "metadata": {},
   "outputs": [
    {
     "name": "stdout",
     "output_type": "stream",
     "text": [
      "6\n",
      "5\n"
     ]
    }
   ],
   "source": [
    "x = 5\n",
    "print(eval('x+1'))\n",
    "print(eval('x'))"
   ]
  },
  {
   "cell_type": "code",
   "execution_count": 65,
   "id": "89a88c1e",
   "metadata": {},
   "outputs": [
    {
     "name": "stdout",
     "output_type": "stream",
     "text": [
      "['__builtins__']\n"
     ]
    },
    {
     "ename": "NameError",
     "evalue": "name 'sqrt' is not defined",
     "output_type": "error",
     "traceback": [
      "\u001b[0;31m---------------------------------------------------------------------------\u001b[0m",
      "\u001b[0;31mNameError\u001b[0m                                 Traceback (most recent call last)",
      "\u001b[0;32m<ipython-input-65-56b22f99f439>\u001b[0m in \u001b[0;36m<module>\u001b[0;34m\u001b[0m\n\u001b[1;32m      3\u001b[0m \u001b[0;34m\u001b[0m\u001b[0m\n\u001b[1;32m      4\u001b[0m \u001b[0;31m#Following code will raise an exception\u001b[0m\u001b[0;34m\u001b[0m\u001b[0;34m\u001b[0m\u001b[0;34m\u001b[0m\u001b[0m\n\u001b[0;32m----> 5\u001b[0;31m \u001b[0mprint\u001b[0m\u001b[0;34m(\u001b[0m\u001b[0meval\u001b[0m\u001b[0;34m(\u001b[0m\u001b[0;34m'sqrt(36)'\u001b[0m\u001b[0;34m,\u001b[0m \u001b[0;34m{\u001b[0m\u001b[0;34m}\u001b[0m\u001b[0;34m)\u001b[0m\u001b[0;34m)\u001b[0m\u001b[0;34m\u001b[0m\u001b[0;34m\u001b[0m\u001b[0m\n\u001b[0m",
      "\u001b[0;32m<string>\u001b[0m in \u001b[0;36m<module>\u001b[0;34m\u001b[0m\n",
      "\u001b[0;31mNameError\u001b[0m: name 'sqrt' is not defined"
     ]
    }
   ],
   "source": [
    "from math import *\n",
    "print(eval('dir()', {}))\n",
    "\n",
    "#Following code will raise an exception\n",
    "print(eval('sqrt(36)', {}))"
   ]
  },
  {
   "cell_type": "markdown",
   "id": "df9fbf29",
   "metadata": {},
   "source": [
    "### exec() function\n",
    "Used to execute the specified Python code"
   ]
  },
  {
   "cell_type": "code",
   "execution_count": 82,
   "id": "9445f93f",
   "metadata": {},
   "outputs": [
    {
     "name": "stdout",
     "output_type": "stream",
     "text": [
      "6.0\n"
     ]
    }
   ],
   "source": [
    "x = 's = 36\\nprint(sqrt(s))'\n",
    "exec(x)"
   ]
  },
  {
   "cell_type": "markdown",
   "id": "bdfd29b0",
   "metadata": {},
   "source": [
    "### filter() function\n",
    "Construct an iterator from those elements of iterable for which function returns true"
   ]
  },
  {
   "cell_type": "code",
   "execution_count": 89,
   "id": "298739c6",
   "metadata": {},
   "outputs": [
    {
     "name": "stdout",
     "output_type": "stream",
     "text": [
      "The filtered non-vowels include:\n",
      "b\n",
      "c\n",
      "d\n",
      "f\n",
      "g\n",
      "h\n",
      "j\n",
      "k\n",
      "l\n",
      "m\n",
      "n\n",
      "p\n",
      "q\n",
      "r\n",
      "s\n",
      "t\n",
      "v\n",
      "w\n",
      "x\n",
      "y\n",
      "z\n"
     ]
    }
   ],
   "source": [
    "str = 'abcdefghijklmnopqrstuvwxyz'\n",
    "lsts = list(str)\n",
    "\n",
    "def filter_non_vowels(letters):\n",
    "    vowels = ['a', 'e', 'i', 'o', 'u']\n",
    "    \n",
    "    if(letters in vowels):\n",
    "        return False\n",
    "    else: \n",
    "        return True\n",
    "\n",
    "non_vowels = filter(filter_non_vowels, lsts)\n",
    "\n",
    "print('The filtered non-vowels include:')\n",
    "for non_vowel in non_vowels:\n",
    "    print(non_vowel)"
   ]
  },
  {
   "cell_type": "markdown",
   "id": "d0476d07",
   "metadata": {},
   "source": [
    "### float() function\n",
    "Used to convert the specified value into a floating point number"
   ]
  },
  {
   "cell_type": "code",
   "execution_count": 90,
   "id": "1e19db77",
   "metadata": {},
   "outputs": [
    {
     "name": "stdout",
     "output_type": "stream",
     "text": [
      "2.25\n",
      "-12345.0\n",
      "-15.55\n",
      "1e-05\n",
      "10000000.0\n",
      "-inf\n"
     ]
    }
   ],
   "source": [
    "# for floats\n",
    "print(float(2.25))\n",
    "# for string floats with whitespaces\n",
    "print(float(\"       -12345\\n\"))\n",
    "# for string floats\n",
    "print(float(\"-15.55\"))\n",
    "print(float(\"1e-005\"))\n",
    "print(float(\"+1E7\"))\n",
    "print(float(\"-Infinity\"))"
   ]
  },
  {
   "cell_type": "markdown",
   "id": "2658b63d",
   "metadata": {},
   "source": [
    "### format() function\n",
    "Used to format a specified value into a specified format"
   ]
  },
  {
   "cell_type": "markdown",
   "id": "5f872c56",
   "metadata": {},
   "source": [
    "format_spec ::=  [[fill]align][sign][#][0][width][,][.precision][type]\n",
    "\n",
    "fill        ::=  \n",
    "\n",
    "align       ::=  \"<\" | \">\" | \"=\" | \"^\"\n",
    "\n",
    "sign        ::=  \"+\" | \"-\" | \" \"\n",
    "\n",
    "width       ::=  integer\n",
    "\n",
    "precision   ::=  integer\n",
    "\n",
    "type        ::=  \"b\" | \"c\" | \"d\" | \"e\" | \"E\" | \"f\" | \"F\" | \"g\" | \"G\" | \"n\" | \"o\" | \"s\" | \"x\" | \"X\" | \"%\"\n"
   ]
  },
  {
   "cell_type": "code",
   "execution_count": 91,
   "id": "e2461a99",
   "metadata": {},
   "outputs": [
    {
     "name": "stdout",
     "output_type": "stream",
     "text": [
      "19\n",
      "125.123457\n",
      "1100\n"
     ]
    }
   ],
   "source": [
    "# x, f and b are type\n",
    "\n",
    "# integer\n",
    "print(format(25, \"x\"))\n",
    "\n",
    "# float arguments\n",
    "print(format(125.1234567, \"f\"))\n",
    "\n",
    "# binary format\n",
    "print(format(12, \"b\"))"
   ]
  },
  {
   "cell_type": "markdown",
   "id": "d0f2d28f",
   "metadata": {},
   "source": [
    "### frozenset() function\n",
    "Returns a new forzenset object, optionally with elements taken from iterable"
   ]
  },
  {
   "cell_type": "code",
   "execution_count": 92,
   "id": "b59c11fa",
   "metadata": {},
   "outputs": [
    {
     "name": "stdout",
     "output_type": "stream",
     "text": [
      "frozenset({'banana', 'apple', 'orange', 'mango'})\n"
     ]
    }
   ],
   "source": [
    "froSet = frozenset(('apple', 'orange', 'mango', 'banana'))\n",
    "print(froSet)"
   ]
  },
  {
   "cell_type": "markdown",
   "id": "2f4d1f56",
   "metadata": {},
   "source": [
    "### getattr() function\n",
    "Returns the value of the named attribute of object and name must be a string"
   ]
  },
  {
   "cell_type": "code",
   "execution_count": 93,
   "id": "a8e9e382",
   "metadata": {},
   "outputs": [
    {
     "name": "stdout",
     "output_type": "stream",
     "text": [
      "55\n"
     ]
    },
    {
     "ename": "AttributeError",
     "evalue": "'Example' object has no attribute 'name'",
     "output_type": "error",
     "traceback": [
      "\u001b[0;31m---------------------------------------------------------------------------\u001b[0m",
      "\u001b[0;31mAttributeError\u001b[0m                            Traceback (most recent call last)",
      "\u001b[0;32m<ipython-input-93-b09bafd7f6f4>\u001b[0m in \u001b[0;36m<module>\u001b[0;34m\u001b[0m\n\u001b[1;32m      5\u001b[0m \u001b[0mExample\u001b[0m \u001b[0;34m=\u001b[0m \u001b[0mExample\u001b[0m\u001b[0;34m(\u001b[0m\u001b[0;34m)\u001b[0m\u001b[0;34m\u001b[0m\u001b[0;34m\u001b[0m\u001b[0m\n\u001b[1;32m      6\u001b[0m \u001b[0mprint\u001b[0m\u001b[0;34m(\u001b[0m\u001b[0mgetattr\u001b[0m\u001b[0;34m(\u001b[0m\u001b[0mExample\u001b[0m\u001b[0;34m,\u001b[0m \u001b[0;34m'Age'\u001b[0m\u001b[0;34m)\u001b[0m\u001b[0;34m)\u001b[0m\u001b[0;34m\u001b[0m\u001b[0;34m\u001b[0m\u001b[0m\n\u001b[0;32m----> 7\u001b[0;31m \u001b[0mprint\u001b[0m\u001b[0;34m(\u001b[0m\u001b[0mExample\u001b[0m\u001b[0;34m.\u001b[0m\u001b[0mname\u001b[0m\u001b[0;34m)\u001b[0m\u001b[0;34m\u001b[0m\u001b[0;34m\u001b[0m\u001b[0m\n\u001b[0m",
      "\u001b[0;31mAttributeError\u001b[0m: 'Example' object has no attribute 'name'"
     ]
    }
   ],
   "source": [
    "class Example: \n",
    "    Age = 55\n",
    "    Name = 'Bishop'\n",
    "\n",
    "Example = Example()\n",
    "print(getattr(Example, 'Age'))\n",
    "print(Example.name)"
   ]
  },
  {
   "cell_type": "markdown",
   "id": "a336d56d",
   "metadata": {},
   "source": [
    "### globals() function\n",
    "Returns a dictionary representing the current global symbol table"
   ]
  },
  {
   "cell_type": "code",
   "execution_count": 94,
   "id": "29b2ab00",
   "metadata": {},
   "outputs": [
    {
     "data": {
      "text/plain": [
       "{'__name__': '__main__',\n",
       " '__doc__': 'Automatically created module for IPython interactive environment',\n",
       " '__package__': None,\n",
       " '__loader__': None,\n",
       " '__spec__': None,\n",
       " '__builtin__': <module 'builtins' (built-in)>,\n",
       " '__builtins__': <module 'builtins' (built-in)>,\n",
       " '_ih': ['',\n",
       "  'import os\\nimport pandas\\n\\nos.listdir()\\ndf_csv = pandas.read_csv(\"Built-in_Functions.csv\")\\nprint(df_csv)',\n",
       "  'print(abs(-100))\\nprint(abs(1023))\\nprint(abs(123.25))\\nprint(abs(-2033.66))',\n",
       "  'print(abs(-100))\\nprint(abs(1023))\\nprint(abs(123.25))\\nprint(abs(-2033.66))',\n",
       "  '# all values true\\nnum = [23, 45, 10, 30]\\nprint(all(num)) #True\\n\\n# all values false\\nnum = [0, False]\\nprint(all(num)) #False\\n\\n# one false value\\nnum = [1, 3, 4, 0]\\nprint(all(num)) #False\\n\\n# one true value\\nnum = [0, False, 5]\\nprint(all(num)) #False\\n\\n# empty iterable\\nnum = []\\nprint(all(num)) #True',\n",
       "  'def any (iterable):\\n    for element in iterable: \\n        if element: \\n            return True\\n    return False',\n",
       "  'def any (iterable):\\n    for element in iterable: \\n        if element: \\n            return True\\n    return False\\n\\nstr = \"Hello\"\\nprint(any(str))\\n\\nstr = \\'\\'\\nprint(any(str))',\n",
       "  'def any (iterable):\\n    for element in iterable: \\n        if element: \\n            return True\\n    return False\\n\\nstr = \"Hello\"\\nprint(any(str))\\n\\nstr = \\'\\'\\nprint(any(str))\\n\\nnum = [23, 45, 0, 30]\\nprint(any(num))\\n\\nnum = []\\nprint(any(num))',\n",
       "  'print(ascii(\"你好\"))\\nprint(\\'\\\\u0440\\\\u0443\\\\u0441\\\\u043a\\\\u0438\\\\u0439\\')',\n",
       "  'print(ascii(\"你好\"))\\nprint(\\'\\\\u4f60\\\\u597d\\')',\n",
       "  \"print(ascii('a'))\",\n",
       "  \"print(ascii('A'))\",\n",
       "  \"print(ascii('\\\\u41'))\",\n",
       "  \"print(ascii('\\\\u101'))\",\n",
       "  \"print(ascii('\\\\u6541'))\",\n",
       "  \"print('\\\\u6541')\",\n",
       "  \"print('\\\\x41')\",\n",
       "  \"print('\\\\u0041')\",\n",
       "  \"'''\\nEscape sequences: \\n\\\\x = Hex\\n\\\\u = unicode with 16 bit hex value\\n\\\\U = unicode with 64 bit hex value\\n''''''\",\n",
       "  \"'''\\nEscape sequences: \\n\\\\x = Hex\\n\\\\u = unicode with 16 bit hex value\\n\\\\U = unicode with 64 bit hex value\\n'''\",\n",
       "  \"str = '''\\nEscape sequences: \\n\\\\x = Hex\\n\\\\u = unicode with 16 bit hex value\\n\\\\U = unicode with 64 bit hex value\\n'''\",\n",
       "  'x = 10\\ny = bin(x)\\nprint(x, y)',\n",
       "  '#Convert an integer to binary without using bin() function\\ndef dec_to_bin(n):\\n    binary = \"\" \\n    x = 0\\n    while n > 0 and x<=8: \\n        s1 = str(int(n%2)) \\n        binary = binary + s1 \\n        n /= 2\\n        x = x + 1\\n        result = binary[::-1] \\n    return result \\nprint(dec_to_bin(10))\\nprint(dec_to_bin(8))\\nprint(dec_to_bin(110))',\n",
       "  '#Convert an integer to binary without using bin() function\\ndef dec_to_bin(n):\\n    binary = \"\" \\n    x = 0\\n    while n > 0 and x<=8: \\n        s1 = (\\'%s\\' % int(n % 2))\\n        binary = binary + s1 \\n        n /= 2\\n        x = x + 1\\n        result = binary[::-1] \\n    return result \\nprint(dec_to_bin(10))\\nprint(dec_to_bin(8))\\nprint(dec_to_bin(110))',\n",
       "  'bool() function\\nReturns a boolean value',\n",
       "  'print(bool(True))\\nprint(bool(False))\\nprint(bool(5))\\nprint(bool(0))',\n",
       "  'num = [1, 2, 3, 4, 5]\\na = bytearray(num)\\nprint(a)',\n",
       "  'str = \"Hello World!\"\\nb = bytearray(str, \\'utf-8\\')\\nprint(b)',\n",
       "  \"str = ['H', 'e', 'l', 'l', 'o', 'W', 'o', 'r', 'l', 'd', '!']\\nb = bytearray(str, 'utf-8')\\nprint(b)\",\n",
       "  \"str = ['H', 'e', 'l', 'l', 'o', 'W', 'o', 'r', 'l', 'd', '!']\\nb = bytearray(str)\\nprint(b)\",\n",
       "  'num = [1, 2, 3, 4, 5]\\na = bytes(num)\\nprint(a)',\n",
       "  'num = [100, 34, 23, 30, 77]\\na = bytes(num)\\nprint(a)',\n",
       "  'num = [0, 200, 50, 25, 10, 255]\\na = bytes(num)\\nprint(a)',\n",
       "  'num = [1, 2, 3, 4, 5]\\na = bytes(num)\\nprint(a)',\n",
       "  'num = [0, 200, 50, 25, 10, 255]\\na = bytes(num)\\nprint(a)',\n",
       "  'num = [0, 1, 2, 3, 4, 5]\\na = bytes(num)\\nprint(a)',\n",
       "  \"num = ['0', '1', '2', '3', '4', '5']\\na = bytes(num)\\nprint(a)\",\n",
       "  'num = [1, 2, 3, 4, 5]\\na = bytes(num)\\nprint(a)',\n",
       "  'str = \"Hello World!\"\\na = bytes(str)\\nprint(a)',\n",
       "  'str = \"Hello World!\"\\na = bytes(str, \\'utf-8\\')\\nprint(a)',\n",
       "  \"def testFunction ():\\n    print('Test')\\n\\nprint(callable(10))\\nprint(callable(testFunction)\",\n",
       "  \"def testFunction ():\\n    print('Test')\\n\\nprint(callable(10))\\nprint(callable(testFunction))\",\n",
       "  \"class foo:\\n    def __cal__ (self):\\n        print('Hello World!')\\n\\ndef testFunction ():\\n    print('Test')\\n\\nprint(callable(10))\\nprint(callable(testFunction))\\nprint(callable(Foo))\",\n",
       "  \"class foo:\\n    def __cal__ (self):\\n        print('Hello World!')\\n\\ndef testFunction ():\\n    print('Test')\\n\\nprint(callable(10))\\nprint(callable(testFunction))\\nprint(callable(foo))\",\n",
       "  'print(chr(65))\\nprint(chr(97))\\nprint(chr(124))',\n",
       "  'class Student:\\n      \\n    name = \"Geeksforgeeks\"\\n      \\n    def print_name(obj):\\n        print(\"The name is : \", obj.name)\\n\\nStudent.print_name = classmethod(Student.print_name)\\nStudent.print_name()',\n",
       "  '#compile(source, filename, mode, flags=0, dont_inherit=False, optimize=-1)\\n\\ncodeInString = \\'x = 8\\\\ny=5\\\\nsum=x+y\\\\nprint(\"sum =\",sum)\\'\\ncodeObejct = compile(codeInString, \\'sumstring\\', \\'exec\\')\\nexec(codeObejct)',\n",
       "  '#compile(source, filename, mode, flags=0, dont_inherit=False, optimize=-1)\\n\\ncodeInString = \\'x = 8\\\\ny=5\\\\nsum=x+y\\\\nprint(\"sum =\",sum)\\'\\ncodeObejct = compile(codeInString, \\'sumstring\\', \\'execute\\')\\nexec(codeObejct)',\n",
       "  '#compile(source, filename, mode, flags=0, dont_inherit=False, optimize=-1)\\n\\ncodeInString = \\'x = 8\\\\ny=5\\\\nsum=x+y\\\\nprint(\"sum =\",sum)\\'\\ncodeObejct = compile(codeInString, \\'sumstring\\', \\'exec\\')\\neval(codeObejct)',\n",
       "  '#compile(source, filename, mode, flags=0, dont_inherit=False, optimize=-1)\\n\\ncodeInString = \\'x = 8\\\\ny=5\\\\nsum=x+y\\\\nprint(\"sum =\",sum)\\'\\ncodeObejct = compile(codeInString, \\'sumstring\\', \\'eval\\')\\neval(codeObejct)',\n",
       "  '#compile(source, filename, mode, flags=0, dont_inherit=False, optimize=-1)\\n\\ncodeInString = \\'x = 8\\\\ny=5\\\\nsum=x+y\\\\nprint(\"sum =\",sum)\\'\\ncodeObejct = compile(codeInString, \\'sumstring\\', \\'exec\\')\\nexec(codeObejct)',\n",
       "  \"print(complex(3, -5))\\nprint(complex(1))\\nprint(complex())\\nprint(complex('6-7j'))\",\n",
       "  \"class Rollnums: \\n    a = 15\\n    b = -7\\n    c = 0\\n\\nrno = Rollnums()\\n\\nprint(rno.a)\\nprint(rno.b)\\nprint(rno.c)\\n\\ndelattr(Rollnums, 'c')\\nprint(rno.a)\\nprint(rno.b)\",\n",
       "  \"class Rollnums: \\n    a = 15\\n    b = -7\\n    c = 0\\n\\nrno = Rollnums()\\n\\nprint(rno.a)\\nprint(rno.b)\\nprint(rno.c)\\n\\ndelattr(Rollnums, 'c')\\nprint(rno.a)\\nprint(rno.b)\\nprint(rno.c)\",\n",
       "  \"class Rollnums: \\n    a = 15\\n    b = -7\\n    c = 0\\n\\nrno = Rollnums()\\n\\nprint(rno.a)\\nprint(rno.b)\\nprint(rno.c)\\n\\ndelattr(Rollnums, 'c')\\nprint(rno.a)\\nprint(rno.b)\\nprint(rno.c) #gives an error b/c attribute was deleted\",\n",
       "  \"num = dict(a=10, b=0)\\nprint('num = ',num)\\nprint(type(num))\\n\\nempty = dict()\\nprint('empty = ',empty)\\nprint(type(empty))\",\n",
       "  \"num1 = dict([('a', 3), ('b', -3)])\\nprint('num1 =',num1)\\n\\nnum2 = dict([('a', 3), ('b', -3)], c=5)\\nprint('num2 =',num2)\\n\\n# zip() creates an iterable in Python 3\\nnum3 = dict(dict(zip(['a', 'b', 'c'], [2, 3, 4])))\\nprint('num3 =',num3)\",\n",
       "  \"num1 = dict({'a': 3, 'b': 4})\\nprint('num1 =',num1)\\n\\nnum2 = {'a': 5, 'b': 6}\\nprint('num2 =',num2)\\n\\nnum3 = dict({'a': 7, 'b': 8}, c=9)\\nprint('num3 =',num3)\",\n",
       "  'import struct\\ndir()',\n",
       "  'import struct\\ndir(struct)',\n",
       "  'print(divmod(9, 2))',\n",
       "  \"#enumerate(iterable, start = 0)\\nlist(enumerate(['Spring', 'Summer', 'Fall', 'Winter']))\",\n",
       "  \"#enumerate(iterable, start = 0)\\nlist(enumerate(['Spring', 'Summer', 'Fall', 'Winter']))\\nlist(enumerate(['Spring', 'Summer', 'Fall', 'Winter'], 1))\",\n",
       "  \"#enumerate(iterable, start = 0)\\nprint(list(enumerate(['Spring', 'Summer', 'Fall', 'Winter'])))\\nprint(list(enumerate(['Spring', 'Summer', 'Fall', 'Winter'], 1)))\",\n",
       "  \"x = 5\\nprint(eval('x+1'))\\nprint(eval('x'))\",\n",
       "  \"from math import *\\nprint(eval('dir()', {}))\\n\\n#Following code will raise an exception\\nprint(eval('sqrt(36)', {}))\",\n",
       "  \"x = 5\\nprint(exec('x'))\",\n",
       "  \"x = 's = 26 \\\\nsqrt(s)'\\nprint(exec('x'))\",\n",
       "  \"x = 's = 26 \\\\nprint(sqrt(s))'\\nprint(exec('x'))\",\n",
       "  \"x = 's = 36 \\\\nprint(sqrt(s))'\\nprint(exec('x'))\",\n",
       "  \"x = 's = 36 \\\\nprint(sqrt(s))'\\nexec('x')\",\n",
       "  \"x = 's = 36 \\\\nprint(sqrt(s))'\\nexec('x')\",\n",
       "  \"x = 's = 36 \\\\nprint(s + 36)'\\nexec('x')\",\n",
       "  \"x = 's=36\\\\nprint(s + 36)'\\nexec('x')\",\n",
       "  \"Example = 'x = 6\\\\ny = 15\\\\nprint('Sum =', x+y)'\\nexec('x')\",\n",
       "  \"Example = 'x = 6\\\\ny = 15\\\\nprint(\\\\'Sum =\\\\', x+y)'\\nexec('x')\",\n",
       "  \"Example = 'x = 6\\\\ny = 15\\\\nprint(\\\\'Sum =\\\\', x+y)'\\nprint(exec('x'))\",\n",
       "  'program = \\'a = 5\\\\nb=10\\\\nprint(\"Sum =\", a+b)\\'\\nexec(program)',\n",
       "  'program = \\'a = 5\\\\nb=10\\\\nprint(\"Sum =\", a+b)\\'\\nexec(program)',\n",
       "  \"Example = 'x = 6\\\\ny = 15\\\\nprint(\\\\'Sum =\\\\', x+y)'\\nprint(exec('x'))\",\n",
       "  'Example = \"x = 6\\\\ny = 15\\\\nprint(\\'Sum =\\', x+y)\"\\nprint(exec(\\'x\\'))',\n",
       "  'Example = \"x = 6\\\\ny = 15\\\\nprint(\\'Sum =\\', x+y)\"\\nexec(x)',\n",
       "  \"x = 's = 36\\\\nprint(sqrt(s))'\\nexec(x)\",\n",
       "  \"str = 'abcdefghijklmnopqrstuvwxyz'\\ntples = tuple(str)\",\n",
       "  \"str = 'abcdefghijklmnopqrstuvwxyz'\\ntples = tuple(str)\\ntples\",\n",
       "  \"str = 'abcdefghijklmnopqrstuvwxyz'\\ntples = list(str)\\ntples\",\n",
       "  \"str = 'abcdefghijklmnopqrstuvwxyz'\\nlsts = list(str)\\ntples\",\n",
       "  \"str = 'abcdefghijklmnopqrstuvwxyz'\\nlsts = list(str)\\n\\ndef filter_non_vowels(letters):\\n    vowels = ['a', 'e', 'i', 'o', 'u']\\n    \\n    if(letters in vowels):\\n        return False\\n    else: \\n        return True\\n\\nfilter_non_vowels = filter(filter_non_vowels, letters)\\n\\nprint('The filtered non-vowels include:')\\nfor non_vowel in filter_non_vowels:\\n    print(non_vowel)\",\n",
       "  \"str = 'abcdefghijklmnopqrstuvwxyz'\\nlsts = list(str)\\n\\ndef filter_non_vowels(letters):\\n    vowels = ['a', 'e', 'i', 'o', 'u']\\n    \\n    if(letters in vowels):\\n        return False\\n    else: \\n        return True\\n\\nnon_vowels = filter(filter_non_vowels, letters)\\n\\nprint('The filtered non-vowels include:')\\nfor non_vowel in non_vowels:\\n    print(non_vowel)\",\n",
       "  \"str = 'abcdefghijklmnopqrstuvwxyz'\\nlsts = list(str)\\n\\ndef filter_non_vowels(letters):\\n    vowels = ['a', 'e', 'i', 'o', 'u']\\n    \\n    if(letters in vowels):\\n        return False\\n    else: \\n        return True\\n\\nnon_vowels = filter(filter_non_vowels, lsts)\\n\\nprint('The filtered non-vowels include:')\\nfor non_vowel in non_vowels:\\n    print(non_vowel)\",\n",
       "  '# for floats\\nprint(float(2.25))\\n# for string floats with whitespaces\\nprint(float(\"       -12345\\\\n\"))\\n# for string floats\\nprint(float(\"-15.55\"))\\nprint(float(\"1e-005\"))\\nprint(float(\"+1E7\"))\\nprint(float(\"-Infinity\"))',\n",
       "  '# x, f and b are type\\n\\n# integer\\nprint(format(25, \"x\"))\\n\\n# float arguments\\nprint(format(125.1234567, \"f\"))\\n\\n# binary format\\nprint(format(12, \"b\"))',\n",
       "  \"froSet = frozenset(('apple', 'orange', 'mango', 'banana'))\\nprint(froSet)\",\n",
       "  \"class Example: \\n    Age = 55\\n    Name = 'Bishop'\\n\\nExample = Example()\\nprint(getattr(Example, 'Age'))\\nprint(Example.name)\",\n",
       "  'globals()'],\n",
       " '_oh': {58: ['In',\n",
       "   'Out',\n",
       "   'Rollnums',\n",
       "   'Student',\n",
       "   '_',\n",
       "   '__',\n",
       "   '___',\n",
       "   '__builtin__',\n",
       "   '__builtins__',\n",
       "   '__doc__',\n",
       "   '__loader__',\n",
       "   '__name__',\n",
       "   '__package__',\n",
       "   '__spec__',\n",
       "   '_dh',\n",
       "   '_i',\n",
       "   '_i1',\n",
       "   '_i10',\n",
       "   '_i11',\n",
       "   '_i12',\n",
       "   '_i13',\n",
       "   '_i14',\n",
       "   '_i15',\n",
       "   '_i16',\n",
       "   '_i17',\n",
       "   '_i18',\n",
       "   '_i19',\n",
       "   '_i2',\n",
       "   '_i20',\n",
       "   '_i21',\n",
       "   '_i22',\n",
       "   '_i23',\n",
       "   '_i24',\n",
       "   '_i25',\n",
       "   '_i26',\n",
       "   '_i27',\n",
       "   '_i28',\n",
       "   '_i29',\n",
       "   '_i3',\n",
       "   '_i30',\n",
       "   '_i31',\n",
       "   '_i32',\n",
       "   '_i33',\n",
       "   '_i34',\n",
       "   '_i35',\n",
       "   '_i36',\n",
       "   '_i37',\n",
       "   '_i38',\n",
       "   '_i39',\n",
       "   '_i4',\n",
       "   '_i40',\n",
       "   '_i41',\n",
       "   '_i42',\n",
       "   '_i43',\n",
       "   '_i44',\n",
       "   '_i45',\n",
       "   '_i46',\n",
       "   '_i47',\n",
       "   '_i48',\n",
       "   '_i49',\n",
       "   '_i5',\n",
       "   '_i50',\n",
       "   '_i51',\n",
       "   '_i52',\n",
       "   '_i53',\n",
       "   '_i54',\n",
       "   '_i55',\n",
       "   '_i56',\n",
       "   '_i57',\n",
       "   '_i58',\n",
       "   '_i6',\n",
       "   '_i7',\n",
       "   '_i8',\n",
       "   '_i9',\n",
       "   '_ih',\n",
       "   '_ii',\n",
       "   '_iii',\n",
       "   '_oh',\n",
       "   'a',\n",
       "   'any',\n",
       "   'b',\n",
       "   'codeInString',\n",
       "   'codeObejct',\n",
       "   'dec_to_bin',\n",
       "   'df_csv',\n",
       "   'empty',\n",
       "   'exit',\n",
       "   'foo',\n",
       "   'get_ipython',\n",
       "   'num',\n",
       "   'num1',\n",
       "   'num2',\n",
       "   'num3',\n",
       "   'os',\n",
       "   'pandas',\n",
       "   'quit',\n",
       "   'rno',\n",
       "   'str',\n",
       "   'struct',\n",
       "   'sum',\n",
       "   'testFunction',\n",
       "   'x',\n",
       "   'y'],\n",
       "  59: ['Struct',\n",
       "   '__all__',\n",
       "   '__builtins__',\n",
       "   '__cached__',\n",
       "   '__doc__',\n",
       "   '__file__',\n",
       "   '__loader__',\n",
       "   '__name__',\n",
       "   '__package__',\n",
       "   '__spec__',\n",
       "   '_clearcache',\n",
       "   'calcsize',\n",
       "   'error',\n",
       "   'iter_unpack',\n",
       "   'pack',\n",
       "   'pack_into',\n",
       "   'unpack',\n",
       "   'unpack_from'],\n",
       "  61: [(0, 'Spring'), (1, 'Summer'), (2, 'Fall'), (3, 'Winter')],\n",
       "  62: [(1, 'Spring'), (2, 'Summer'), (3, 'Fall'), (4, 'Winter')],\n",
       "  84: ('a',\n",
       "   'b',\n",
       "   'c',\n",
       "   'd',\n",
       "   'e',\n",
       "   'f',\n",
       "   'g',\n",
       "   'h',\n",
       "   'i',\n",
       "   'j',\n",
       "   'k',\n",
       "   'l',\n",
       "   'm',\n",
       "   'n',\n",
       "   'o',\n",
       "   'p',\n",
       "   'q',\n",
       "   'r',\n",
       "   's',\n",
       "   't',\n",
       "   'u',\n",
       "   'v',\n",
       "   'w',\n",
       "   'x',\n",
       "   'y',\n",
       "   'z'),\n",
       "  85: ['a',\n",
       "   'b',\n",
       "   'c',\n",
       "   'd',\n",
       "   'e',\n",
       "   'f',\n",
       "   'g',\n",
       "   'h',\n",
       "   'i',\n",
       "   'j',\n",
       "   'k',\n",
       "   'l',\n",
       "   'm',\n",
       "   'n',\n",
       "   'o',\n",
       "   'p',\n",
       "   'q',\n",
       "   'r',\n",
       "   's',\n",
       "   't',\n",
       "   'u',\n",
       "   'v',\n",
       "   'w',\n",
       "   'x',\n",
       "   'y',\n",
       "   'z'],\n",
       "  86: ['a',\n",
       "   'b',\n",
       "   'c',\n",
       "   'd',\n",
       "   'e',\n",
       "   'f',\n",
       "   'g',\n",
       "   'h',\n",
       "   'i',\n",
       "   'j',\n",
       "   'k',\n",
       "   'l',\n",
       "   'm',\n",
       "   'n',\n",
       "   'o',\n",
       "   'p',\n",
       "   'q',\n",
       "   'r',\n",
       "   's',\n",
       "   't',\n",
       "   'u',\n",
       "   'v',\n",
       "   'w',\n",
       "   'x',\n",
       "   'y',\n",
       "   'z']},\n",
       " '_dh': ['/Users/henrylin/Project/Python_Practice/Built-in Functions'],\n",
       " 'In': ['',\n",
       "  'import os\\nimport pandas\\n\\nos.listdir()\\ndf_csv = pandas.read_csv(\"Built-in_Functions.csv\")\\nprint(df_csv)',\n",
       "  'print(abs(-100))\\nprint(abs(1023))\\nprint(abs(123.25))\\nprint(abs(-2033.66))',\n",
       "  'print(abs(-100))\\nprint(abs(1023))\\nprint(abs(123.25))\\nprint(abs(-2033.66))',\n",
       "  '# all values true\\nnum = [23, 45, 10, 30]\\nprint(all(num)) #True\\n\\n# all values false\\nnum = [0, False]\\nprint(all(num)) #False\\n\\n# one false value\\nnum = [1, 3, 4, 0]\\nprint(all(num)) #False\\n\\n# one true value\\nnum = [0, False, 5]\\nprint(all(num)) #False\\n\\n# empty iterable\\nnum = []\\nprint(all(num)) #True',\n",
       "  'def any (iterable):\\n    for element in iterable: \\n        if element: \\n            return True\\n    return False',\n",
       "  'def any (iterable):\\n    for element in iterable: \\n        if element: \\n            return True\\n    return False\\n\\nstr = \"Hello\"\\nprint(any(str))\\n\\nstr = \\'\\'\\nprint(any(str))',\n",
       "  'def any (iterable):\\n    for element in iterable: \\n        if element: \\n            return True\\n    return False\\n\\nstr = \"Hello\"\\nprint(any(str))\\n\\nstr = \\'\\'\\nprint(any(str))\\n\\nnum = [23, 45, 0, 30]\\nprint(any(num))\\n\\nnum = []\\nprint(any(num))',\n",
       "  'print(ascii(\"你好\"))\\nprint(\\'\\\\u0440\\\\u0443\\\\u0441\\\\u043a\\\\u0438\\\\u0439\\')',\n",
       "  'print(ascii(\"你好\"))\\nprint(\\'\\\\u4f60\\\\u597d\\')',\n",
       "  \"print(ascii('a'))\",\n",
       "  \"print(ascii('A'))\",\n",
       "  \"print(ascii('\\\\u41'))\",\n",
       "  \"print(ascii('\\\\u101'))\",\n",
       "  \"print(ascii('\\\\u6541'))\",\n",
       "  \"print('\\\\u6541')\",\n",
       "  \"print('\\\\x41')\",\n",
       "  \"print('\\\\u0041')\",\n",
       "  \"'''\\nEscape sequences: \\n\\\\x = Hex\\n\\\\u = unicode with 16 bit hex value\\n\\\\U = unicode with 64 bit hex value\\n''''''\",\n",
       "  \"'''\\nEscape sequences: \\n\\\\x = Hex\\n\\\\u = unicode with 16 bit hex value\\n\\\\U = unicode with 64 bit hex value\\n'''\",\n",
       "  \"str = '''\\nEscape sequences: \\n\\\\x = Hex\\n\\\\u = unicode with 16 bit hex value\\n\\\\U = unicode with 64 bit hex value\\n'''\",\n",
       "  'x = 10\\ny = bin(x)\\nprint(x, y)',\n",
       "  '#Convert an integer to binary without using bin() function\\ndef dec_to_bin(n):\\n    binary = \"\" \\n    x = 0\\n    while n > 0 and x<=8: \\n        s1 = str(int(n%2)) \\n        binary = binary + s1 \\n        n /= 2\\n        x = x + 1\\n        result = binary[::-1] \\n    return result \\nprint(dec_to_bin(10))\\nprint(dec_to_bin(8))\\nprint(dec_to_bin(110))',\n",
       "  '#Convert an integer to binary without using bin() function\\ndef dec_to_bin(n):\\n    binary = \"\" \\n    x = 0\\n    while n > 0 and x<=8: \\n        s1 = (\\'%s\\' % int(n % 2))\\n        binary = binary + s1 \\n        n /= 2\\n        x = x + 1\\n        result = binary[::-1] \\n    return result \\nprint(dec_to_bin(10))\\nprint(dec_to_bin(8))\\nprint(dec_to_bin(110))',\n",
       "  'bool() function\\nReturns a boolean value',\n",
       "  'print(bool(True))\\nprint(bool(False))\\nprint(bool(5))\\nprint(bool(0))',\n",
       "  'num = [1, 2, 3, 4, 5]\\na = bytearray(num)\\nprint(a)',\n",
       "  'str = \"Hello World!\"\\nb = bytearray(str, \\'utf-8\\')\\nprint(b)',\n",
       "  \"str = ['H', 'e', 'l', 'l', 'o', 'W', 'o', 'r', 'l', 'd', '!']\\nb = bytearray(str, 'utf-8')\\nprint(b)\",\n",
       "  \"str = ['H', 'e', 'l', 'l', 'o', 'W', 'o', 'r', 'l', 'd', '!']\\nb = bytearray(str)\\nprint(b)\",\n",
       "  'num = [1, 2, 3, 4, 5]\\na = bytes(num)\\nprint(a)',\n",
       "  'num = [100, 34, 23, 30, 77]\\na = bytes(num)\\nprint(a)',\n",
       "  'num = [0, 200, 50, 25, 10, 255]\\na = bytes(num)\\nprint(a)',\n",
       "  'num = [1, 2, 3, 4, 5]\\na = bytes(num)\\nprint(a)',\n",
       "  'num = [0, 200, 50, 25, 10, 255]\\na = bytes(num)\\nprint(a)',\n",
       "  'num = [0, 1, 2, 3, 4, 5]\\na = bytes(num)\\nprint(a)',\n",
       "  \"num = ['0', '1', '2', '3', '4', '5']\\na = bytes(num)\\nprint(a)\",\n",
       "  'num = [1, 2, 3, 4, 5]\\na = bytes(num)\\nprint(a)',\n",
       "  'str = \"Hello World!\"\\na = bytes(str)\\nprint(a)',\n",
       "  'str = \"Hello World!\"\\na = bytes(str, \\'utf-8\\')\\nprint(a)',\n",
       "  \"def testFunction ():\\n    print('Test')\\n\\nprint(callable(10))\\nprint(callable(testFunction)\",\n",
       "  \"def testFunction ():\\n    print('Test')\\n\\nprint(callable(10))\\nprint(callable(testFunction))\",\n",
       "  \"class foo:\\n    def __cal__ (self):\\n        print('Hello World!')\\n\\ndef testFunction ():\\n    print('Test')\\n\\nprint(callable(10))\\nprint(callable(testFunction))\\nprint(callable(Foo))\",\n",
       "  \"class foo:\\n    def __cal__ (self):\\n        print('Hello World!')\\n\\ndef testFunction ():\\n    print('Test')\\n\\nprint(callable(10))\\nprint(callable(testFunction))\\nprint(callable(foo))\",\n",
       "  'print(chr(65))\\nprint(chr(97))\\nprint(chr(124))',\n",
       "  'class Student:\\n      \\n    name = \"Geeksforgeeks\"\\n      \\n    def print_name(obj):\\n        print(\"The name is : \", obj.name)\\n\\nStudent.print_name = classmethod(Student.print_name)\\nStudent.print_name()',\n",
       "  '#compile(source, filename, mode, flags=0, dont_inherit=False, optimize=-1)\\n\\ncodeInString = \\'x = 8\\\\ny=5\\\\nsum=x+y\\\\nprint(\"sum =\",sum)\\'\\ncodeObejct = compile(codeInString, \\'sumstring\\', \\'exec\\')\\nexec(codeObejct)',\n",
       "  '#compile(source, filename, mode, flags=0, dont_inherit=False, optimize=-1)\\n\\ncodeInString = \\'x = 8\\\\ny=5\\\\nsum=x+y\\\\nprint(\"sum =\",sum)\\'\\ncodeObejct = compile(codeInString, \\'sumstring\\', \\'execute\\')\\nexec(codeObejct)',\n",
       "  '#compile(source, filename, mode, flags=0, dont_inherit=False, optimize=-1)\\n\\ncodeInString = \\'x = 8\\\\ny=5\\\\nsum=x+y\\\\nprint(\"sum =\",sum)\\'\\ncodeObejct = compile(codeInString, \\'sumstring\\', \\'exec\\')\\neval(codeObejct)',\n",
       "  '#compile(source, filename, mode, flags=0, dont_inherit=False, optimize=-1)\\n\\ncodeInString = \\'x = 8\\\\ny=5\\\\nsum=x+y\\\\nprint(\"sum =\",sum)\\'\\ncodeObejct = compile(codeInString, \\'sumstring\\', \\'eval\\')\\neval(codeObejct)',\n",
       "  '#compile(source, filename, mode, flags=0, dont_inherit=False, optimize=-1)\\n\\ncodeInString = \\'x = 8\\\\ny=5\\\\nsum=x+y\\\\nprint(\"sum =\",sum)\\'\\ncodeObejct = compile(codeInString, \\'sumstring\\', \\'exec\\')\\nexec(codeObejct)',\n",
       "  \"print(complex(3, -5))\\nprint(complex(1))\\nprint(complex())\\nprint(complex('6-7j'))\",\n",
       "  \"class Rollnums: \\n    a = 15\\n    b = -7\\n    c = 0\\n\\nrno = Rollnums()\\n\\nprint(rno.a)\\nprint(rno.b)\\nprint(rno.c)\\n\\ndelattr(Rollnums, 'c')\\nprint(rno.a)\\nprint(rno.b)\",\n",
       "  \"class Rollnums: \\n    a = 15\\n    b = -7\\n    c = 0\\n\\nrno = Rollnums()\\n\\nprint(rno.a)\\nprint(rno.b)\\nprint(rno.c)\\n\\ndelattr(Rollnums, 'c')\\nprint(rno.a)\\nprint(rno.b)\\nprint(rno.c)\",\n",
       "  \"class Rollnums: \\n    a = 15\\n    b = -7\\n    c = 0\\n\\nrno = Rollnums()\\n\\nprint(rno.a)\\nprint(rno.b)\\nprint(rno.c)\\n\\ndelattr(Rollnums, 'c')\\nprint(rno.a)\\nprint(rno.b)\\nprint(rno.c) #gives an error b/c attribute was deleted\",\n",
       "  \"num = dict(a=10, b=0)\\nprint('num = ',num)\\nprint(type(num))\\n\\nempty = dict()\\nprint('empty = ',empty)\\nprint(type(empty))\",\n",
       "  \"num1 = dict([('a', 3), ('b', -3)])\\nprint('num1 =',num1)\\n\\nnum2 = dict([('a', 3), ('b', -3)], c=5)\\nprint('num2 =',num2)\\n\\n# zip() creates an iterable in Python 3\\nnum3 = dict(dict(zip(['a', 'b', 'c'], [2, 3, 4])))\\nprint('num3 =',num3)\",\n",
       "  \"num1 = dict({'a': 3, 'b': 4})\\nprint('num1 =',num1)\\n\\nnum2 = {'a': 5, 'b': 6}\\nprint('num2 =',num2)\\n\\nnum3 = dict({'a': 7, 'b': 8}, c=9)\\nprint('num3 =',num3)\",\n",
       "  'import struct\\ndir()',\n",
       "  'import struct\\ndir(struct)',\n",
       "  'print(divmod(9, 2))',\n",
       "  \"#enumerate(iterable, start = 0)\\nlist(enumerate(['Spring', 'Summer', 'Fall', 'Winter']))\",\n",
       "  \"#enumerate(iterable, start = 0)\\nlist(enumerate(['Spring', 'Summer', 'Fall', 'Winter']))\\nlist(enumerate(['Spring', 'Summer', 'Fall', 'Winter'], 1))\",\n",
       "  \"#enumerate(iterable, start = 0)\\nprint(list(enumerate(['Spring', 'Summer', 'Fall', 'Winter'])))\\nprint(list(enumerate(['Spring', 'Summer', 'Fall', 'Winter'], 1)))\",\n",
       "  \"x = 5\\nprint(eval('x+1'))\\nprint(eval('x'))\",\n",
       "  \"from math import *\\nprint(eval('dir()', {}))\\n\\n#Following code will raise an exception\\nprint(eval('sqrt(36)', {}))\",\n",
       "  \"x = 5\\nprint(exec('x'))\",\n",
       "  \"x = 's = 26 \\\\nsqrt(s)'\\nprint(exec('x'))\",\n",
       "  \"x = 's = 26 \\\\nprint(sqrt(s))'\\nprint(exec('x'))\",\n",
       "  \"x = 's = 36 \\\\nprint(sqrt(s))'\\nprint(exec('x'))\",\n",
       "  \"x = 's = 36 \\\\nprint(sqrt(s))'\\nexec('x')\",\n",
       "  \"x = 's = 36 \\\\nprint(sqrt(s))'\\nexec('x')\",\n",
       "  \"x = 's = 36 \\\\nprint(s + 36)'\\nexec('x')\",\n",
       "  \"x = 's=36\\\\nprint(s + 36)'\\nexec('x')\",\n",
       "  \"Example = 'x = 6\\\\ny = 15\\\\nprint('Sum =', x+y)'\\nexec('x')\",\n",
       "  \"Example = 'x = 6\\\\ny = 15\\\\nprint(\\\\'Sum =\\\\', x+y)'\\nexec('x')\",\n",
       "  \"Example = 'x = 6\\\\ny = 15\\\\nprint(\\\\'Sum =\\\\', x+y)'\\nprint(exec('x'))\",\n",
       "  'program = \\'a = 5\\\\nb=10\\\\nprint(\"Sum =\", a+b)\\'\\nexec(program)',\n",
       "  'program = \\'a = 5\\\\nb=10\\\\nprint(\"Sum =\", a+b)\\'\\nexec(program)',\n",
       "  \"Example = 'x = 6\\\\ny = 15\\\\nprint(\\\\'Sum =\\\\', x+y)'\\nprint(exec('x'))\",\n",
       "  'Example = \"x = 6\\\\ny = 15\\\\nprint(\\'Sum =\\', x+y)\"\\nprint(exec(\\'x\\'))',\n",
       "  'Example = \"x = 6\\\\ny = 15\\\\nprint(\\'Sum =\\', x+y)\"\\nexec(x)',\n",
       "  \"x = 's = 36\\\\nprint(sqrt(s))'\\nexec(x)\",\n",
       "  \"str = 'abcdefghijklmnopqrstuvwxyz'\\ntples = tuple(str)\",\n",
       "  \"str = 'abcdefghijklmnopqrstuvwxyz'\\ntples = tuple(str)\\ntples\",\n",
       "  \"str = 'abcdefghijklmnopqrstuvwxyz'\\ntples = list(str)\\ntples\",\n",
       "  \"str = 'abcdefghijklmnopqrstuvwxyz'\\nlsts = list(str)\\ntples\",\n",
       "  \"str = 'abcdefghijklmnopqrstuvwxyz'\\nlsts = list(str)\\n\\ndef filter_non_vowels(letters):\\n    vowels = ['a', 'e', 'i', 'o', 'u']\\n    \\n    if(letters in vowels):\\n        return False\\n    else: \\n        return True\\n\\nfilter_non_vowels = filter(filter_non_vowels, letters)\\n\\nprint('The filtered non-vowels include:')\\nfor non_vowel in filter_non_vowels:\\n    print(non_vowel)\",\n",
       "  \"str = 'abcdefghijklmnopqrstuvwxyz'\\nlsts = list(str)\\n\\ndef filter_non_vowels(letters):\\n    vowels = ['a', 'e', 'i', 'o', 'u']\\n    \\n    if(letters in vowels):\\n        return False\\n    else: \\n        return True\\n\\nnon_vowels = filter(filter_non_vowels, letters)\\n\\nprint('The filtered non-vowels include:')\\nfor non_vowel in non_vowels:\\n    print(non_vowel)\",\n",
       "  \"str = 'abcdefghijklmnopqrstuvwxyz'\\nlsts = list(str)\\n\\ndef filter_non_vowels(letters):\\n    vowels = ['a', 'e', 'i', 'o', 'u']\\n    \\n    if(letters in vowels):\\n        return False\\n    else: \\n        return True\\n\\nnon_vowels = filter(filter_non_vowels, lsts)\\n\\nprint('The filtered non-vowels include:')\\nfor non_vowel in non_vowels:\\n    print(non_vowel)\",\n",
       "  '# for floats\\nprint(float(2.25))\\n# for string floats with whitespaces\\nprint(float(\"       -12345\\\\n\"))\\n# for string floats\\nprint(float(\"-15.55\"))\\nprint(float(\"1e-005\"))\\nprint(float(\"+1E7\"))\\nprint(float(\"-Infinity\"))',\n",
       "  '# x, f and b are type\\n\\n# integer\\nprint(format(25, \"x\"))\\n\\n# float arguments\\nprint(format(125.1234567, \"f\"))\\n\\n# binary format\\nprint(format(12, \"b\"))',\n",
       "  \"froSet = frozenset(('apple', 'orange', 'mango', 'banana'))\\nprint(froSet)\",\n",
       "  \"class Example: \\n    Age = 55\\n    Name = 'Bishop'\\n\\nExample = Example()\\nprint(getattr(Example, 'Age'))\\nprint(Example.name)\",\n",
       "  'globals()'],\n",
       " 'Out': {58: ['In',\n",
       "   'Out',\n",
       "   'Rollnums',\n",
       "   'Student',\n",
       "   '_',\n",
       "   '__',\n",
       "   '___',\n",
       "   '__builtin__',\n",
       "   '__builtins__',\n",
       "   '__doc__',\n",
       "   '__loader__',\n",
       "   '__name__',\n",
       "   '__package__',\n",
       "   '__spec__',\n",
       "   '_dh',\n",
       "   '_i',\n",
       "   '_i1',\n",
       "   '_i10',\n",
       "   '_i11',\n",
       "   '_i12',\n",
       "   '_i13',\n",
       "   '_i14',\n",
       "   '_i15',\n",
       "   '_i16',\n",
       "   '_i17',\n",
       "   '_i18',\n",
       "   '_i19',\n",
       "   '_i2',\n",
       "   '_i20',\n",
       "   '_i21',\n",
       "   '_i22',\n",
       "   '_i23',\n",
       "   '_i24',\n",
       "   '_i25',\n",
       "   '_i26',\n",
       "   '_i27',\n",
       "   '_i28',\n",
       "   '_i29',\n",
       "   '_i3',\n",
       "   '_i30',\n",
       "   '_i31',\n",
       "   '_i32',\n",
       "   '_i33',\n",
       "   '_i34',\n",
       "   '_i35',\n",
       "   '_i36',\n",
       "   '_i37',\n",
       "   '_i38',\n",
       "   '_i39',\n",
       "   '_i4',\n",
       "   '_i40',\n",
       "   '_i41',\n",
       "   '_i42',\n",
       "   '_i43',\n",
       "   '_i44',\n",
       "   '_i45',\n",
       "   '_i46',\n",
       "   '_i47',\n",
       "   '_i48',\n",
       "   '_i49',\n",
       "   '_i5',\n",
       "   '_i50',\n",
       "   '_i51',\n",
       "   '_i52',\n",
       "   '_i53',\n",
       "   '_i54',\n",
       "   '_i55',\n",
       "   '_i56',\n",
       "   '_i57',\n",
       "   '_i58',\n",
       "   '_i6',\n",
       "   '_i7',\n",
       "   '_i8',\n",
       "   '_i9',\n",
       "   '_ih',\n",
       "   '_ii',\n",
       "   '_iii',\n",
       "   '_oh',\n",
       "   'a',\n",
       "   'any',\n",
       "   'b',\n",
       "   'codeInString',\n",
       "   'codeObejct',\n",
       "   'dec_to_bin',\n",
       "   'df_csv',\n",
       "   'empty',\n",
       "   'exit',\n",
       "   'foo',\n",
       "   'get_ipython',\n",
       "   'num',\n",
       "   'num1',\n",
       "   'num2',\n",
       "   'num3',\n",
       "   'os',\n",
       "   'pandas',\n",
       "   'quit',\n",
       "   'rno',\n",
       "   'str',\n",
       "   'struct',\n",
       "   'sum',\n",
       "   'testFunction',\n",
       "   'x',\n",
       "   'y'],\n",
       "  59: ['Struct',\n",
       "   '__all__',\n",
       "   '__builtins__',\n",
       "   '__cached__',\n",
       "   '__doc__',\n",
       "   '__file__',\n",
       "   '__loader__',\n",
       "   '__name__',\n",
       "   '__package__',\n",
       "   '__spec__',\n",
       "   '_clearcache',\n",
       "   'calcsize',\n",
       "   'error',\n",
       "   'iter_unpack',\n",
       "   'pack',\n",
       "   'pack_into',\n",
       "   'unpack',\n",
       "   'unpack_from'],\n",
       "  61: [(0, 'Spring'), (1, 'Summer'), (2, 'Fall'), (3, 'Winter')],\n",
       "  62: [(1, 'Spring'), (2, 'Summer'), (3, 'Fall'), (4, 'Winter')],\n",
       "  84: ('a',\n",
       "   'b',\n",
       "   'c',\n",
       "   'd',\n",
       "   'e',\n",
       "   'f',\n",
       "   'g',\n",
       "   'h',\n",
       "   'i',\n",
       "   'j',\n",
       "   'k',\n",
       "   'l',\n",
       "   'm',\n",
       "   'n',\n",
       "   'o',\n",
       "   'p',\n",
       "   'q',\n",
       "   'r',\n",
       "   's',\n",
       "   't',\n",
       "   'u',\n",
       "   'v',\n",
       "   'w',\n",
       "   'x',\n",
       "   'y',\n",
       "   'z'),\n",
       "  85: ['a',\n",
       "   'b',\n",
       "   'c',\n",
       "   'd',\n",
       "   'e',\n",
       "   'f',\n",
       "   'g',\n",
       "   'h',\n",
       "   'i',\n",
       "   'j',\n",
       "   'k',\n",
       "   'l',\n",
       "   'm',\n",
       "   'n',\n",
       "   'o',\n",
       "   'p',\n",
       "   'q',\n",
       "   'r',\n",
       "   's',\n",
       "   't',\n",
       "   'u',\n",
       "   'v',\n",
       "   'w',\n",
       "   'x',\n",
       "   'y',\n",
       "   'z'],\n",
       "  86: ['a',\n",
       "   'b',\n",
       "   'c',\n",
       "   'd',\n",
       "   'e',\n",
       "   'f',\n",
       "   'g',\n",
       "   'h',\n",
       "   'i',\n",
       "   'j',\n",
       "   'k',\n",
       "   'l',\n",
       "   'm',\n",
       "   'n',\n",
       "   'o',\n",
       "   'p',\n",
       "   'q',\n",
       "   'r',\n",
       "   's',\n",
       "   't',\n",
       "   'u',\n",
       "   'v',\n",
       "   'w',\n",
       "   'x',\n",
       "   'y',\n",
       "   'z']},\n",
       " 'get_ipython': <bound method InteractiveShell.get_ipython of <ipykernel.zmqshell.ZMQInteractiveShell object at 0x7fc2a84876a0>>,\n",
       " 'exit': <IPython.core.autocall.ZMQExitAutocall at 0x7fc2a84aeeb0>,\n",
       " 'quit': <IPython.core.autocall.ZMQExitAutocall at 0x7fc2a84aeeb0>,\n",
       " '_': ['a',\n",
       "  'b',\n",
       "  'c',\n",
       "  'd',\n",
       "  'e',\n",
       "  'f',\n",
       "  'g',\n",
       "  'h',\n",
       "  'i',\n",
       "  'j',\n",
       "  'k',\n",
       "  'l',\n",
       "  'm',\n",
       "  'n',\n",
       "  'o',\n",
       "  'p',\n",
       "  'q',\n",
       "  'r',\n",
       "  's',\n",
       "  't',\n",
       "  'u',\n",
       "  'v',\n",
       "  'w',\n",
       "  'x',\n",
       "  'y',\n",
       "  'z'],\n",
       " '__': ['a',\n",
       "  'b',\n",
       "  'c',\n",
       "  'd',\n",
       "  'e',\n",
       "  'f',\n",
       "  'g',\n",
       "  'h',\n",
       "  'i',\n",
       "  'j',\n",
       "  'k',\n",
       "  'l',\n",
       "  'm',\n",
       "  'n',\n",
       "  'o',\n",
       "  'p',\n",
       "  'q',\n",
       "  'r',\n",
       "  's',\n",
       "  't',\n",
       "  'u',\n",
       "  'v',\n",
       "  'w',\n",
       "  'x',\n",
       "  'y',\n",
       "  'z'],\n",
       " '___': ('a',\n",
       "  'b',\n",
       "  'c',\n",
       "  'd',\n",
       "  'e',\n",
       "  'f',\n",
       "  'g',\n",
       "  'h',\n",
       "  'i',\n",
       "  'j',\n",
       "  'k',\n",
       "  'l',\n",
       "  'm',\n",
       "  'n',\n",
       "  'o',\n",
       "  'p',\n",
       "  'q',\n",
       "  'r',\n",
       "  's',\n",
       "  't',\n",
       "  'u',\n",
       "  'v',\n",
       "  'w',\n",
       "  'x',\n",
       "  'y',\n",
       "  'z'),\n",
       " '_i': \"class Example: \\n    Age = 55\\n    Name = 'Bishop'\\n\\nExample = Example()\\nprint(getattr(Example, 'Age'))\\nprint(Example.name)\",\n",
       " '_ii': \"froSet = frozenset(('apple', 'orange', 'mango', 'banana'))\\nprint(froSet)\",\n",
       " '_iii': '# x, f and b are type\\n\\n# integer\\nprint(format(25, \"x\"))\\n\\n# float arguments\\nprint(format(125.1234567, \"f\"))\\n\\n# binary format\\nprint(format(12, \"b\"))',\n",
       " '_i1': 'import os\\nimport pandas\\n\\nos.listdir()\\ndf_csv = pandas.read_csv(\"Built-in_Functions.csv\")\\nprint(df_csv)',\n",
       " 'os': <module 'os' from '/Users/henrylin/opt/anaconda3/lib/python3.8/os.py'>,\n",
       " 'pandas': <module 'pandas' from '/Users/henrylin/opt/anaconda3/lib/python3.8/site-packages/pandas/__init__.py'>,\n",
       " 'df_csv':        Name                                        Description\n",
       " 0     abs()  The abs() function is used to get the absolute...\n",
       " 1     all()  The all() function is used to test whether all...\n",
       " 2     any()  The any() function returns True if any element...\n",
       " 3   ascii()  The ascii() function returns a string containi...\n",
       " 4     bin()  The bin() function is used to convert an integ...\n",
       " ..      ...                                                ...\n",
       " 59    sum()  The sum() function is used to get the sum of a...\n",
       " 60  tuple()  The tuple() function is used to create a tuple...\n",
       " 61   type()  The type() function is used to get the type of...\n",
       " 62     vars  The vars() function is used to get the __dict_...\n",
       " 63    zip()  The zip() function is used to make an iterator...\n",
       " \n",
       " [64 rows x 2 columns],\n",
       " '_i2': 'print(abs(-100))\\nprint(abs(1023))\\nprint(abs(123.25))\\nprint(abs(-2033.66))',\n",
       " '_i3': 'print(abs(-100))\\nprint(abs(1023))\\nprint(abs(123.25))\\nprint(abs(-2033.66))',\n",
       " '_i4': '# all values true\\nnum = [23, 45, 10, 30]\\nprint(all(num)) #True\\n\\n# all values false\\nnum = [0, False]\\nprint(all(num)) #False\\n\\n# one false value\\nnum = [1, 3, 4, 0]\\nprint(all(num)) #False\\n\\n# one true value\\nnum = [0, False, 5]\\nprint(all(num)) #False\\n\\n# empty iterable\\nnum = []\\nprint(all(num)) #True',\n",
       " 'num': {'a': 10, 'b': 0},\n",
       " '_i5': 'def any (iterable):\\n    for element in iterable: \\n        if element: \\n            return True\\n    return False',\n",
       " 'any': <function __main__.any(iterable)>,\n",
       " '_i6': 'def any (iterable):\\n    for element in iterable: \\n        if element: \\n            return True\\n    return False\\n\\nstr = \"Hello\"\\nprint(any(str))\\n\\nstr = \\'\\'\\nprint(any(str))',\n",
       " 'str': 'abcdefghijklmnopqrstuvwxyz',\n",
       " '_i7': 'def any (iterable):\\n    for element in iterable: \\n        if element: \\n            return True\\n    return False\\n\\nstr = \"Hello\"\\nprint(any(str))\\n\\nstr = \\'\\'\\nprint(any(str))\\n\\nnum = [23, 45, 0, 30]\\nprint(any(num))\\n\\nnum = []\\nprint(any(num))',\n",
       " '_i8': 'print(ascii(\"你好\"))\\nprint(\\'\\\\u0440\\\\u0443\\\\u0441\\\\u043a\\\\u0438\\\\u0439\\')',\n",
       " '_i9': 'print(ascii(\"你好\"))\\nprint(\\'\\\\u4f60\\\\u597d\\')',\n",
       " '_i10': \"print(ascii('a'))\",\n",
       " '_i11': \"print(ascii('A'))\",\n",
       " '_i12': \"print(ascii('\\\\u41'))\",\n",
       " '_i13': \"print(ascii('\\\\u101'))\",\n",
       " '_i14': \"print(ascii('\\\\u6541'))\",\n",
       " '_i15': \"print('\\\\u6541')\",\n",
       " '_i16': \"print('\\\\x41')\",\n",
       " '_i17': \"print('\\\\u0041')\",\n",
       " '_i18': \"'''\\nEscape sequences: \\n\\\\x = Hex\\n\\\\u = unicode with 16 bit hex value\\n\\\\U = unicode with 64 bit hex value\\n''''''\",\n",
       " '_i19': \"'''\\nEscape sequences: \\n\\\\x = Hex\\n\\\\u = unicode with 16 bit hex value\\n\\\\U = unicode with 64 bit hex value\\n'''\",\n",
       " '_i20': \"str = '''\\nEscape sequences: \\n\\\\x = Hex\\n\\\\u = unicode with 16 bit hex value\\n\\\\U = unicode with 64 bit hex value\\n'''\",\n",
       " '_i21': 'x = 10\\ny = bin(x)\\nprint(x, y)',\n",
       " 'x': 's = 36\\nprint(sqrt(s))',\n",
       " 'y': 5,\n",
       " '_i22': '#Convert an integer to binary without using bin() function\\ndef dec_to_bin(n):\\n    binary = \"\" \\n    x = 0\\n    while n > 0 and x<=8: \\n        s1 = str(int(n%2)) \\n        binary = binary + s1 \\n        n /= 2\\n        x = x + 1\\n        result = binary[::-1] \\n    return result \\nprint(dec_to_bin(10))\\nprint(dec_to_bin(8))\\nprint(dec_to_bin(110))',\n",
       " 'dec_to_bin': <function __main__.dec_to_bin(n)>,\n",
       " '_i23': '#Convert an integer to binary without using bin() function\\ndef dec_to_bin(n):\\n    binary = \"\" \\n    x = 0\\n    while n > 0 and x<=8: \\n        s1 = (\\'%s\\' % int(n % 2))\\n        binary = binary + s1 \\n        n /= 2\\n        x = x + 1\\n        result = binary[::-1] \\n    return result \\nprint(dec_to_bin(10))\\nprint(dec_to_bin(8))\\nprint(dec_to_bin(110))',\n",
       " '_i24': 'bool() function\\nReturns a boolean value',\n",
       " '_i25': 'print(bool(True))\\nprint(bool(False))\\nprint(bool(5))\\nprint(bool(0))',\n",
       " '_i26': 'num = [1, 2, 3, 4, 5]\\na = bytearray(num)\\nprint(a)',\n",
       " 'a': 5,\n",
       " '_i27': 'str = \"Hello World!\"\\nb = bytearray(str, \\'utf-8\\')\\nprint(b)',\n",
       " 'b': 10,\n",
       " '_i28': \"str = ['H', 'e', 'l', 'l', 'o', 'W', 'o', 'r', 'l', 'd', '!']\\nb = bytearray(str, 'utf-8')\\nprint(b)\",\n",
       " '_i29': \"str = ['H', 'e', 'l', 'l', 'o', 'W', 'o', 'r', 'l', 'd', '!']\\nb = bytearray(str)\\nprint(b)\",\n",
       " '_i30': 'num = [1, 2, 3, 4, 5]\\na = bytes(num)\\nprint(a)',\n",
       " '_i31': 'num = [100, 34, 23, 30, 77]\\na = bytes(num)\\nprint(a)',\n",
       " '_i32': 'num = [0, 200, 50, 25, 10, 255]\\na = bytes(num)\\nprint(a)',\n",
       " '_i33': 'num = [1, 2, 3, 4, 5]\\na = bytes(num)\\nprint(a)',\n",
       " '_i34': 'num = [0, 200, 50, 25, 10, 255]\\na = bytes(num)\\nprint(a)',\n",
       " '_i35': 'num = [0, 1, 2, 3, 4, 5]\\na = bytes(num)\\nprint(a)',\n",
       " '_i36': \"num = ['0', '1', '2', '3', '4', '5']\\na = bytes(num)\\nprint(a)\",\n",
       " '_i37': 'num = [1, 2, 3, 4, 5]\\na = bytes(num)\\nprint(a)',\n",
       " '_i38': 'str = \"Hello World!\"\\na = bytes(str)\\nprint(a)',\n",
       " '_i39': 'str = \"Hello World!\"\\na = bytes(str, \\'utf-8\\')\\nprint(a)',\n",
       " '_i40': \"def testFunction ():\\n    print('Test')\\n\\nprint(callable(10))\\nprint(callable(testFunction)\",\n",
       " '_i41': \"def testFunction ():\\n    print('Test')\\n\\nprint(callable(10))\\nprint(callable(testFunction))\",\n",
       " 'testFunction': <function __main__.testFunction()>,\n",
       " '_i42': \"class foo:\\n    def __cal__ (self):\\n        print('Hello World!')\\n\\ndef testFunction ():\\n    print('Test')\\n\\nprint(callable(10))\\nprint(callable(testFunction))\\nprint(callable(Foo))\",\n",
       " 'foo': __main__.foo,\n",
       " '_i43': \"class foo:\\n    def __cal__ (self):\\n        print('Hello World!')\\n\\ndef testFunction ():\\n    print('Test')\\n\\nprint(callable(10))\\nprint(callable(testFunction))\\nprint(callable(foo))\",\n",
       " '_i44': 'print(chr(65))\\nprint(chr(97))\\nprint(chr(124))',\n",
       " '_i45': 'class Student:\\n      \\n    name = \"Geeksforgeeks\"\\n      \\n    def print_name(obj):\\n        print(\"The name is : \", obj.name)\\n\\nStudent.print_name = classmethod(Student.print_name)\\nStudent.print_name()',\n",
       " 'Student': __main__.Student,\n",
       " '_i46': '#compile(source, filename, mode, flags=0, dont_inherit=False, optimize=-1)\\n\\ncodeInString = \\'x = 8\\\\ny=5\\\\nsum=x+y\\\\nprint(\"sum =\",sum)\\'\\ncodeObejct = compile(codeInString, \\'sumstring\\', \\'exec\\')\\nexec(codeObejct)',\n",
       " 'codeInString': 'x = 8\\ny=5\\nsum=x+y\\nprint(\"sum =\",sum)',\n",
       " 'codeObejct': <code object <module> at 0x7fc2d876d500, file \"sumstring\", line 1>,\n",
       " 'sum': 13,\n",
       " '_i47': '#compile(source, filename, mode, flags=0, dont_inherit=False, optimize=-1)\\n\\ncodeInString = \\'x = 8\\\\ny=5\\\\nsum=x+y\\\\nprint(\"sum =\",sum)\\'\\ncodeObejct = compile(codeInString, \\'sumstring\\', \\'execute\\')\\nexec(codeObejct)',\n",
       " '_i48': '#compile(source, filename, mode, flags=0, dont_inherit=False, optimize=-1)\\n\\ncodeInString = \\'x = 8\\\\ny=5\\\\nsum=x+y\\\\nprint(\"sum =\",sum)\\'\\ncodeObejct = compile(codeInString, \\'sumstring\\', \\'exec\\')\\neval(codeObejct)',\n",
       " '_i49': '#compile(source, filename, mode, flags=0, dont_inherit=False, optimize=-1)\\n\\ncodeInString = \\'x = 8\\\\ny=5\\\\nsum=x+y\\\\nprint(\"sum =\",sum)\\'\\ncodeObejct = compile(codeInString, \\'sumstring\\', \\'eval\\')\\neval(codeObejct)',\n",
       " '_i50': '#compile(source, filename, mode, flags=0, dont_inherit=False, optimize=-1)\\n\\ncodeInString = \\'x = 8\\\\ny=5\\\\nsum=x+y\\\\nprint(\"sum =\",sum)\\'\\ncodeObejct = compile(codeInString, \\'sumstring\\', \\'exec\\')\\nexec(codeObejct)',\n",
       " '_i51': \"print(complex(3, -5))\\nprint(complex(1))\\nprint(complex())\\nprint(complex('6-7j'))\",\n",
       " '_i52': \"class Rollnums: \\n    a = 15\\n    b = -7\\n    c = 0\\n\\nrno = Rollnums()\\n\\nprint(rno.a)\\nprint(rno.b)\\nprint(rno.c)\\n\\ndelattr(Rollnums, 'c')\\nprint(rno.a)\\nprint(rno.b)\",\n",
       " 'Rollnums': __main__.Rollnums,\n",
       " 'rno': <__main__.Rollnums at 0x7fc2d8751c10>,\n",
       " '_i53': \"class Rollnums: \\n    a = 15\\n    b = -7\\n    c = 0\\n\\nrno = Rollnums()\\n\\nprint(rno.a)\\nprint(rno.b)\\nprint(rno.c)\\n\\ndelattr(Rollnums, 'c')\\nprint(rno.a)\\nprint(rno.b)\\nprint(rno.c)\",\n",
       " '_i54': \"class Rollnums: \\n    a = 15\\n    b = -7\\n    c = 0\\n\\nrno = Rollnums()\\n\\nprint(rno.a)\\nprint(rno.b)\\nprint(rno.c)\\n\\ndelattr(Rollnums, 'c')\\nprint(rno.a)\\nprint(rno.b)\\nprint(rno.c) #gives an error b/c attribute was deleted\",\n",
       " '_i55': \"num = dict(a=10, b=0)\\nprint('num = ',num)\\nprint(type(num))\\n\\nempty = dict()\\nprint('empty = ',empty)\\nprint(type(empty))\",\n",
       " 'empty': {},\n",
       " '_i56': \"num1 = dict([('a', 3), ('b', -3)])\\nprint('num1 =',num1)\\n\\nnum2 = dict([('a', 3), ('b', -3)], c=5)\\nprint('num2 =',num2)\\n\\n# zip() creates an iterable in Python 3\\nnum3 = dict(dict(zip(['a', 'b', 'c'], [2, 3, 4])))\\nprint('num3 =',num3)\",\n",
       " 'num1': {'a': 3, 'b': 4},\n",
       " 'num2': {'a': 5, 'b': 6},\n",
       " 'num3': {'a': 7, 'b': 8, 'c': 9},\n",
       " '_i57': \"num1 = dict({'a': 3, 'b': 4})\\nprint('num1 =',num1)\\n\\nnum2 = {'a': 5, 'b': 6}\\nprint('num2 =',num2)\\n\\nnum3 = dict({'a': 7, 'b': 8}, c=9)\\nprint('num3 =',num3)\",\n",
       " '_i58': 'import struct\\ndir()',\n",
       " 'struct': <module 'struct' from '/Users/henrylin/opt/anaconda3/lib/python3.8/struct.py'>,\n",
       " '_58': ['In',\n",
       "  'Out',\n",
       "  'Rollnums',\n",
       "  'Student',\n",
       "  '_',\n",
       "  '__',\n",
       "  '___',\n",
       "  '__builtin__',\n",
       "  '__builtins__',\n",
       "  '__doc__',\n",
       "  '__loader__',\n",
       "  '__name__',\n",
       "  '__package__',\n",
       "  '__spec__',\n",
       "  '_dh',\n",
       "  '_i',\n",
       "  '_i1',\n",
       "  '_i10',\n",
       "  '_i11',\n",
       "  '_i12',\n",
       "  '_i13',\n",
       "  '_i14',\n",
       "  '_i15',\n",
       "  '_i16',\n",
       "  '_i17',\n",
       "  '_i18',\n",
       "  '_i19',\n",
       "  '_i2',\n",
       "  '_i20',\n",
       "  '_i21',\n",
       "  '_i22',\n",
       "  '_i23',\n",
       "  '_i24',\n",
       "  '_i25',\n",
       "  '_i26',\n",
       "  '_i27',\n",
       "  '_i28',\n",
       "  '_i29',\n",
       "  '_i3',\n",
       "  '_i30',\n",
       "  '_i31',\n",
       "  '_i32',\n",
       "  '_i33',\n",
       "  '_i34',\n",
       "  '_i35',\n",
       "  '_i36',\n",
       "  '_i37',\n",
       "  '_i38',\n",
       "  '_i39',\n",
       "  '_i4',\n",
       "  '_i40',\n",
       "  '_i41',\n",
       "  '_i42',\n",
       "  '_i43',\n",
       "  '_i44',\n",
       "  '_i45',\n",
       "  '_i46',\n",
       "  '_i47',\n",
       "  '_i48',\n",
       "  '_i49',\n",
       "  '_i5',\n",
       "  '_i50',\n",
       "  '_i51',\n",
       "  '_i52',\n",
       "  '_i53',\n",
       "  '_i54',\n",
       "  '_i55',\n",
       "  '_i56',\n",
       "  '_i57',\n",
       "  '_i58',\n",
       "  '_i6',\n",
       "  '_i7',\n",
       "  '_i8',\n",
       "  '_i9',\n",
       "  '_ih',\n",
       "  '_ii',\n",
       "  '_iii',\n",
       "  '_oh',\n",
       "  'a',\n",
       "  'any',\n",
       "  'b',\n",
       "  'codeInString',\n",
       "  'codeObejct',\n",
       "  'dec_to_bin',\n",
       "  'df_csv',\n",
       "  'empty',\n",
       "  'exit',\n",
       "  'foo',\n",
       "  'get_ipython',\n",
       "  'num',\n",
       "  'num1',\n",
       "  'num2',\n",
       "  'num3',\n",
       "  'os',\n",
       "  'pandas',\n",
       "  'quit',\n",
       "  'rno',\n",
       "  'str',\n",
       "  'struct',\n",
       "  'sum',\n",
       "  'testFunction',\n",
       "  'x',\n",
       "  'y'],\n",
       " '_i59': 'import struct\\ndir(struct)',\n",
       " '_59': ['Struct',\n",
       "  '__all__',\n",
       "  '__builtins__',\n",
       "  '__cached__',\n",
       "  '__doc__',\n",
       "  '__file__',\n",
       "  '__loader__',\n",
       "  '__name__',\n",
       "  '__package__',\n",
       "  '__spec__',\n",
       "  '_clearcache',\n",
       "  'calcsize',\n",
       "  'error',\n",
       "  'iter_unpack',\n",
       "  'pack',\n",
       "  'pack_into',\n",
       "  'unpack',\n",
       "  'unpack_from'],\n",
       " '_i60': 'print(divmod(9, 2))',\n",
       " '_i61': \"#enumerate(iterable, start = 0)\\nlist(enumerate(['Spring', 'Summer', 'Fall', 'Winter']))\",\n",
       " '_61': [(0, 'Spring'), (1, 'Summer'), (2, 'Fall'), (3, 'Winter')],\n",
       " '_i62': \"#enumerate(iterable, start = 0)\\nlist(enumerate(['Spring', 'Summer', 'Fall', 'Winter']))\\nlist(enumerate(['Spring', 'Summer', 'Fall', 'Winter'], 1))\",\n",
       " '_62': [(1, 'Spring'), (2, 'Summer'), (3, 'Fall'), (4, 'Winter')],\n",
       " '_i63': \"#enumerate(iterable, start = 0)\\nprint(list(enumerate(['Spring', 'Summer', 'Fall', 'Winter'])))\\nprint(list(enumerate(['Spring', 'Summer', 'Fall', 'Winter'], 1)))\",\n",
       " '_i64': \"x = 5\\nprint(eval('x+1'))\\nprint(eval('x'))\",\n",
       " '_i65': \"from math import *\\nprint(eval('dir()', {}))\\n\\n#Following code will raise an exception\\nprint(eval('sqrt(36)', {}))\",\n",
       " 'acos': <function math.acos(x, /)>,\n",
       " 'acosh': <function math.acosh(x, /)>,\n",
       " 'asin': <function math.asin(x, /)>,\n",
       " 'asinh': <function math.asinh(x, /)>,\n",
       " 'atan': <function math.atan(x, /)>,\n",
       " 'atan2': <function math.atan2(y, x, /)>,\n",
       " 'atanh': <function math.atanh(x, /)>,\n",
       " 'ceil': <function math.ceil(x, /)>,\n",
       " 'copysign': <function math.copysign(x, y, /)>,\n",
       " 'cos': <function math.cos(x, /)>,\n",
       " 'cosh': <function math.cosh(x, /)>,\n",
       " 'degrees': <function math.degrees(x, /)>,\n",
       " 'dist': <function math.dist(p, q, /)>,\n",
       " 'erf': <function math.erf(x, /)>,\n",
       " 'erfc': <function math.erfc(x, /)>,\n",
       " 'exp': <function math.exp(x, /)>,\n",
       " 'expm1': <function math.expm1(x, /)>,\n",
       " 'fabs': <function math.fabs(x, /)>,\n",
       " 'factorial': <function math.factorial(x, /)>,\n",
       " 'floor': <function math.floor(x, /)>,\n",
       " 'fmod': <function math.fmod(x, y, /)>,\n",
       " 'frexp': <function math.frexp(x, /)>,\n",
       " 'fsum': <function math.fsum(seq, /)>,\n",
       " 'gamma': <function math.gamma(x, /)>,\n",
       " 'gcd': <function math.gcd(x, y, /)>,\n",
       " 'hypot': <function math.hypot>,\n",
       " 'isclose': <function math.isclose(a, b, *, rel_tol=1e-09, abs_tol=0.0)>,\n",
       " 'isfinite': <function math.isfinite(x, /)>,\n",
       " 'isinf': <function math.isinf(x, /)>,\n",
       " 'isnan': <function math.isnan(x, /)>,\n",
       " 'isqrt': <function math.isqrt(n, /)>,\n",
       " 'ldexp': <function math.ldexp(x, i, /)>,\n",
       " 'lgamma': <function math.lgamma(x, /)>,\n",
       " 'log': <function math.log>,\n",
       " 'log1p': <function math.log1p(x, /)>,\n",
       " 'log10': <function math.log10(x, /)>,\n",
       " 'log2': <function math.log2(x, /)>,\n",
       " 'modf': <function math.modf(x, /)>,\n",
       " 'pow': <function math.pow(x, y, /)>,\n",
       " 'radians': <function math.radians(x, /)>,\n",
       " 'remainder': <function math.remainder(x, y, /)>,\n",
       " 'sin': <function math.sin(x, /)>,\n",
       " 'sinh': <function math.sinh(x, /)>,\n",
       " 'sqrt': <function math.sqrt(x, /)>,\n",
       " 'tan': <function math.tan(x, /)>,\n",
       " 'tanh': <function math.tanh(x, /)>,\n",
       " 'trunc': <function math.trunc(x, /)>,\n",
       " 'prod': <function math.prod(iterable, /, *, start=1)>,\n",
       " 'perm': <function math.perm(n, k=None, /)>,\n",
       " 'comb': <function math.comb(n, k, /)>,\n",
       " 'pi': 3.141592653589793,\n",
       " 'e': 2.718281828459045,\n",
       " 'tau': 6.283185307179586,\n",
       " 'inf': inf,\n",
       " 'nan': nan,\n",
       " '_i66': \"x = 5\\nprint(exec('x'))\",\n",
       " '_i67': \"x = 's = 26 \\\\nsqrt(s)'\\nprint(exec('x'))\",\n",
       " '_i68': \"x = 's = 26 \\\\nprint(sqrt(s))'\\nprint(exec('x'))\",\n",
       " '_i69': \"x = 's = 36 \\\\nprint(sqrt(s))'\\nprint(exec('x'))\",\n",
       " '_i70': \"x = 's = 36 \\\\nprint(sqrt(s))'\\nexec('x')\",\n",
       " '_i71': \"x = 's = 36 \\\\nprint(sqrt(s))'\\nexec('x')\",\n",
       " '_i72': \"x = 's = 36 \\\\nprint(s + 36)'\\nexec('x')\",\n",
       " '_i73': \"x = 's=36\\\\nprint(s + 36)'\\nexec('x')\",\n",
       " '_i74': \"Example = 'x = 6\\\\ny = 15\\\\nprint('Sum =', x+y)'\\nexec('x')\",\n",
       " '_i75': \"Example = 'x = 6\\\\ny = 15\\\\nprint(\\\\'Sum =\\\\', x+y)'\\nexec('x')\",\n",
       " 'Example': <__main__.Example at 0x7fc2d8751ca0>,\n",
       " '_i76': \"Example = 'x = 6\\\\ny = 15\\\\nprint(\\\\'Sum =\\\\', x+y)'\\nprint(exec('x'))\",\n",
       " '_i77': 'program = \\'a = 5\\\\nb=10\\\\nprint(\"Sum =\", a+b)\\'\\nexec(program)',\n",
       " 'program': 'a = 5\\nb=10\\nprint(\"Sum =\", a+b)',\n",
       " '_i78': 'program = \\'a = 5\\\\nb=10\\\\nprint(\"Sum =\", a+b)\\'\\nexec(program)',\n",
       " '_i79': \"Example = 'x = 6\\\\ny = 15\\\\nprint(\\\\'Sum =\\\\', x+y)'\\nprint(exec('x'))\",\n",
       " '_i80': 'Example = \"x = 6\\\\ny = 15\\\\nprint(\\'Sum =\\', x+y)\"\\nprint(exec(\\'x\\'))',\n",
       " '_i81': 'Example = \"x = 6\\\\ny = 15\\\\nprint(\\'Sum =\\', x+y)\"\\nexec(x)',\n",
       " 's': 36,\n",
       " '_i82': \"x = 's = 36\\\\nprint(sqrt(s))'\\nexec(x)\",\n",
       " '_i83': \"str = 'abcdefghijklmnopqrstuvwxyz'\\ntples = tuple(str)\",\n",
       " 'tples': ['a',\n",
       "  'b',\n",
       "  'c',\n",
       "  'd',\n",
       "  'e',\n",
       "  'f',\n",
       "  'g',\n",
       "  'h',\n",
       "  'i',\n",
       "  'j',\n",
       "  'k',\n",
       "  'l',\n",
       "  'm',\n",
       "  'n',\n",
       "  'o',\n",
       "  'p',\n",
       "  'q',\n",
       "  'r',\n",
       "  's',\n",
       "  't',\n",
       "  'u',\n",
       "  'v',\n",
       "  'w',\n",
       "  'x',\n",
       "  'y',\n",
       "  'z'],\n",
       " '_i84': \"str = 'abcdefghijklmnopqrstuvwxyz'\\ntples = tuple(str)\\ntples\",\n",
       " '_84': ('a',\n",
       "  'b',\n",
       "  'c',\n",
       "  'd',\n",
       "  'e',\n",
       "  'f',\n",
       "  'g',\n",
       "  'h',\n",
       "  'i',\n",
       "  'j',\n",
       "  'k',\n",
       "  'l',\n",
       "  'm',\n",
       "  'n',\n",
       "  'o',\n",
       "  'p',\n",
       "  'q',\n",
       "  'r',\n",
       "  's',\n",
       "  't',\n",
       "  'u',\n",
       "  'v',\n",
       "  'w',\n",
       "  'x',\n",
       "  'y',\n",
       "  'z'),\n",
       " '_i85': \"str = 'abcdefghijklmnopqrstuvwxyz'\\ntples = list(str)\\ntples\",\n",
       " '_85': ['a',\n",
       "  'b',\n",
       "  'c',\n",
       "  'd',\n",
       "  'e',\n",
       "  'f',\n",
       "  'g',\n",
       "  'h',\n",
       "  'i',\n",
       "  'j',\n",
       "  'k',\n",
       "  'l',\n",
       "  'm',\n",
       "  'n',\n",
       "  'o',\n",
       "  'p',\n",
       "  'q',\n",
       "  'r',\n",
       "  's',\n",
       "  't',\n",
       "  'u',\n",
       "  'v',\n",
       "  'w',\n",
       "  'x',\n",
       "  'y',\n",
       "  'z'],\n",
       " '_i86': \"str = 'abcdefghijklmnopqrstuvwxyz'\\nlsts = list(str)\\ntples\",\n",
       " 'lsts': ['a',\n",
       "  'b',\n",
       "  'c',\n",
       "  'd',\n",
       "  'e',\n",
       "  'f',\n",
       "  'g',\n",
       "  'h',\n",
       "  'i',\n",
       "  'j',\n",
       "  'k',\n",
       "  'l',\n",
       "  'm',\n",
       "  'n',\n",
       "  'o',\n",
       "  'p',\n",
       "  'q',\n",
       "  'r',\n",
       "  's',\n",
       "  't',\n",
       "  'u',\n",
       "  'v',\n",
       "  'w',\n",
       "  'x',\n",
       "  'y',\n",
       "  'z'],\n",
       " '_86': ['a',\n",
       "  'b',\n",
       "  'c',\n",
       "  'd',\n",
       "  'e',\n",
       "  'f',\n",
       "  'g',\n",
       "  'h',\n",
       "  'i',\n",
       "  'j',\n",
       "  'k',\n",
       "  'l',\n",
       "  'm',\n",
       "  'n',\n",
       "  'o',\n",
       "  'p',\n",
       "  'q',\n",
       "  'r',\n",
       "  's',\n",
       "  't',\n",
       "  'u',\n",
       "  'v',\n",
       "  'w',\n",
       "  'x',\n",
       "  'y',\n",
       "  'z'],\n",
       " '_i87': \"str = 'abcdefghijklmnopqrstuvwxyz'\\nlsts = list(str)\\n\\ndef filter_non_vowels(letters):\\n    vowels = ['a', 'e', 'i', 'o', 'u']\\n    \\n    if(letters in vowels):\\n        return False\\n    else: \\n        return True\\n\\nfilter_non_vowels = filter(filter_non_vowels, letters)\\n\\nprint('The filtered non-vowels include:')\\nfor non_vowel in filter_non_vowels:\\n    print(non_vowel)\",\n",
       " 'filter_non_vowels': <function __main__.filter_non_vowels(letters)>,\n",
       " '_i88': \"str = 'abcdefghijklmnopqrstuvwxyz'\\nlsts = list(str)\\n\\ndef filter_non_vowels(letters):\\n    vowels = ['a', 'e', 'i', 'o', 'u']\\n    \\n    if(letters in vowels):\\n        return False\\n    else: \\n        return True\\n\\nnon_vowels = filter(filter_non_vowels, letters)\\n\\nprint('The filtered non-vowels include:')\\nfor non_vowel in non_vowels:\\n    print(non_vowel)\",\n",
       " '_i89': \"str = 'abcdefghijklmnopqrstuvwxyz'\\nlsts = list(str)\\n\\ndef filter_non_vowels(letters):\\n    vowels = ['a', 'e', 'i', 'o', 'u']\\n    \\n    if(letters in vowels):\\n        return False\\n    else: \\n        return True\\n\\nnon_vowels = filter(filter_non_vowels, lsts)\\n\\nprint('The filtered non-vowels include:')\\nfor non_vowel in non_vowels:\\n    print(non_vowel)\",\n",
       " 'non_vowels': <filter at 0x7fc27804d460>,\n",
       " 'non_vowel': 'z',\n",
       " '_i90': '# for floats\\nprint(float(2.25))\\n# for string floats with whitespaces\\nprint(float(\"       -12345\\\\n\"))\\n# for string floats\\nprint(float(\"-15.55\"))\\nprint(float(\"1e-005\"))\\nprint(float(\"+1E7\"))\\nprint(float(\"-Infinity\"))',\n",
       " '_i91': '# x, f and b are type\\n\\n# integer\\nprint(format(25, \"x\"))\\n\\n# float arguments\\nprint(format(125.1234567, \"f\"))\\n\\n# binary format\\nprint(format(12, \"b\"))',\n",
       " '_i92': \"froSet = frozenset(('apple', 'orange', 'mango', 'banana'))\\nprint(froSet)\",\n",
       " 'froSet': frozenset({'apple', 'banana', 'mango', 'orange'}),\n",
       " '_i93': \"class Example: \\n    Age = 55\\n    Name = 'Bishop'\\n\\nExample = Example()\\nprint(getattr(Example, 'Age'))\\nprint(Example.name)\",\n",
       " '_i94': 'globals()'}"
      ]
     },
     "execution_count": 94,
     "metadata": {},
     "output_type": "execute_result"
    }
   ],
   "source": [
    "globals()"
   ]
  },
  {
   "cell_type": "code",
   "execution_count": 156,
   "id": "d47ff2ff",
   "metadata": {},
   "outputs": [
    {
     "name": "stdout",
     "output_type": "stream",
     "text": [
      "The age is: 25\n"
     ]
    }
   ],
   "source": [
    "age = 23\n",
    "\n",
    "globals()['age'] = 25\n",
    "print('The age is:', age)"
   ]
  },
  {
   "cell_type": "markdown",
   "id": "85f717e5",
   "metadata": {},
   "source": [
    "### hash() function\n",
    "Returns the hash value of the object"
   ]
  },
  {
   "cell_type": "code",
   "execution_count": 95,
   "id": "d402f32f",
   "metadata": {},
   "outputs": [
    {
     "name": "stdout",
     "output_type": "stream",
     "text": [
      "Hash for 252 is: 252\n",
      "Hash for 252.25 is: 576460752303423740\n",
      "Hash for Python is: 2216407269307227203\n"
     ]
    }
   ],
   "source": [
    "# hash for integer unchanged\n",
    "print('Hash for 252 is:', hash(252))\n",
    "\n",
    "# hash for decimal\n",
    "print('Hash for 252.25 is:',hash(252.25))\n",
    "\n",
    "# hash for string\n",
    "print('Hash for Python is:', hash('Python Example'))\n"
   ]
  },
  {
   "cell_type": "markdown",
   "id": "40f46ff9",
   "metadata": {},
   "source": [
    "### help() function\n",
    "Used to execute the built-in help system"
   ]
  },
  {
   "cell_type": "code",
   "execution_count": 96,
   "id": "f8e356a9",
   "metadata": {},
   "outputs": [
    {
     "name": "stdout",
     "output_type": "stream",
     "text": [
      "Help on class list in module builtins:\n",
      "\n",
      "class list(object)\n",
      " |  list(iterable=(), /)\n",
      " |  \n",
      " |  Built-in mutable sequence.\n",
      " |  \n",
      " |  If no argument is given, the constructor creates a new empty list.\n",
      " |  The argument must be an iterable if specified.\n",
      " |  \n",
      " |  Methods defined here:\n",
      " |  \n",
      " |  __add__(self, value, /)\n",
      " |      Return self+value.\n",
      " |  \n",
      " |  __contains__(self, key, /)\n",
      " |      Return key in self.\n",
      " |  \n",
      " |  __delitem__(self, key, /)\n",
      " |      Delete self[key].\n",
      " |  \n",
      " |  __eq__(self, value, /)\n",
      " |      Return self==value.\n",
      " |  \n",
      " |  __ge__(self, value, /)\n",
      " |      Return self>=value.\n",
      " |  \n",
      " |  __getattribute__(self, name, /)\n",
      " |      Return getattr(self, name).\n",
      " |  \n",
      " |  __getitem__(...)\n",
      " |      x.__getitem__(y) <==> x[y]\n",
      " |  \n",
      " |  __gt__(self, value, /)\n",
      " |      Return self>value.\n",
      " |  \n",
      " |  __iadd__(self, value, /)\n",
      " |      Implement self+=value.\n",
      " |  \n",
      " |  __imul__(self, value, /)\n",
      " |      Implement self*=value.\n",
      " |  \n",
      " |  __init__(self, /, *args, **kwargs)\n",
      " |      Initialize self.  See help(type(self)) for accurate signature.\n",
      " |  \n",
      " |  __iter__(self, /)\n",
      " |      Implement iter(self).\n",
      " |  \n",
      " |  __le__(self, value, /)\n",
      " |      Return self<=value.\n",
      " |  \n",
      " |  __len__(self, /)\n",
      " |      Return len(self).\n",
      " |  \n",
      " |  __lt__(self, value, /)\n",
      " |      Return self<value.\n",
      " |  \n",
      " |  __mul__(self, value, /)\n",
      " |      Return self*value.\n",
      " |  \n",
      " |  __ne__(self, value, /)\n",
      " |      Return self!=value.\n",
      " |  \n",
      " |  __repr__(self, /)\n",
      " |      Return repr(self).\n",
      " |  \n",
      " |  __reversed__(self, /)\n",
      " |      Return a reverse iterator over the list.\n",
      " |  \n",
      " |  __rmul__(self, value, /)\n",
      " |      Return value*self.\n",
      " |  \n",
      " |  __setitem__(self, key, value, /)\n",
      " |      Set self[key] to value.\n",
      " |  \n",
      " |  __sizeof__(self, /)\n",
      " |      Return the size of the list in memory, in bytes.\n",
      " |  \n",
      " |  append(self, object, /)\n",
      " |      Append object to the end of the list.\n",
      " |  \n",
      " |  clear(self, /)\n",
      " |      Remove all items from list.\n",
      " |  \n",
      " |  copy(self, /)\n",
      " |      Return a shallow copy of the list.\n",
      " |  \n",
      " |  count(self, value, /)\n",
      " |      Return number of occurrences of value.\n",
      " |  \n",
      " |  extend(self, iterable, /)\n",
      " |      Extend list by appending elements from the iterable.\n",
      " |  \n",
      " |  index(self, value, start=0, stop=9223372036854775807, /)\n",
      " |      Return first index of value.\n",
      " |      \n",
      " |      Raises ValueError if the value is not present.\n",
      " |  \n",
      " |  insert(self, index, object, /)\n",
      " |      Insert object before index.\n",
      " |  \n",
      " |  pop(self, index=-1, /)\n",
      " |      Remove and return item at index (default last).\n",
      " |      \n",
      " |      Raises IndexError if list is empty or index is out of range.\n",
      " |  \n",
      " |  remove(self, value, /)\n",
      " |      Remove first occurrence of value.\n",
      " |      \n",
      " |      Raises ValueError if the value is not present.\n",
      " |  \n",
      " |  reverse(self, /)\n",
      " |      Reverse *IN PLACE*.\n",
      " |  \n",
      " |  sort(self, /, *, key=None, reverse=False)\n",
      " |      Sort the list in ascending order and return None.\n",
      " |      \n",
      " |      The sort is in-place (i.e. the list itself is modified) and stable (i.e. the\n",
      " |      order of two equal elements is maintained).\n",
      " |      \n",
      " |      If a key function is given, apply it once to each list item and sort them,\n",
      " |      ascending or descending, according to their function values.\n",
      " |      \n",
      " |      The reverse flag can be set to sort in descending order.\n",
      " |  \n",
      " |  ----------------------------------------------------------------------\n",
      " |  Static methods defined here:\n",
      " |  \n",
      " |  __new__(*args, **kwargs) from builtins.type\n",
      " |      Create and return a new object.  See help(type) for accurate signature.\n",
      " |  \n",
      " |  ----------------------------------------------------------------------\n",
      " |  Data and other attributes defined here:\n",
      " |  \n",
      " |  __hash__ = None\n",
      "\n"
     ]
    }
   ],
   "source": [
    "help(list)"
   ]
  },
  {
   "cell_type": "markdown",
   "id": "2d38ee31",
   "metadata": {},
   "source": [
    "### hex() function\n",
    "Converts an integer number to a lowercase hexadecimal string prefixed with \"0x\""
   ]
  },
  {
   "cell_type": "code",
   "execution_count": 97,
   "id": "ac7ec06c",
   "metadata": {},
   "outputs": [
    {
     "name": "stdout",
     "output_type": "stream",
     "text": [
      "127 in hex = 0x7f\n",
      "0 in hex = 0x0\n",
      "-35 in hex = -0x23\n",
      "Return type from hex() is <class 'str'>\n"
     ]
    }
   ],
   "source": [
    "number = 127\n",
    "print(number, 'in hex =', hex(number))\n",
    "\n",
    "number = 0\n",
    "print(number, 'in hex =', hex(number))\n",
    "\n",
    "number = -35\n",
    "print(number, 'in hex =', hex(number))\n",
    "\n",
    "returnType = type(hex(number))\n",
    "print('Return type from hex() is', returnType)"
   ]
  },
  {
   "cell_type": "markdown",
   "id": "cb4dde8a",
   "metadata": {},
   "source": [
    "### id() function\n",
    "Used to get the identity of an object. The identity is a unique integer for that object during its lifetime. This is also the address of the object in memory."
   ]
  },
  {
   "cell_type": "code",
   "execution_count": 98,
   "id": "882ee754",
   "metadata": {},
   "outputs": [
    {
     "name": "stdout",
     "output_type": "stream",
     "text": [
      "id of 6 = 4366326272\n",
      "id of x = 4366326240\n",
      "id of y = 4366326240\n",
      "id of z = 140474831928208\n"
     ]
    }
   ],
   "source": [
    "print('id of 6 =',id(6))\n",
    "\n",
    "x = 5\n",
    "print('id of x =',id(x))\n",
    "\n",
    "y = x\n",
    "print('id of y =',id(y))\n",
    "\n",
    "z = 5.0\n",
    "print('id of z =',id(z))"
   ]
  },
  {
   "cell_type": "markdown",
   "id": "a3b4867c",
   "metadata": {},
   "source": [
    "### input() function\n",
    "Allows user input"
   ]
  },
  {
   "cell_type": "code",
   "execution_count": 107,
   "id": "2ef685cf",
   "metadata": {},
   "outputs": [
    {
     "name": "stdout",
     "output_type": "stream",
     "text": [
      "Enter a string: whatever\n",
      "whatever\n"
     ]
    }
   ],
   "source": [
    "str = input('Enter a string: ')\n",
    "print(str)"
   ]
  },
  {
   "cell_type": "markdown",
   "id": "8fc1a1d6",
   "metadata": {},
   "source": [
    "### int() function\n",
    "Converts the specified value into an integer number"
   ]
  },
  {
   "cell_type": "code",
   "execution_count": 111,
   "id": "bc6a93e9",
   "metadata": {},
   "outputs": [
    {
     "name": "stdout",
     "output_type": "stream",
     "text": [
      "int('225') is: 225\n",
      "int(226.5) is: 226\n"
     ]
    }
   ],
   "source": [
    "# string\n",
    "print(\"int('225') is:\", int('225'))\n",
    "# float\n",
    "print(\"int(226.5) is:\", int(226.5)) #A real stupid 進位法"
   ]
  },
  {
   "cell_type": "markdown",
   "id": "b60cfce8",
   "metadata": {},
   "source": [
    "### isinstance() function\n",
    "Returns true if the object argument is an instance of the classinfo argument, or of a subclass thereof"
   ]
  },
  {
   "cell_type": "code",
   "execution_count": 112,
   "id": "30c4e2c8",
   "metadata": {},
   "outputs": [
    {
     "name": "stdout",
     "output_type": "stream",
     "text": [
      "[2, 4, 6] Instance of list? True\n",
      "[2, 4, 6] Instance of dict? False\n",
      "[2, 4, 6] Instance of dict or list? True\n",
      "[2, 4, 6] Instance of list? True\n",
      "[2, 4, 6] Instance of int? False\n"
     ]
    }
   ],
   "source": [
    "num = [2, 4, 6]\n",
    "\n",
    "x = isinstance(num, list)\n",
    "print(num,'Instance of list?', x)\n",
    "\n",
    "x = isinstance(num, dict)\n",
    "print(num,'Instance of dict?', x)\n",
    "\n",
    "x = isinstance(num, (dict, list))\n",
    "print(num,'Instance of dict or list?', x)\n",
    "\n",
    "number = 7\n",
    "\n",
    "x = isinstance(num, list)\n",
    "print(num,'Instance of list?', x)\n",
    "\n",
    "x = isinstance(num, int)\n",
    "print(num,'Instance of int?', x)"
   ]
  },
  {
   "cell_type": "markdown",
   "id": "cf18416c",
   "metadata": {},
   "source": [
    "### issubclass() function\n",
    "Returns true if the specified object is a subclass of the specified object, otherwise false"
   ]
  },
  {
   "cell_type": "code",
   "execution_count": 114,
   "id": "4b69d668",
   "metadata": {},
   "outputs": [
    {
     "name": "stdout",
     "output_type": "stream",
     "text": [
      "True\n",
      "False\n",
      "True\n",
      "True\n"
     ]
    }
   ],
   "source": [
    "class Square:\n",
    "  def __init__(SquareType):\n",
    "    print('Square is a ', SquareType)\n",
    "\n",
    "class Rectangle(Square):\n",
    "  def __init__(self):\n",
    "    Square.__init__('Rectangle')\n",
    "    \n",
    "print(issubclass(Rectangle, Square))\n",
    "print(issubclass(Rectangle, list))\n",
    "print(issubclass(Rectangle, (list, Square)))\n",
    "print(issubclass(Square, (list, Square)))"
   ]
  },
  {
   "cell_type": "markdown",
   "id": "2e417bcb",
   "metadata": {},
   "source": [
    "### iter() function\n",
    "Returns an iterator object"
   ]
  },
  {
   "cell_type": "code",
   "execution_count": 115,
   "id": "219185e7",
   "metadata": {},
   "outputs": [
    {
     "name": "stdout",
     "output_type": "stream",
     "text": [
      "P\n",
      "y\n",
      "t\n",
      "h\n",
      "o\n",
      "n\n"
     ]
    }
   ],
   "source": [
    "# list of letters\n",
    "letters = ['P', 'y', 't', 'h', 'o', 'n']\n",
    "\n",
    "lettersIter = iter(letters)\n",
    "\n",
    "# prints 'P'\n",
    "print(next(lettersIter))\n",
    "\n",
    "# prints 'y'\n",
    "print(next(lettersIter))\n",
    "\n",
    "# prints 't'\n",
    "print(next(lettersIter))\n",
    "\n",
    "# prints 'h'\n",
    "print(next(lettersIter))\n",
    "\n",
    "# prints 'o'\n",
    "print(next(lettersIter))\n",
    "\n",
    "# prints 'n'\n",
    "print(next(lettersIter))"
   ]
  },
  {
   "cell_type": "markdown",
   "id": "69d61302",
   "metadata": {},
   "source": [
    "### len() function"
   ]
  },
  {
   "cell_type": "code",
   "execution_count": 116,
   "id": "e84d1e37",
   "metadata": {},
   "outputs": [
    {
     "name": "stdout",
     "output_type": "stream",
     "text": [
      "[] length is 0\n"
     ]
    }
   ],
   "source": [
    "ExampleList = []\n",
    "print(ExampleList, 'length is', len(ExampleList))"
   ]
  },
  {
   "cell_type": "markdown",
   "id": "f68a5c5b",
   "metadata": {},
   "source": [
    "### list() function\n",
    "Used to create a list object (list is actually a mutable sequence type)"
   ]
  },
  {
   "cell_type": "code",
   "execution_count": 117,
   "id": "54b56236",
   "metadata": {},
   "outputs": [
    {
     "name": "stdout",
     "output_type": "stream",
     "text": [
      "[1, 3, 9, 27, 81, 243, 729]\n"
     ]
    }
   ],
   "source": [
    "class PythonList:\n",
    "    def __init__(x, max):\n",
    "        x.max = max\n",
    "    \n",
    "    def __iter__(x):\n",
    "        x.number = 0\n",
    "        return x\n",
    "        \n",
    "    def __next__(x):\n",
    "        if(x.number >= x.max):\n",
    "            raise StopIteration\n",
    "        result = 3 ** x.number\n",
    "        x.number += 1\n",
    "        return result\n",
    "\n",
    "PythonList = PythonList(7)\n",
    "PythonListIter = iter(PythonList)\n",
    "\n",
    "print(list(PythonListIter))"
   ]
  },
  {
   "cell_type": "markdown",
   "id": "6332f387",
   "metadata": {},
   "source": [
    "### locals() function\n",
    "Used to get the local symbol table as a dictoinary. "
   ]
  },
  {
   "cell_type": "code",
   "execution_count": 155,
   "id": "544e527d",
   "metadata": {},
   "outputs": [
    {
     "name": "stdout",
     "output_type": "stream",
     "text": [
      "True\n",
      "True\n"
     ]
    }
   ],
   "source": [
    "def localsExample():\n",
    "    Example = True\n",
    "    print(Example)\n",
    "    locals()['Example'] = False;\n",
    "    print(Example)\n",
    "\n",
    "localsExample()\n",
    "#Unlike, globals() dictionary which reflects the change to the actual global table, \n",
    "#locals() dictionary may not change the information inside the locals table."
   ]
  },
  {
   "cell_type": "markdown",
   "id": "7478824b",
   "metadata": {},
   "source": [
    "### map() function\n",
    "Used to execute a specified function for each item in an iterable"
   ]
  },
  {
   "cell_type": "code",
   "execution_count": 119,
   "id": "53018853",
   "metadata": {},
   "outputs": [
    {
     "name": "stdout",
     "output_type": "stream",
     "text": [
      "<map object at 0x7fc27804db80>\n",
      "{16, 9, 64, 4}\n"
     ]
    }
   ],
   "source": [
    "def calSqrt(a):\n",
    "  return a*a\n",
    "\n",
    "num = (2, 3, 4, 8)\n",
    "x = map(calSqrt, num)\n",
    "print(x)\n",
    "\n",
    "# converting map object to set\n",
    "numSqrt = set(x)\n",
    "print(numSqrt)"
   ]
  },
  {
   "cell_type": "markdown",
   "id": "087006e0",
   "metadata": {},
   "source": [
    "### max() function\n",
    "Used to find the item with the largest value in an iterable"
   ]
  },
  {
   "cell_type": "code",
   "execution_count": 120,
   "id": "ff8c1ca5",
   "metadata": {},
   "outputs": [
    {
     "name": "stdout",
     "output_type": "stream",
     "text": [
      "Maximum is: 7\n",
      "Maximum is: 25\n"
     ]
    }
   ],
   "source": [
    "# using max(arg1, arg2, *args)\n",
    "print('Maximum is:', max(2, 5, 3, 7, 6))\n",
    "\n",
    "# using max(iterable)\n",
    "num = [2, 3, 4, 10, 25, 15, 7]\n",
    "print('Maximum is:', max(num))"
   ]
  },
  {
   "cell_type": "markdown",
   "id": "0a624238",
   "metadata": {},
   "source": [
    "### memoryview() function\n",
    "Used to get a memory view object from a specified object"
   ]
  },
  {
   "cell_type": "code",
   "execution_count": 121,
   "id": "7cfc67c7",
   "metadata": {},
   "outputs": [
    {
     "name": "stdout",
     "output_type": "stream",
     "text": [
      "120\n",
      "b'xyz'\n",
      "[120, 121, 122]\n"
     ]
    }
   ],
   "source": [
    "#random bytearray\n",
    "randomByteArray = bytearray('xyz', 'utf-8')\n",
    "\n",
    "a = memoryview(randomByteArray)\n",
    "\n",
    "# access memory view's zeroth index\n",
    "print(a[0])\n",
    "\n",
    "# create byte from memory view\n",
    "print(bytes(a[0:4]))\n",
    "\n",
    "# create list from memory view\n",
    "print(list(a[0:6]))"
   ]
  },
  {
   "cell_type": "markdown",
   "id": "d2b85374",
   "metadata": {},
   "source": [
    "### min() function\n",
    "Used to find the item with the smallest value in an iterable"
   ]
  },
  {
   "cell_type": "code",
   "execution_count": 122,
   "id": "9572e7e5",
   "metadata": {},
   "outputs": [
    {
     "name": "stdout",
     "output_type": "stream",
     "text": [
      "Minimum is: 2\n",
      "Minimum is: 1\n"
     ]
    }
   ],
   "source": [
    "# using min(arg1, arg2, *args)\n",
    "print('Minimum is:', min(2, 5, 3, 7, 6))\n",
    "\n",
    "# using min(iterable)\n",
    "num = [1, 3, 4, 10, 25, 15, 7]\n",
    "print('Minimum is:', min(num))"
   ]
  },
  {
   "cell_type": "markdown",
   "id": "c87f9d97",
   "metadata": {},
   "source": [
    "### next() function\n",
    "Used to get the next item in an iterator"
   ]
  },
  {
   "cell_type": "code",
   "execution_count": 124,
   "id": "b5d7e613",
   "metadata": {},
   "outputs": [
    {
     "name": "stdout",
     "output_type": "stream",
     "text": [
      "<list_iterator object at 0x7fc27804d7f0>\n",
      "7\n",
      "15\n",
      "Python\n"
     ]
    }
   ],
   "source": [
    "items = [7, 15, 'Python']\n",
    "\n",
    "# converting list to iterator\n",
    "itemsIterator = iter(items)\n",
    "print(itemsIterator)\n",
    "\n",
    "# Output: 7\n",
    "print(next(itemsIterator))\n",
    "\n",
    "# Output: 15\n",
    "print(next(itemsIterator))\n",
    "\n",
    "# Output: 'Python'\n",
    "print(next(itemsIterator))"
   ]
  },
  {
   "cell_type": "markdown",
   "id": "ba684cd0",
   "metadata": {},
   "source": [
    "### object() function\n",
    "Used to create an empty object"
   ]
  },
  {
   "cell_type": "markdown",
   "id": "f5760d66",
   "metadata": {},
   "source": [
    "### oct() function\n",
    "Used to convert an integer number to an octal string"
   ]
  },
  {
   "cell_type": "code",
   "execution_count": 125,
   "id": "540069ea",
   "metadata": {},
   "outputs": [
    {
     "name": "stdout",
     "output_type": "stream",
     "text": [
      "oct(11) is: 0o13\n",
      "oct(0b110) is: 0o6\n",
      "oct(0XB) is: 0o13\n"
     ]
    }
   ],
   "source": [
    "# decimal number\n",
    "print('oct(11) is:', oct(11))\n",
    "\n",
    "# binary number\n",
    "print('oct(0b110) is:', oct(0b110))\n",
    "\n",
    "# hexadecimal number\n",
    "print('oct(0XB) is:', oct(0XB))"
   ]
  },
  {
   "cell_type": "markdown",
   "id": "39c79706",
   "metadata": {},
   "source": [
    "### open() function\n",
    "Used to open a file and returns it as a file object"
   ]
  },
  {
   "cell_type": "markdown",
   "id": "fc70237c",
   "metadata": {},
   "source": [
    "### ord() function\n",
    "Used to get an integer representing the Unicode code point of that character"
   ]
  },
  {
   "cell_type": "code",
   "execution_count": 127,
   "id": "e2fe846f",
   "metadata": {},
   "outputs": [
    {
     "name": "stdout",
     "output_type": "stream",
     "text": [
      "55\n",
      "66\n",
      "38\n"
     ]
    }
   ],
   "source": [
    "# code point of integer\n",
    "print(ord('7'))\n",
    "\n",
    "# code point of alphabet \n",
    "print(ord('B'))\n",
    "\n",
    "# code point of character\n",
    "print(ord('&'))"
   ]
  },
  {
   "cell_type": "markdown",
   "id": "b053d8db",
   "metadata": {},
   "source": [
    "### pow() function\n",
    "Used to get the value of x to the power of y"
   ]
  },
  {
   "cell_type": "code",
   "execution_count": 128,
   "id": "3e8a4b3a",
   "metadata": {},
   "outputs": [
    {
     "name": "stdout",
     "output_type": "stream",
     "text": [
      "81.0\n"
     ]
    }
   ],
   "source": [
    "print(pow(3, 4))"
   ]
  },
  {
   "cell_type": "markdown",
   "id": "38c8cc7a",
   "metadata": {},
   "source": [
    "### print() function"
   ]
  },
  {
   "cell_type": "markdown",
   "id": "8a0f3fff",
   "metadata": {},
   "source": [
    "### property() function\n",
    "Return a property attribute"
   ]
  },
  {
   "cell_type": "code",
   "execution_count": 131,
   "id": "a0a98ba7",
   "metadata": {},
   "outputs": [
    {
     "name": "stdout",
     "output_type": "stream",
     "text": [
      "Getting name\n",
      "The name is: Bishop\n",
      "Setting name to Anthony\n",
      "Deleting name\n"
     ]
    }
   ],
   "source": [
    "class Example:\n",
    "    def __init__(self, name):\n",
    "        self._name = name\n",
    "\n",
    "    @property\n",
    "    def name(self):\n",
    "        print('Getting name')\n",
    "        return self._name\n",
    "\n",
    "    @name.setter\n",
    "    def name(self, value):\n",
    "        print('Setting name to ' + value)\n",
    "        self._name = value\n",
    "\n",
    "    @name.deleter\n",
    "    def name(self):\n",
    "        print('Deleting name')\n",
    "        del self._name\n",
    "\n",
    "x = Example('Bishop')\n",
    "print('The name is:', x.name)\n",
    "\n",
    "x.name = 'Anthony'\n",
    "\n",
    "del x.name"
   ]
  },
  {
   "cell_type": "markdown",
   "id": "dc3d911e",
   "metadata": {},
   "source": [
    "### range() function\n",
    "Used to get a sequence of numbers, starting from 0 by default, and increments by 1 by default, and ends at a specified number"
   ]
  },
  {
   "cell_type": "markdown",
   "id": "19672140",
   "metadata": {},
   "source": [
    "### repr() function\n",
    "Returns a string containing a printable representation of an object"
   ]
  },
  {
   "cell_type": "code",
   "execution_count": 132,
   "id": "0b5e0753",
   "metadata": {},
   "outputs": [
    {
     "name": "stdout",
     "output_type": "stream",
     "text": [
      "'Bishop'\n"
     ]
    }
   ],
   "source": [
    "class Example:\n",
    "    name = 'Bishop'\n",
    "\n",
    "    def __repr__(self):\n",
    "        return repr(self.name)\n",
    "\n",
    "print(repr(Example()))"
   ]
  },
  {
   "cell_type": "markdown",
   "id": "83297178",
   "metadata": {},
   "source": [
    "### reversed() function\n",
    "Used to get a reverse iterator"
   ]
  },
  {
   "cell_type": "code",
   "execution_count": 133,
   "id": "28e279ad",
   "metadata": {},
   "outputs": [
    {
     "name": "stdout",
     "output_type": "stream",
     "text": [
      "['e', 's', 'i', 'c', 'r', 'e', 'x', 'E']\n",
      "['n', 'o', 'h', 't', 'y', 'P']\n",
      "[11, 10, 9, 8, 7, 6, 5, 4, 3, 2]\n",
      "[6, 5, 3, 4, 2, 1]\n"
     ]
    }
   ],
   "source": [
    "# for string\n",
    "seqStr = 'Exercise'\n",
    "print(list(reversed(seqStr)))\n",
    "\n",
    "# for tuple\n",
    "seqTup = ('P', 'y', 't', 'h', 'o', 'n')\n",
    "print(list(reversed(seqTup)))\n",
    "\n",
    "# for range\n",
    "seqRan = range(2, 12)\n",
    "print(list(reversed(seqRan)))\n",
    "\n",
    "# for list\n",
    "seqList = [1, 2, 4, 3, 5, 6]\n",
    "print(list(reversed(seqList)))"
   ]
  },
  {
   "cell_type": "markdown",
   "id": "6e856e78",
   "metadata": {},
   "source": [
    "### round() function\n",
    "Returns the rounded floating point value number, rounded to ndigits digits after the decimal point. If ndigits is omitted, it defaults to zero"
   ]
  },
  {
   "cell_type": "code",
   "execution_count": 134,
   "id": "638cc3f7",
   "metadata": {},
   "outputs": [
    {
     "name": "stdout",
     "output_type": "stream",
     "text": [
      "5\n",
      "16\n",
      "7\n"
     ]
    }
   ],
   "source": [
    "# for integers\n",
    "print(round(5))\n",
    "\n",
    "# for floating point\n",
    "print(round(15.7))\n",
    "\n",
    "# even choice\n",
    "print(round(7.3))"
   ]
  },
  {
   "cell_type": "markdown",
   "id": "d08739dd",
   "metadata": {},
   "source": [
    "### set() function\n",
    "Used to create a set object"
   ]
  },
  {
   "cell_type": "code",
   "execution_count": 135,
   "id": "1b3ea1d8",
   "metadata": {},
   "outputs": [
    {
     "name": "stdout",
     "output_type": "stream",
     "text": [
      "set()\n",
      "{'h', 'n', 'P', 't', 'o', 'y'}\n",
      "{'i', 's', 'c', 'e', 'r', 'x'}\n",
      "{'a', 'i', 'o', 'e', 'u'}\n",
      "{0, 1, 2, 3, 4, 5, 6}\n"
     ]
    }
   ],
   "source": [
    "# empty set\n",
    "print(set())\n",
    "\n",
    "# from string\n",
    "print(set('Python'))\n",
    "\n",
    "# from tuple\n",
    "print(set(('e', 'x', 'e', 'r', 'c', 'i','s','e')))\n",
    "\n",
    "# from list\n",
    "print(set(['a', 'e', 'i', 'o', 'u']))\n",
    "\n",
    "# from range\n",
    "print(set(range(7)))"
   ]
  },
  {
   "cell_type": "markdown",
   "id": "e7babce4",
   "metadata": {},
   "source": [
    "### setattr() function\n",
    "Used to set the value of the specified attribute of the specified object"
   ]
  },
  {
   "cell_type": "code",
   "execution_count": 137,
   "id": "13e77caa",
   "metadata": {},
   "outputs": [
    {
     "name": "stdout",
     "output_type": "stream",
     "text": [
      "Bishop\n",
      "Henry\n"
     ]
    }
   ],
   "source": [
    "class Person:\n",
    "    name = 'Bishop'\n",
    "\n",
    "p = Person()\n",
    "print(p.name)\n",
    "\n",
    "setattr(p, 'name', 'Henry')\n",
    "print(p.name)"
   ]
  },
  {
   "cell_type": "markdown",
   "id": "cf11932b",
   "metadata": {},
   "source": [
    "### slice() function\n",
    "Used to get a slice object representing the set of indices specified by range(start, stop, step)"
   ]
  },
  {
   "cell_type": "code",
   "execution_count": 138,
   "id": "3c800683",
   "metadata": {},
   "outputs": [
    {
     "name": "stdout",
     "output_type": "stream",
     "text": [
      "Pyth\n",
      "yh\n"
     ]
    }
   ],
   "source": [
    "pyStr = 'Python'\n",
    "\n",
    "# contains indices (0, 1, 2, 3)\n",
    "# i.e. P, y , t and h\n",
    "sliceObj = slice(4)\n",
    "\n",
    "print(pyStr[sliceObj])\n",
    "\n",
    "# contains indices (1, 5)\n",
    "# i.e. y and h\n",
    "sliceObj = slice(1,5, 2)\n",
    "\n",
    "print(pyStr[sliceObj])"
   ]
  },
  {
   "cell_type": "markdown",
   "id": "9cbc6cc8",
   "metadata": {},
   "source": [
    "### sorted() function\n",
    "Used to get a new sorted list from the items in iterable"
   ]
  },
  {
   "cell_type": "code",
   "execution_count": 139,
   "id": "79803a0d",
   "metadata": {},
   "outputs": [
    {
     "name": "stdout",
     "output_type": "stream",
     "text": [
      "['a', 'e', 'i', 'o', 'u']\n",
      "['P', 'h', 'n', 'o', 't', 'y']\n",
      "['a', 'e', 'i', 'o', 'u']\n"
     ]
    }
   ],
   "source": [
    "# vowels list\n",
    "pyList = ['a', 'e', 'i', 'o', 'u']\n",
    "print(sorted(pyList))\n",
    "\n",
    "# string \n",
    "pyStr = 'Python'\n",
    "print(sorted(pyStr))\n",
    "\n",
    "# vowels tuple\n",
    "pyTuple = ('a', 'e', 'i', 'o', 'u')\n",
    "print(sorted(pyTuple))"
   ]
  },
  {
   "cell_type": "markdown",
   "id": "8a8c474a",
   "metadata": {},
   "source": [
    "### str() function\n",
    "Used to convert the specified value into a string"
   ]
  },
  {
   "cell_type": "markdown",
   "id": "391c2389",
   "metadata": {},
   "source": [
    "### sum() function\n",
    "Used to get the sum of all items in an iterable"
   ]
  },
  {
   "cell_type": "markdown",
   "id": "d696a5e9",
   "metadata": {},
   "source": [
    "### tuple() function\n",
    "Used to create a tuple in Python. Iterable may be a sequence, a container that supports iteration, or an iterator object"
   ]
  },
  {
   "cell_type": "code",
   "execution_count": 151,
   "id": "870b33b7",
   "metadata": {},
   "outputs": [
    {
     "name": "stdout",
     "output_type": "stream",
     "text": [
      "tup1= ()\n",
      "tup2= (2, 6, 10)\n",
      "tup1= ('P', 'y', 't', 'h', 'o', 'n', ' ', 'E', 'x', 'e', 'r', 'c', 'i', 's', 'e')\n",
      "tup1= (3, 4)\n"
     ]
    }
   ],
   "source": [
    "tup1 = tuple()\n",
    "print('tup1=', tup1)\n",
    "\n",
    "# creating a tuple from a list\n",
    "tup2 = tuple([2, 6, 10])\n",
    "print('tup2=', tup2)\n",
    "\n",
    "# creating a tuple from a string\n",
    "tup1 = tuple('Python Exercise')\n",
    "print('tup1=',tup1)\n",
    "\n",
    "# creating a tuple from a dictionary\n",
    "tup1 = tuple({3: 'three', 4: 'four'})\n",
    "print('tup1=',tup1)"
   ]
  },
  {
   "cell_type": "markdown",
   "id": "927f09fc",
   "metadata": {},
   "source": [
    "### type() function\n",
    "Used to get the type of an object"
   ]
  },
  {
   "cell_type": "code",
   "execution_count": 152,
   "id": "17b83254",
   "metadata": {},
   "outputs": [
    {
     "name": "stdout",
     "output_type": "stream",
     "text": [
      "<class 'int'>\n"
     ]
    }
   ],
   "source": [
    "x = 5\n",
    "print(type(x))"
   ]
  },
  {
   "cell_type": "markdown",
   "id": "114ecc47",
   "metadata": {},
   "source": [
    "### vars() function\n",
    "Used to get the \\_\\_dict\\_\\_ attribute of the given object"
   ]
  },
  {
   "cell_type": "code",
   "execution_count": 153,
   "id": "80117663",
   "metadata": {},
   "outputs": [
    {
     "name": "stdout",
     "output_type": "stream",
     "text": [
      "{'a': 10, 'b': 20, 'c': -21, 'd': 6}\n"
     ]
    }
   ],
   "source": [
    "class Test:\n",
    "  def __init__(self, a = 10, b = 20, c = -21, d = 6):\n",
    "    self.a = a\n",
    "    self.b = b\n",
    "    self.c = c\n",
    "    self.d = d\n",
    "InstanceOfTest = Test()\n",
    "print(vars(InstanceOfTest))"
   ]
  },
  {
   "cell_type": "markdown",
   "id": "fe03bccc",
   "metadata": {},
   "source": [
    "### zip() function\n",
    "Used to make an iterator that aggregates the elements from each of the iterables. The iterator stops when the shortest input iterable is exhausted. With a single iterable argument, it returns an iterator of 1-tuples. With no arguments, it returns an empty iterator. "
   ]
  },
  {
   "cell_type": "code",
   "execution_count": 154,
   "id": "eebe342a",
   "metadata": {},
   "outputs": [
    {
     "name": "stdout",
     "output_type": "stream",
     "text": [
      "[(1, 4), (2, 5), (3, 6)]\n"
     ]
    }
   ],
   "source": [
    "x = [1, 2, 3]\n",
    "y = [4, 5, 6]\n",
    "zipped = zip(x, y)\n",
    "print(list(zipped))"
   ]
  }
 ],
 "metadata": {
  "kernelspec": {
   "display_name": "Python 3",
   "language": "python",
   "name": "python3"
  },
  "language_info": {
   "codemirror_mode": {
    "name": "ipython",
    "version": 3
   },
   "file_extension": ".py",
   "mimetype": "text/x-python",
   "name": "python",
   "nbconvert_exporter": "python",
   "pygments_lexer": "ipython3",
   "version": "3.8.8"
  }
 },
 "nbformat": 4,
 "nbformat_minor": 5
}
